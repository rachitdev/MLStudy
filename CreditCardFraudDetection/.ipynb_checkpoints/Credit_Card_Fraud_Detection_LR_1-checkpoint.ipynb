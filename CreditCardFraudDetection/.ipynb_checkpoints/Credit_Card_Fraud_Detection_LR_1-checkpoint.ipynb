{
 "cells": [
  {
   "cell_type": "code",
   "execution_count": 1,
   "metadata": {},
   "outputs": [],
   "source": [
    "import numpy as np\n",
    "import pandas as pd"
   ]
  },
  {
   "cell_type": "code",
   "execution_count": 2,
   "metadata": {},
   "outputs": [],
   "source": [
    "import warnings\n",
    "warnings.filterwarnings('ignore')\n",
    "\n",
    "# settings to see the data.\n",
    "pd.options.display.max_columns = None\n",
    "pd.options.display.max_rows = None\n",
    "pd.options.display.max_colwidth = 500"
   ]
  },
  {
   "cell_type": "code",
   "execution_count": 3,
   "metadata": {},
   "outputs": [
    {
     "data": {
      "text/html": [
       "<div>\n",
       "<style scoped>\n",
       "    .dataframe tbody tr th:only-of-type {\n",
       "        vertical-align: middle;\n",
       "    }\n",
       "\n",
       "    .dataframe tbody tr th {\n",
       "        vertical-align: top;\n",
       "    }\n",
       "\n",
       "    .dataframe thead th {\n",
       "        text-align: right;\n",
       "    }\n",
       "</style>\n",
       "<table border=\"1\" class=\"dataframe\">\n",
       "  <thead>\n",
       "    <tr style=\"text-align: right;\">\n",
       "      <th></th>\n",
       "      <th>Time</th>\n",
       "      <th>V1</th>\n",
       "      <th>V2</th>\n",
       "      <th>V3</th>\n",
       "      <th>V4</th>\n",
       "      <th>V5</th>\n",
       "      <th>V6</th>\n",
       "      <th>V7</th>\n",
       "      <th>V8</th>\n",
       "      <th>V9</th>\n",
       "      <th>V10</th>\n",
       "      <th>V11</th>\n",
       "      <th>V12</th>\n",
       "      <th>V13</th>\n",
       "      <th>V14</th>\n",
       "      <th>V15</th>\n",
       "      <th>V16</th>\n",
       "      <th>V17</th>\n",
       "      <th>V18</th>\n",
       "      <th>V19</th>\n",
       "      <th>V20</th>\n",
       "      <th>V21</th>\n",
       "      <th>V22</th>\n",
       "      <th>V23</th>\n",
       "      <th>V24</th>\n",
       "      <th>V25</th>\n",
       "      <th>V26</th>\n",
       "      <th>V27</th>\n",
       "      <th>V28</th>\n",
       "      <th>Amount</th>\n",
       "      <th>Class</th>\n",
       "    </tr>\n",
       "  </thead>\n",
       "  <tbody>\n",
       "    <tr>\n",
       "      <th>0</th>\n",
       "      <td>0.0</td>\n",
       "      <td>-1.359807</td>\n",
       "      <td>-0.072781</td>\n",
       "      <td>2.536347</td>\n",
       "      <td>1.378155</td>\n",
       "      <td>-0.338321</td>\n",
       "      <td>0.462388</td>\n",
       "      <td>0.239599</td>\n",
       "      <td>0.098698</td>\n",
       "      <td>0.363787</td>\n",
       "      <td>0.090794</td>\n",
       "      <td>-0.551600</td>\n",
       "      <td>-0.617801</td>\n",
       "      <td>-0.991390</td>\n",
       "      <td>-0.311169</td>\n",
       "      <td>1.468177</td>\n",
       "      <td>-0.470401</td>\n",
       "      <td>0.207971</td>\n",
       "      <td>0.025791</td>\n",
       "      <td>0.403993</td>\n",
       "      <td>0.251412</td>\n",
       "      <td>-0.018307</td>\n",
       "      <td>0.277838</td>\n",
       "      <td>-0.110474</td>\n",
       "      <td>0.066928</td>\n",
       "      <td>0.128539</td>\n",
       "      <td>-0.189115</td>\n",
       "      <td>0.133558</td>\n",
       "      <td>-0.021053</td>\n",
       "      <td>149.62</td>\n",
       "      <td>0</td>\n",
       "    </tr>\n",
       "    <tr>\n",
       "      <th>1</th>\n",
       "      <td>0.0</td>\n",
       "      <td>1.191857</td>\n",
       "      <td>0.266151</td>\n",
       "      <td>0.166480</td>\n",
       "      <td>0.448154</td>\n",
       "      <td>0.060018</td>\n",
       "      <td>-0.082361</td>\n",
       "      <td>-0.078803</td>\n",
       "      <td>0.085102</td>\n",
       "      <td>-0.255425</td>\n",
       "      <td>-0.166974</td>\n",
       "      <td>1.612727</td>\n",
       "      <td>1.065235</td>\n",
       "      <td>0.489095</td>\n",
       "      <td>-0.143772</td>\n",
       "      <td>0.635558</td>\n",
       "      <td>0.463917</td>\n",
       "      <td>-0.114805</td>\n",
       "      <td>-0.183361</td>\n",
       "      <td>-0.145783</td>\n",
       "      <td>-0.069083</td>\n",
       "      <td>-0.225775</td>\n",
       "      <td>-0.638672</td>\n",
       "      <td>0.101288</td>\n",
       "      <td>-0.339846</td>\n",
       "      <td>0.167170</td>\n",
       "      <td>0.125895</td>\n",
       "      <td>-0.008983</td>\n",
       "      <td>0.014724</td>\n",
       "      <td>2.69</td>\n",
       "      <td>0</td>\n",
       "    </tr>\n",
       "    <tr>\n",
       "      <th>2</th>\n",
       "      <td>1.0</td>\n",
       "      <td>-1.358354</td>\n",
       "      <td>-1.340163</td>\n",
       "      <td>1.773209</td>\n",
       "      <td>0.379780</td>\n",
       "      <td>-0.503198</td>\n",
       "      <td>1.800499</td>\n",
       "      <td>0.791461</td>\n",
       "      <td>0.247676</td>\n",
       "      <td>-1.514654</td>\n",
       "      <td>0.207643</td>\n",
       "      <td>0.624501</td>\n",
       "      <td>0.066084</td>\n",
       "      <td>0.717293</td>\n",
       "      <td>-0.165946</td>\n",
       "      <td>2.345865</td>\n",
       "      <td>-2.890083</td>\n",
       "      <td>1.109969</td>\n",
       "      <td>-0.121359</td>\n",
       "      <td>-2.261857</td>\n",
       "      <td>0.524980</td>\n",
       "      <td>0.247998</td>\n",
       "      <td>0.771679</td>\n",
       "      <td>0.909412</td>\n",
       "      <td>-0.689281</td>\n",
       "      <td>-0.327642</td>\n",
       "      <td>-0.139097</td>\n",
       "      <td>-0.055353</td>\n",
       "      <td>-0.059752</td>\n",
       "      <td>378.66</td>\n",
       "      <td>0</td>\n",
       "    </tr>\n",
       "    <tr>\n",
       "      <th>3</th>\n",
       "      <td>1.0</td>\n",
       "      <td>-0.966272</td>\n",
       "      <td>-0.185226</td>\n",
       "      <td>1.792993</td>\n",
       "      <td>-0.863291</td>\n",
       "      <td>-0.010309</td>\n",
       "      <td>1.247203</td>\n",
       "      <td>0.237609</td>\n",
       "      <td>0.377436</td>\n",
       "      <td>-1.387024</td>\n",
       "      <td>-0.054952</td>\n",
       "      <td>-0.226487</td>\n",
       "      <td>0.178228</td>\n",
       "      <td>0.507757</td>\n",
       "      <td>-0.287924</td>\n",
       "      <td>-0.631418</td>\n",
       "      <td>-1.059647</td>\n",
       "      <td>-0.684093</td>\n",
       "      <td>1.965775</td>\n",
       "      <td>-1.232622</td>\n",
       "      <td>-0.208038</td>\n",
       "      <td>-0.108300</td>\n",
       "      <td>0.005274</td>\n",
       "      <td>-0.190321</td>\n",
       "      <td>-1.175575</td>\n",
       "      <td>0.647376</td>\n",
       "      <td>-0.221929</td>\n",
       "      <td>0.062723</td>\n",
       "      <td>0.061458</td>\n",
       "      <td>123.50</td>\n",
       "      <td>0</td>\n",
       "    </tr>\n",
       "    <tr>\n",
       "      <th>4</th>\n",
       "      <td>2.0</td>\n",
       "      <td>-1.158233</td>\n",
       "      <td>0.877737</td>\n",
       "      <td>1.548718</td>\n",
       "      <td>0.403034</td>\n",
       "      <td>-0.407193</td>\n",
       "      <td>0.095921</td>\n",
       "      <td>0.592941</td>\n",
       "      <td>-0.270533</td>\n",
       "      <td>0.817739</td>\n",
       "      <td>0.753074</td>\n",
       "      <td>-0.822843</td>\n",
       "      <td>0.538196</td>\n",
       "      <td>1.345852</td>\n",
       "      <td>-1.119670</td>\n",
       "      <td>0.175121</td>\n",
       "      <td>-0.451449</td>\n",
       "      <td>-0.237033</td>\n",
       "      <td>-0.038195</td>\n",
       "      <td>0.803487</td>\n",
       "      <td>0.408542</td>\n",
       "      <td>-0.009431</td>\n",
       "      <td>0.798278</td>\n",
       "      <td>-0.137458</td>\n",
       "      <td>0.141267</td>\n",
       "      <td>-0.206010</td>\n",
       "      <td>0.502292</td>\n",
       "      <td>0.219422</td>\n",
       "      <td>0.215153</td>\n",
       "      <td>69.99</td>\n",
       "      <td>0</td>\n",
       "    </tr>\n",
       "  </tbody>\n",
       "</table>\n",
       "</div>"
      ],
      "text/plain": [
       "   Time        V1        V2        V3        V4        V5        V6        V7  \\\n",
       "0   0.0 -1.359807 -0.072781  2.536347  1.378155 -0.338321  0.462388  0.239599   \n",
       "1   0.0  1.191857  0.266151  0.166480  0.448154  0.060018 -0.082361 -0.078803   \n",
       "2   1.0 -1.358354 -1.340163  1.773209  0.379780 -0.503198  1.800499  0.791461   \n",
       "3   1.0 -0.966272 -0.185226  1.792993 -0.863291 -0.010309  1.247203  0.237609   \n",
       "4   2.0 -1.158233  0.877737  1.548718  0.403034 -0.407193  0.095921  0.592941   \n",
       "\n",
       "         V8        V9       V10       V11       V12       V13       V14  \\\n",
       "0  0.098698  0.363787  0.090794 -0.551600 -0.617801 -0.991390 -0.311169   \n",
       "1  0.085102 -0.255425 -0.166974  1.612727  1.065235  0.489095 -0.143772   \n",
       "2  0.247676 -1.514654  0.207643  0.624501  0.066084  0.717293 -0.165946   \n",
       "3  0.377436 -1.387024 -0.054952 -0.226487  0.178228  0.507757 -0.287924   \n",
       "4 -0.270533  0.817739  0.753074 -0.822843  0.538196  1.345852 -1.119670   \n",
       "\n",
       "        V15       V16       V17       V18       V19       V20       V21  \\\n",
       "0  1.468177 -0.470401  0.207971  0.025791  0.403993  0.251412 -0.018307   \n",
       "1  0.635558  0.463917 -0.114805 -0.183361 -0.145783 -0.069083 -0.225775   \n",
       "2  2.345865 -2.890083  1.109969 -0.121359 -2.261857  0.524980  0.247998   \n",
       "3 -0.631418 -1.059647 -0.684093  1.965775 -1.232622 -0.208038 -0.108300   \n",
       "4  0.175121 -0.451449 -0.237033 -0.038195  0.803487  0.408542 -0.009431   \n",
       "\n",
       "        V22       V23       V24       V25       V26       V27       V28  \\\n",
       "0  0.277838 -0.110474  0.066928  0.128539 -0.189115  0.133558 -0.021053   \n",
       "1 -0.638672  0.101288 -0.339846  0.167170  0.125895 -0.008983  0.014724   \n",
       "2  0.771679  0.909412 -0.689281 -0.327642 -0.139097 -0.055353 -0.059752   \n",
       "3  0.005274 -0.190321 -1.175575  0.647376 -0.221929  0.062723  0.061458   \n",
       "4  0.798278 -0.137458  0.141267 -0.206010  0.502292  0.219422  0.215153   \n",
       "\n",
       "   Amount  Class  \n",
       "0  149.62      0  \n",
       "1    2.69      0  \n",
       "2  378.66      0  \n",
       "3  123.50      0  \n",
       "4   69.99      0  "
      ]
     },
     "execution_count": 3,
     "metadata": {},
     "output_type": "execute_result"
    }
   ],
   "source": [
    "df = pd.read_csv(\"creditcard.csv\")\n",
    "df.head()"
   ]
  },
  {
   "cell_type": "code",
   "execution_count": 4,
   "metadata": {},
   "outputs": [],
   "source": [
    "from sklearn.preprocessing import PowerTransformer"
   ]
  },
  {
   "cell_type": "code",
   "execution_count": 5,
   "metadata": {},
   "outputs": [],
   "source": [
    "scaler = PowerTransformer(method='yeo-johnson')\n",
    "df[['V1', 'V2', 'V3', 'V4', 'V5', 'V6', 'V7', 'V8', 'V9', 'V10',\n",
    "       'V11', 'V12', 'V13', 'V14', 'V15', 'V16', 'V17', 'V18', 'V19', 'V20',\n",
    "       'V21', 'V22', 'V23', 'V24', 'V25', 'V26', 'V27', 'V28', 'Amount']] = scaler.fit_transform(df[['V1', 'V2', 'V3', 'V4', 'V5', 'V6', 'V7', 'V8', 'V9', 'V10',\n",
    "       'V11', 'V12', 'V13', 'V14', 'V15', 'V16', 'V17', 'V18', 'V19', 'V20',\n",
    "       'V21', 'V22', 'V23', 'V24', 'V25', 'V26', 'V27', 'V28', 'Amount']])"
   ]
  },
  {
   "cell_type": "code",
   "execution_count": 6,
   "metadata": {},
   "outputs": [],
   "source": [
    "df_fraud = df[df.Class.eq(1)]"
   ]
  },
  {
   "cell_type": "code",
   "execution_count": 7,
   "metadata": {},
   "outputs": [],
   "source": [
    "df_norm = df[df.Class.eq(0)]"
   ]
  },
  {
   "cell_type": "code",
   "execution_count": 8,
   "metadata": {},
   "outputs": [],
   "source": [
    "df_val_norm = df_norm.head(200)"
   ]
  },
  {
   "cell_type": "code",
   "execution_count": 9,
   "metadata": {},
   "outputs": [],
   "source": [
    "df_val_fraud = df_fraud.tail(200)"
   ]
  },
  {
   "cell_type": "code",
   "execution_count": 10,
   "metadata": {},
   "outputs": [],
   "source": [
    "df_val = df_val_norm.append(df_val_fraud, ignore_index=True)"
   ]
  },
  {
   "cell_type": "code",
   "execution_count": 11,
   "metadata": {},
   "outputs": [],
   "source": [
    "X_val = df_val[['V1', 'V2', 'V3', 'V4', 'V5', 'V6', 'V7', 'V8', 'V9', 'V10',\n",
    "       'V11', 'V12', 'V13', 'V14', 'V15', 'V16', 'V17', 'V18', 'V19', 'V20',\n",
    "       'V21', 'V22', 'V23', 'V24', 'V25', 'V26', 'V27', 'V28', 'Amount']]"
   ]
  },
  {
   "cell_type": "code",
   "execution_count": 12,
   "metadata": {},
   "outputs": [],
   "source": [
    "y_val = df_val[['Class']]"
   ]
  },
  {
   "cell_type": "code",
   "execution_count": 13,
   "metadata": {},
   "outputs": [],
   "source": [
    "df_train_norm = df_norm.iloc[200:]"
   ]
  },
  {
   "cell_type": "code",
   "execution_count": 14,
   "metadata": {},
   "outputs": [],
   "source": [
    "df_train_fraud = df_fraud.iloc[:-200]"
   ]
  },
  {
   "cell_type": "code",
   "execution_count": 15,
   "metadata": {},
   "outputs": [],
   "source": [
    "df_train = df_train_norm.append(df_train_fraud, ignore_index=True)"
   ]
  },
  {
   "cell_type": "code",
   "execution_count": 16,
   "metadata": {},
   "outputs": [
    {
     "name": "stderr",
     "output_type": "stream",
     "text": [
      "Using TensorFlow backend.\n"
     ]
    }
   ],
   "source": [
    "import imblearn\n",
    "from collections import Counter\n",
    "from sklearn.datasets import make_classification\n",
    "from imblearn.over_sampling import ADASYN\n",
    "from matplotlib import pyplot\n",
    "from numpy import where"
   ]
  },
  {
   "cell_type": "code",
   "execution_count": 17,
   "metadata": {},
   "outputs": [],
   "source": [
    "X = df_train[['V1', 'V2', 'V3', 'V4', 'V5', 'V6', 'V7', 'V8', 'V9', 'V10',\n",
    "       'V11', 'V12', 'V13', 'V14', 'V15', 'V16', 'V17', 'V18', 'V19', 'V20',\n",
    "       'V21', 'V22', 'V23', 'V24', 'V25', 'V26', 'V27', 'V28', 'Amount']]"
   ]
  },
  {
   "cell_type": "code",
   "execution_count": 18,
   "metadata": {},
   "outputs": [
    {
     "data": {
      "text/plain": [
       "Index(['V1', 'V2', 'V3', 'V4', 'V5', 'V6', 'V7', 'V8', 'V9', 'V10', 'V11',\n",
       "       'V12', 'V13', 'V14', 'V15', 'V16', 'V17', 'V18', 'V19', 'V20', 'V21',\n",
       "       'V22', 'V23', 'V24', 'V25', 'V26', 'V27', 'V28', 'Amount'],\n",
       "      dtype='object')"
      ]
     },
     "execution_count": 18,
     "metadata": {},
     "output_type": "execute_result"
    }
   ],
   "source": [
    "col_x = X.columns\n",
    "col_x"
   ]
  },
  {
   "cell_type": "code",
   "execution_count": 19,
   "metadata": {},
   "outputs": [],
   "source": [
    "y = df_train[['Class']]"
   ]
  },
  {
   "cell_type": "code",
   "execution_count": 20,
   "metadata": {},
   "outputs": [
    {
     "data": {
      "text/plain": [
       "Index(['Class'], dtype='object')"
      ]
     },
     "execution_count": 20,
     "metadata": {},
     "output_type": "execute_result"
    }
   ],
   "source": [
    "col_y = y.columns\n",
    "col_y"
   ]
  },
  {
   "cell_type": "code",
   "execution_count": 21,
   "metadata": {},
   "outputs": [],
   "source": [
    "# transform the dataset\n",
    "oversample = ADASYN()"
   ]
  },
  {
   "cell_type": "code",
   "execution_count": 22,
   "metadata": {},
   "outputs": [],
   "source": [
    "# transform the dataset\n",
    "X, y = oversample.fit_resample(X, y)\n",
    "y =pd.Series(y)"
   ]
  },
  {
   "cell_type": "code",
   "execution_count": 23,
   "metadata": {},
   "outputs": [],
   "source": [
    "X = pd.DataFrame(X)\n",
    "y = pd.DataFrame(y)"
   ]
  },
  {
   "cell_type": "code",
   "execution_count": 24,
   "metadata": {},
   "outputs": [],
   "source": [
    "X.columns = col_x\n",
    "y.columns = col_y"
   ]
  },
  {
   "cell_type": "code",
   "execution_count": 25,
   "metadata": {},
   "outputs": [],
   "source": [
    "from sklearn.model_selection import train_test_split \n",
    "X_train, X_test, y_train, y_test = train_test_split(X, y, train_size=0.7,test_size=0.3,random_state=100) "
   ]
  },
  {
   "cell_type": "code",
   "execution_count": 26,
   "metadata": {},
   "outputs": [],
   "source": [
    "import statsmodels.api as sm\n",
    "from sklearn.linear_model import LogisticRegression\n",
    "from sklearn.feature_selection import RFE\n",
    "from statsmodels.stats.outliers_influence import variance_inflation_factor"
   ]
  },
  {
   "cell_type": "code",
   "execution_count": 28,
   "metadata": {},
   "outputs": [
    {
     "data": {
      "text/html": [
       "<table class=\"simpletable\">\n",
       "<caption>Generalized Linear Model Regression Results</caption>\n",
       "<tr>\n",
       "  <th>Dep. Variable:</th>        <td>Class</td>      <th>  No. Observations:  </th>  <td>397799</td>  \n",
       "</tr>\n",
       "<tr>\n",
       "  <th>Model:</th>                 <td>GLM</td>       <th>  Df Residuals:      </th>  <td>397769</td>  \n",
       "</tr>\n",
       "<tr>\n",
       "  <th>Model Family:</th>       <td>Binomial</td>     <th>  Df Model:          </th>  <td>    29</td>  \n",
       "</tr>\n",
       "<tr>\n",
       "  <th>Link Function:</th>        <td>logit</td>      <th>  Scale:             </th> <td>  1.0000</td> \n",
       "</tr>\n",
       "<tr>\n",
       "  <th>Method:</th>               <td>IRLS</td>       <th>  Log-Likelihood:    </th> <td>     nan</td> \n",
       "</tr>\n",
       "<tr>\n",
       "  <th>Date:</th>           <td>Sun, 21 Jun 2020</td> <th>  Deviance:          </th> <td>     inf</td> \n",
       "</tr>\n",
       "<tr>\n",
       "  <th>Time:</th>               <td>17:35:28</td>     <th>  Pearson chi2:      </th> <td>4.50e+15</td> \n",
       "</tr>\n",
       "<tr>\n",
       "  <th>No. Iterations:</th>         <td>2</td>        <th>  Covariance Type:   </th> <td>nonrobust</td>\n",
       "</tr>\n",
       "</table>\n",
       "<table class=\"simpletable\">\n",
       "<tr>\n",
       "     <td></td>       <th>coef</th>     <th>std err</th>      <th>z</th>      <th>P>|z|</th>  <th>[0.025</th>    <th>0.975]</th>  \n",
       "</tr>\n",
       "<tr>\n",
       "  <th>const</th>  <td>   -1.9954</td> <td>    0.006</td> <td> -337.945</td> <td> 0.000</td> <td>   -2.007</td> <td>   -1.984</td>\n",
       "</tr>\n",
       "<tr>\n",
       "  <th>V1</th>     <td>   -0.5332</td> <td>    0.006</td> <td>  -84.808</td> <td> 0.000</td> <td>   -0.546</td> <td>   -0.521</td>\n",
       "</tr>\n",
       "<tr>\n",
       "  <th>V2</th>     <td>   -0.1062</td> <td>    0.006</td> <td>  -17.949</td> <td> 0.000</td> <td>   -0.118</td> <td>   -0.095</td>\n",
       "</tr>\n",
       "<tr>\n",
       "  <th>V3</th>     <td>    0.2025</td> <td>    0.006</td> <td>   36.362</td> <td> 0.000</td> <td>    0.192</td> <td>    0.213</td>\n",
       "</tr>\n",
       "<tr>\n",
       "  <th>V4</th>     <td>    0.9915</td> <td>    0.005</td> <td>  202.728</td> <td> 0.000</td> <td>    0.982</td> <td>    1.001</td>\n",
       "</tr>\n",
       "<tr>\n",
       "  <th>V5</th>     <td>   -0.4393</td> <td>    0.006</td> <td>  -75.103</td> <td> 0.000</td> <td>   -0.451</td> <td>   -0.428</td>\n",
       "</tr>\n",
       "<tr>\n",
       "  <th>V6</th>     <td>   -0.0235</td> <td>    0.006</td> <td>   -4.051</td> <td> 0.000</td> <td>   -0.035</td> <td>   -0.012</td>\n",
       "</tr>\n",
       "<tr>\n",
       "  <th>V7</th>     <td>    0.1491</td> <td>    0.005</td> <td>   31.663</td> <td> 0.000</td> <td>    0.140</td> <td>    0.158</td>\n",
       "</tr>\n",
       "<tr>\n",
       "  <th>V8</th>     <td>   -0.2153</td> <td>    0.003</td> <td>  -65.933</td> <td> 0.000</td> <td>   -0.222</td> <td>   -0.209</td>\n",
       "</tr>\n",
       "<tr>\n",
       "  <th>V9</th>     <td>   -0.0178</td> <td>    0.005</td> <td>   -3.548</td> <td> 0.000</td> <td>   -0.028</td> <td>   -0.008</td>\n",
       "</tr>\n",
       "<tr>\n",
       "  <th>V10</th>    <td>   -0.1037</td> <td>    0.005</td> <td>  -22.441</td> <td> 0.000</td> <td>   -0.113</td> <td>   -0.095</td>\n",
       "</tr>\n",
       "<tr>\n",
       "  <th>V11</th>    <td>    0.2677</td> <td>    0.004</td> <td>   60.437</td> <td> 0.000</td> <td>    0.259</td> <td>    0.276</td>\n",
       "</tr>\n",
       "<tr>\n",
       "  <th>V12</th>    <td>   -0.3148</td> <td>    0.005</td> <td>  -67.410</td> <td> 0.000</td> <td>   -0.324</td> <td>   -0.306</td>\n",
       "</tr>\n",
       "<tr>\n",
       "  <th>V13</th>    <td>   -0.3069</td> <td>    0.004</td> <td>  -69.105</td> <td> 0.000</td> <td>   -0.316</td> <td>   -0.298</td>\n",
       "</tr>\n",
       "<tr>\n",
       "  <th>V14</th>    <td>   -0.5897</td> <td>    0.004</td> <td> -138.084</td> <td> 0.000</td> <td>   -0.598</td> <td>   -0.581</td>\n",
       "</tr>\n",
       "<tr>\n",
       "  <th>V15</th>    <td>    0.3369</td> <td>    0.004</td> <td>   78.159</td> <td> 0.000</td> <td>    0.328</td> <td>    0.345</td>\n",
       "</tr>\n",
       "<tr>\n",
       "  <th>V16</th>    <td>    0.0303</td> <td>    0.005</td> <td>    6.535</td> <td> 0.000</td> <td>    0.021</td> <td>    0.039</td>\n",
       "</tr>\n",
       "<tr>\n",
       "  <th>V17</th>    <td>    0.1493</td> <td>    0.003</td> <td>   48.624</td> <td> 0.000</td> <td>    0.143</td> <td>    0.155</td>\n",
       "</tr>\n",
       "<tr>\n",
       "  <th>V18</th>    <td>    0.2106</td> <td>    0.005</td> <td>   43.166</td> <td> 0.000</td> <td>    0.201</td> <td>    0.220</td>\n",
       "</tr>\n",
       "<tr>\n",
       "  <th>V19</th>    <td>   -0.1060</td> <td>    0.004</td> <td>  -25.461</td> <td> 0.000</td> <td>   -0.114</td> <td>   -0.098</td>\n",
       "</tr>\n",
       "<tr>\n",
       "  <th>V20</th>    <td>   -0.1747</td> <td>    0.005</td> <td>  -34.807</td> <td> 0.000</td> <td>   -0.185</td> <td>   -0.165</td>\n",
       "</tr>\n",
       "<tr>\n",
       "  <th>V21</th>    <td>   -0.0081</td> <td>    0.004</td> <td>   -1.936</td> <td> 0.053</td> <td>   -0.016</td> <td> 9.96e-05</td>\n",
       "</tr>\n",
       "<tr>\n",
       "  <th>V22</th>    <td>    0.1135</td> <td>    0.005</td> <td>   21.991</td> <td> 0.000</td> <td>    0.103</td> <td>    0.124</td>\n",
       "</tr>\n",
       "<tr>\n",
       "  <th>V23</th>    <td>    0.1163</td> <td>    0.005</td> <td>   23.684</td> <td> 0.000</td> <td>    0.107</td> <td>    0.126</td>\n",
       "</tr>\n",
       "<tr>\n",
       "  <th>V24</th>    <td>   -0.2564</td> <td>    0.005</td> <td>  -47.720</td> <td> 0.000</td> <td>   -0.267</td> <td>   -0.246</td>\n",
       "</tr>\n",
       "<tr>\n",
       "  <th>V25</th>    <td>    0.5812</td> <td>    0.005</td> <td>  116.212</td> <td> 0.000</td> <td>    0.571</td> <td>    0.591</td>\n",
       "</tr>\n",
       "<tr>\n",
       "  <th>V26</th>    <td>   -0.3494</td> <td>    0.005</td> <td>  -67.915</td> <td> 0.000</td> <td>   -0.359</td> <td>   -0.339</td>\n",
       "</tr>\n",
       "<tr>\n",
       "  <th>V27</th>    <td>   -0.0609</td> <td>    0.004</td> <td>  -13.725</td> <td> 0.000</td> <td>   -0.070</td> <td>   -0.052</td>\n",
       "</tr>\n",
       "<tr>\n",
       "  <th>V28</th>    <td>   -0.0015</td> <td>    0.006</td> <td>   -0.257</td> <td> 0.797</td> <td>   -0.013</td> <td>    0.010</td>\n",
       "</tr>\n",
       "<tr>\n",
       "  <th>Amount</th> <td>   -0.1490</td> <td>    0.006</td> <td>  -26.330</td> <td> 0.000</td> <td>   -0.160</td> <td>   -0.138</td>\n",
       "</tr>\n",
       "</table>"
      ],
      "text/plain": [
       "<class 'statsmodels.iolib.summary.Summary'>\n",
       "\"\"\"\n",
       "                 Generalized Linear Model Regression Results                  \n",
       "==============================================================================\n",
       "Dep. Variable:                  Class   No. Observations:               397799\n",
       "Model:                            GLM   Df Residuals:                   397769\n",
       "Model Family:                Binomial   Df Model:                           29\n",
       "Link Function:                  logit   Scale:                          1.0000\n",
       "Method:                          IRLS   Log-Likelihood:                    nan\n",
       "Date:                Sun, 21 Jun 2020   Deviance:                          inf\n",
       "Time:                        17:35:28   Pearson chi2:                 4.50e+15\n",
       "No. Iterations:                     2   Covariance Type:             nonrobust\n",
       "==============================================================================\n",
       "                 coef    std err          z      P>|z|      [0.025      0.975]\n",
       "------------------------------------------------------------------------------\n",
       "const         -1.9954      0.006   -337.945      0.000      -2.007      -1.984\n",
       "V1            -0.5332      0.006    -84.808      0.000      -0.546      -0.521\n",
       "V2            -0.1062      0.006    -17.949      0.000      -0.118      -0.095\n",
       "V3             0.2025      0.006     36.362      0.000       0.192       0.213\n",
       "V4             0.9915      0.005    202.728      0.000       0.982       1.001\n",
       "V5            -0.4393      0.006    -75.103      0.000      -0.451      -0.428\n",
       "V6            -0.0235      0.006     -4.051      0.000      -0.035      -0.012\n",
       "V7             0.1491      0.005     31.663      0.000       0.140       0.158\n",
       "V8            -0.2153      0.003    -65.933      0.000      -0.222      -0.209\n",
       "V9            -0.0178      0.005     -3.548      0.000      -0.028      -0.008\n",
       "V10           -0.1037      0.005    -22.441      0.000      -0.113      -0.095\n",
       "V11            0.2677      0.004     60.437      0.000       0.259       0.276\n",
       "V12           -0.3148      0.005    -67.410      0.000      -0.324      -0.306\n",
       "V13           -0.3069      0.004    -69.105      0.000      -0.316      -0.298\n",
       "V14           -0.5897      0.004   -138.084      0.000      -0.598      -0.581\n",
       "V15            0.3369      0.004     78.159      0.000       0.328       0.345\n",
       "V16            0.0303      0.005      6.535      0.000       0.021       0.039\n",
       "V17            0.1493      0.003     48.624      0.000       0.143       0.155\n",
       "V18            0.2106      0.005     43.166      0.000       0.201       0.220\n",
       "V19           -0.1060      0.004    -25.461      0.000      -0.114      -0.098\n",
       "V20           -0.1747      0.005    -34.807      0.000      -0.185      -0.165\n",
       "V21           -0.0081      0.004     -1.936      0.053      -0.016    9.96e-05\n",
       "V22            0.1135      0.005     21.991      0.000       0.103       0.124\n",
       "V23            0.1163      0.005     23.684      0.000       0.107       0.126\n",
       "V24           -0.2564      0.005    -47.720      0.000      -0.267      -0.246\n",
       "V25            0.5812      0.005    116.212      0.000       0.571       0.591\n",
       "V26           -0.3494      0.005    -67.915      0.000      -0.359      -0.339\n",
       "V27           -0.0609      0.004    -13.725      0.000      -0.070      -0.052\n",
       "V28           -0.0015      0.006     -0.257      0.797      -0.013       0.010\n",
       "Amount        -0.1490      0.006    -26.330      0.000      -0.160      -0.138\n",
       "==============================================================================\n",
       "\"\"\""
      ]
     },
     "execution_count": 28,
     "metadata": {},
     "output_type": "execute_result"
    }
   ],
   "source": [
    "# Logistic regression model, first training model\n",
    "logm1 = sm.GLM(y_train,(sm.add_constant(X_train)), family = sm.families.Binomial())\n",
    "logm1.fit().summary()"
   ]
  },
  {
   "cell_type": "code",
   "execution_count": 29,
   "metadata": {},
   "outputs": [],
   "source": [
    "logreg = LogisticRegression()"
   ]
  },
  {
   "cell_type": "code",
   "execution_count": 35,
   "metadata": {},
   "outputs": [
    {
     "name": "stderr",
     "output_type": "stream",
     "text": [
      "C:\\Users\\madhuvarad\\AppData\\Roaming\\Python\\Python37\\site-packages\\sklearn\\utils\\validation.py:760: DataConversionWarning: A column-vector y was passed when a 1d array was expected. Please change the shape of y to (n_samples, ), for example using ravel().\n",
      "  y = column_or_1d(y, warn=True)\n"
     ]
    }
   ],
   "source": [
    "rfe = RFE(logreg, 15)\n",
    "rfe = rfe.fit(X_train, y_train)"
   ]
  },
  {
   "cell_type": "code",
   "execution_count": 36,
   "metadata": {},
   "outputs": [
    {
     "data": {
      "text/plain": [
       "array([False, False,  True,  True,  True,  True, False,  True,  True,\n",
       "        True,  True,  True, False,  True, False,  True,  True, False,\n",
       "       False, False, False, False, False,  True,  True,  True, False,\n",
       "       False, False])"
      ]
     },
     "execution_count": 36,
     "metadata": {},
     "output_type": "execute_result"
    }
   ],
   "source": [
    "rfe.support_"
   ]
  },
  {
   "cell_type": "code",
   "execution_count": 37,
   "metadata": {},
   "outputs": [
    {
     "data": {
      "text/plain": [
       "[('V1', False, 13),\n",
       " ('V2', False, 7),\n",
       " ('V3', True, 1),\n",
       " ('V4', True, 1),\n",
       " ('V5', True, 1),\n",
       " ('V6', True, 1),\n",
       " ('V7', False, 9),\n",
       " ('V8', True, 1),\n",
       " ('V9', True, 1),\n",
       " ('V10', True, 1),\n",
       " ('V11', True, 1),\n",
       " ('V12', True, 1),\n",
       " ('V13', False, 5),\n",
       " ('V14', True, 1),\n",
       " ('V15', False, 6),\n",
       " ('V16', True, 1),\n",
       " ('V17', True, 1),\n",
       " ('V18', False, 12),\n",
       " ('V19', False, 15),\n",
       " ('V20', False, 3),\n",
       " ('V21', False, 14),\n",
       " ('V22', False, 10),\n",
       " ('V23', False, 2),\n",
       " ('V24', True, 1),\n",
       " ('V25', True, 1),\n",
       " ('V26', True, 1),\n",
       " ('V27', False, 11),\n",
       " ('V28', False, 4),\n",
       " ('Amount', False, 8)]"
      ]
     },
     "execution_count": 37,
     "metadata": {},
     "output_type": "execute_result"
    }
   ],
   "source": [
    "list(zip(col_x, rfe.support_, rfe.ranking_))"
   ]
  },
  {
   "cell_type": "code",
   "execution_count": 38,
   "metadata": {},
   "outputs": [
    {
     "data": {
      "text/plain": [
       "Index(['V3', 'V4', 'V5', 'V6', 'V8', 'V9', 'V10', 'V11', 'V12', 'V14', 'V16',\n",
       "       'V17', 'V24', 'V25', 'V26'],\n",
       "      dtype='object')"
      ]
     },
     "execution_count": 38,
     "metadata": {},
     "output_type": "execute_result"
    }
   ],
   "source": [
    "col = col_x[rfe.support_]\n",
    "col"
   ]
  },
  {
   "cell_type": "code",
   "execution_count": 39,
   "metadata": {},
   "outputs": [
    {
     "data": {
      "text/plain": [
       "Index(['V1', 'V2', 'V7', 'V13', 'V15', 'V18', 'V19', 'V20', 'V21', 'V22',\n",
       "       'V23', 'V27', 'V28', 'Amount'],\n",
       "      dtype='object')"
      ]
     },
     "execution_count": 39,
     "metadata": {},
     "output_type": "execute_result"
    }
   ],
   "source": [
    "col_x[~rfe.support_]"
   ]
  },
  {
   "cell_type": "code",
   "execution_count": 40,
   "metadata": {},
   "outputs": [
    {
     "data": {
      "text/html": [
       "<table class=\"simpletable\">\n",
       "<caption>Generalized Linear Model Regression Results</caption>\n",
       "<tr>\n",
       "  <th>Dep. Variable:</th>        <td>Class</td>      <th>  No. Observations:  </th>  <td>397799</td>  \n",
       "</tr>\n",
       "<tr>\n",
       "  <th>Model:</th>                 <td>GLM</td>       <th>  Df Residuals:      </th>  <td>397783</td>  \n",
       "</tr>\n",
       "<tr>\n",
       "  <th>Model Family:</th>       <td>Binomial</td>     <th>  Df Model:          </th>  <td>    15</td>  \n",
       "</tr>\n",
       "<tr>\n",
       "  <th>Link Function:</th>        <td>logit</td>      <th>  Scale:             </th> <td>  1.0000</td> \n",
       "</tr>\n",
       "<tr>\n",
       "  <th>Method:</th>               <td>IRLS</td>       <th>  Log-Likelihood:    </th> <td>     nan</td> \n",
       "</tr>\n",
       "<tr>\n",
       "  <th>Date:</th>           <td>Sun, 21 Jun 2020</td> <th>  Deviance:          </th> <td>     inf</td> \n",
       "</tr>\n",
       "<tr>\n",
       "  <th>Time:</th>               <td>17:57:27</td>     <th>  Pearson chi2:      </th> <td>4.50e+15</td> \n",
       "</tr>\n",
       "<tr>\n",
       "  <th>No. Iterations:</th>         <td>4</td>        <th>  Covariance Type:   </th> <td>nonrobust</td>\n",
       "</tr>\n",
       "</table>\n",
       "<table class=\"simpletable\">\n",
       "<tr>\n",
       "    <td></td>       <th>coef</th>     <th>std err</th>      <th>z</th>      <th>P>|z|</th>  <th>[0.025</th>    <th>0.975]</th>  \n",
       "</tr>\n",
       "<tr>\n",
       "  <th>const</th> <td>   -2.5839</td> <td>    0.009</td> <td> -280.576</td> <td> 0.000</td> <td>   -2.602</td> <td>   -2.566</td>\n",
       "</tr>\n",
       "<tr>\n",
       "  <th>V3</th>    <td>    0.6511</td> <td>    0.007</td> <td>   98.877</td> <td> 0.000</td> <td>    0.638</td> <td>    0.664</td>\n",
       "</tr>\n",
       "<tr>\n",
       "  <th>V4</th>    <td>    1.4132</td> <td>    0.007</td> <td>  211.991</td> <td> 0.000</td> <td>    1.400</td> <td>    1.426</td>\n",
       "</tr>\n",
       "<tr>\n",
       "  <th>V5</th>    <td>   -0.6375</td> <td>    0.008</td> <td>  -76.510</td> <td> 0.000</td> <td>   -0.654</td> <td>   -0.621</td>\n",
       "</tr>\n",
       "<tr>\n",
       "  <th>V6</th>    <td>   -0.4352</td> <td>    0.010</td> <td>  -45.355</td> <td> 0.000</td> <td>   -0.454</td> <td>   -0.416</td>\n",
       "</tr>\n",
       "<tr>\n",
       "  <th>V8</th>    <td>   -0.6084</td> <td>    0.004</td> <td> -143.145</td> <td> 0.000</td> <td>   -0.617</td> <td>   -0.600</td>\n",
       "</tr>\n",
       "<tr>\n",
       "  <th>V9</th>    <td>   -0.3506</td> <td>    0.006</td> <td>  -56.547</td> <td> 0.000</td> <td>   -0.363</td> <td>   -0.338</td>\n",
       "</tr>\n",
       "<tr>\n",
       "  <th>V10</th>   <td>   -0.6270</td> <td>    0.006</td> <td>  -97.924</td> <td> 0.000</td> <td>   -0.640</td> <td>   -0.614</td>\n",
       "</tr>\n",
       "<tr>\n",
       "  <th>V11</th>   <td>    0.4971</td> <td>    0.005</td> <td>   94.618</td> <td> 0.000</td> <td>    0.487</td> <td>    0.507</td>\n",
       "</tr>\n",
       "<tr>\n",
       "  <th>V12</th>   <td>   -0.6178</td> <td>    0.006</td> <td> -109.472</td> <td> 0.000</td> <td>   -0.629</td> <td>   -0.607</td>\n",
       "</tr>\n",
       "<tr>\n",
       "  <th>V14</th>   <td>   -0.9471</td> <td>    0.006</td> <td> -170.339</td> <td> 0.000</td> <td>   -0.958</td> <td>   -0.936</td>\n",
       "</tr>\n",
       "<tr>\n",
       "  <th>V16</th>   <td>   -0.0785</td> <td>    0.005</td> <td>  -15.074</td> <td> 0.000</td> <td>   -0.089</td> <td>   -0.068</td>\n",
       "</tr>\n",
       "<tr>\n",
       "  <th>V17</th>   <td>    0.2687</td> <td>    0.004</td> <td>   62.088</td> <td> 0.000</td> <td>    0.260</td> <td>    0.277</td>\n",
       "</tr>\n",
       "<tr>\n",
       "  <th>V24</th>   <td>   -0.5497</td> <td>    0.008</td> <td>  -69.082</td> <td> 0.000</td> <td>   -0.565</td> <td>   -0.534</td>\n",
       "</tr>\n",
       "<tr>\n",
       "  <th>V25</th>   <td>    0.6282</td> <td>    0.006</td> <td>   98.584</td> <td> 0.000</td> <td>    0.616</td> <td>    0.641</td>\n",
       "</tr>\n",
       "<tr>\n",
       "  <th>V26</th>   <td>   -0.4864</td> <td>    0.006</td> <td>  -78.091</td> <td> 0.000</td> <td>   -0.499</td> <td>   -0.474</td>\n",
       "</tr>\n",
       "</table>"
      ],
      "text/plain": [
       "<class 'statsmodels.iolib.summary.Summary'>\n",
       "\"\"\"\n",
       "                 Generalized Linear Model Regression Results                  \n",
       "==============================================================================\n",
       "Dep. Variable:                  Class   No. Observations:               397799\n",
       "Model:                            GLM   Df Residuals:                   397783\n",
       "Model Family:                Binomial   Df Model:                           15\n",
       "Link Function:                  logit   Scale:                          1.0000\n",
       "Method:                          IRLS   Log-Likelihood:                    nan\n",
       "Date:                Sun, 21 Jun 2020   Deviance:                          inf\n",
       "Time:                        17:57:27   Pearson chi2:                 4.50e+15\n",
       "No. Iterations:                     4   Covariance Type:             nonrobust\n",
       "==============================================================================\n",
       "                 coef    std err          z      P>|z|      [0.025      0.975]\n",
       "------------------------------------------------------------------------------\n",
       "const         -2.5839      0.009   -280.576      0.000      -2.602      -2.566\n",
       "V3             0.6511      0.007     98.877      0.000       0.638       0.664\n",
       "V4             1.4132      0.007    211.991      0.000       1.400       1.426\n",
       "V5            -0.6375      0.008    -76.510      0.000      -0.654      -0.621\n",
       "V6            -0.4352      0.010    -45.355      0.000      -0.454      -0.416\n",
       "V8            -0.6084      0.004   -143.145      0.000      -0.617      -0.600\n",
       "V9            -0.3506      0.006    -56.547      0.000      -0.363      -0.338\n",
       "V10           -0.6270      0.006    -97.924      0.000      -0.640      -0.614\n",
       "V11            0.4971      0.005     94.618      0.000       0.487       0.507\n",
       "V12           -0.6178      0.006   -109.472      0.000      -0.629      -0.607\n",
       "V14           -0.9471      0.006   -170.339      0.000      -0.958      -0.936\n",
       "V16           -0.0785      0.005    -15.074      0.000      -0.089      -0.068\n",
       "V17            0.2687      0.004     62.088      0.000       0.260       0.277\n",
       "V24           -0.5497      0.008    -69.082      0.000      -0.565      -0.534\n",
       "V25            0.6282      0.006     98.584      0.000       0.616       0.641\n",
       "V26           -0.4864      0.006    -78.091      0.000      -0.499      -0.474\n",
       "==============================================================================\n",
       "\"\"\""
      ]
     },
     "execution_count": 40,
     "metadata": {},
     "output_type": "execute_result"
    }
   ],
   "source": [
    "X_train_sm = sm.add_constant(X_train[col])\n",
    "logm2 = sm.GLM(y_train,X_train_sm, family = sm.families.Binomial())\n",
    "res = logm2.fit()\n",
    "res.summary()"
   ]
  },
  {
   "cell_type": "markdown",
   "metadata": {},
   "source": [
    "### Adding the probablity column\n",
    "\n",
    "Now we add the probablity column as well as the prediction column in order to make our predictions."
   ]
  },
  {
   "cell_type": "code",
   "execution_count": 41,
   "metadata": {},
   "outputs": [
    {
     "data": {
      "text/plain": [
       "239371    0.027335\n",
       "267770    0.002794\n",
       "498983    0.768785\n",
       "306770    0.999533\n",
       "227598    0.040733\n",
       "65574     0.981230\n",
       "330477    0.866822\n",
       "498844    0.882172\n",
       "229267    0.894806\n",
       "99858     0.092306\n",
       "dtype: float64"
      ]
     },
     "execution_count": 41,
     "metadata": {},
     "output_type": "execute_result"
    }
   ],
   "source": [
    "# Get the predicted values on the train set\n",
    "y_train_pred = res.predict(X_train_sm)\n",
    "y_train_pred[:10]"
   ]
  },
  {
   "cell_type": "code",
   "execution_count": 42,
   "metadata": {},
   "outputs": [],
   "source": [
    "y_train_pred_final = pd.DataFrame({'Fraud':y_train.values.ravel(), 'Fraud_Prob':y_train_pred})"
   ]
  },
  {
   "cell_type": "code",
   "execution_count": 43,
   "metadata": {},
   "outputs": [
    {
     "data": {
      "text/html": [
       "<div>\n",
       "<style scoped>\n",
       "    .dataframe tbody tr th:only-of-type {\n",
       "        vertical-align: middle;\n",
       "    }\n",
       "\n",
       "    .dataframe tbody tr th {\n",
       "        vertical-align: top;\n",
       "    }\n",
       "\n",
       "    .dataframe thead th {\n",
       "        text-align: right;\n",
       "    }\n",
       "</style>\n",
       "<table border=\"1\" class=\"dataframe\">\n",
       "  <thead>\n",
       "    <tr style=\"text-align: right;\">\n",
       "      <th></th>\n",
       "      <th>Fraud</th>\n",
       "      <th>Fraud_Prob</th>\n",
       "    </tr>\n",
       "  </thead>\n",
       "  <tbody>\n",
       "    <tr>\n",
       "      <th>239371</th>\n",
       "      <td>0</td>\n",
       "      <td>0.027335</td>\n",
       "    </tr>\n",
       "    <tr>\n",
       "      <th>267770</th>\n",
       "      <td>0</td>\n",
       "      <td>0.002794</td>\n",
       "    </tr>\n",
       "    <tr>\n",
       "      <th>498983</th>\n",
       "      <td>1</td>\n",
       "      <td>0.768785</td>\n",
       "    </tr>\n",
       "    <tr>\n",
       "      <th>306770</th>\n",
       "      <td>1</td>\n",
       "      <td>0.999533</td>\n",
       "    </tr>\n",
       "    <tr>\n",
       "      <th>227598</th>\n",
       "      <td>0</td>\n",
       "      <td>0.040733</td>\n",
       "    </tr>\n",
       "  </tbody>\n",
       "</table>\n",
       "</div>"
      ],
      "text/plain": [
       "        Fraud  Fraud_Prob\n",
       "239371      0    0.027335\n",
       "267770      0    0.002794\n",
       "498983      1    0.768785\n",
       "306770      1    0.999533\n",
       "227598      0    0.040733"
      ]
     },
     "execution_count": 43,
     "metadata": {},
     "output_type": "execute_result"
    }
   ],
   "source": [
    "y_train_pred_final.head()"
   ]
  },
  {
   "cell_type": "code",
   "execution_count": 45,
   "metadata": {},
   "outputs": [
    {
     "data": {
      "text/html": [
       "<div>\n",
       "<style scoped>\n",
       "    .dataframe tbody tr th:only-of-type {\n",
       "        vertical-align: middle;\n",
       "    }\n",
       "\n",
       "    .dataframe tbody tr th {\n",
       "        vertical-align: top;\n",
       "    }\n",
       "\n",
       "    .dataframe thead th {\n",
       "        text-align: right;\n",
       "    }\n",
       "</style>\n",
       "<table border=\"1\" class=\"dataframe\">\n",
       "  <thead>\n",
       "    <tr style=\"text-align: right;\">\n",
       "      <th></th>\n",
       "      <th>Fraud</th>\n",
       "      <th>Fraud_Prob</th>\n",
       "      <th>predicted</th>\n",
       "    </tr>\n",
       "  </thead>\n",
       "  <tbody>\n",
       "    <tr>\n",
       "      <th>239371</th>\n",
       "      <td>0</td>\n",
       "      <td>0.027335</td>\n",
       "      <td>0</td>\n",
       "    </tr>\n",
       "    <tr>\n",
       "      <th>267770</th>\n",
       "      <td>0</td>\n",
       "      <td>0.002794</td>\n",
       "      <td>0</td>\n",
       "    </tr>\n",
       "    <tr>\n",
       "      <th>498983</th>\n",
       "      <td>1</td>\n",
       "      <td>0.768785</td>\n",
       "      <td>1</td>\n",
       "    </tr>\n",
       "    <tr>\n",
       "      <th>306770</th>\n",
       "      <td>1</td>\n",
       "      <td>0.999533</td>\n",
       "      <td>1</td>\n",
       "    </tr>\n",
       "    <tr>\n",
       "      <th>227598</th>\n",
       "      <td>0</td>\n",
       "      <td>0.040733</td>\n",
       "      <td>1</td>\n",
       "    </tr>\n",
       "  </tbody>\n",
       "</table>\n",
       "</div>"
      ],
      "text/plain": [
       "        Fraud  Fraud_Prob  predicted\n",
       "239371      0    0.027335          0\n",
       "267770      0    0.002794          0\n",
       "498983      1    0.768785          1\n",
       "306770      1    0.999533          1\n",
       "227598      0    0.040733          1"
      ]
     },
     "execution_count": 45,
     "metadata": {},
     "output_type": "execute_result"
    }
   ],
   "source": [
    "y_train_pred_final['predicted'] = y_train_pred_final.Fraud_Prob.map(lambda x: 1 if x > 0.035 else 0)\n",
    "\n",
    "y_train_pred_final.head()"
   ]
  },
  {
   "cell_type": "markdown",
   "metadata": {},
   "source": [
    "# Confusion Matrix"
   ]
  },
  {
   "cell_type": "code",
   "execution_count": 46,
   "metadata": {},
   "outputs": [],
   "source": [
    "from sklearn.metrics import precision_score, recall_score\n",
    "from sklearn.metrics import precision_recall_curve\n",
    "from sklearn.metrics import classification_report\n",
    "from sklearn.model_selection import cross_val_score\n",
    "import sklearn.metrics as metrics"
   ]
  },
  {
   "cell_type": "code",
   "execution_count": 47,
   "metadata": {},
   "outputs": [
    {
     "name": "stdout",
     "output_type": "stream",
     "text": [
      "[[ 67450 131584]\n",
      " [     0 198765]]\n"
     ]
    }
   ],
   "source": [
    "confusion = metrics.confusion_matrix(y_train_pred_final.Fraud, y_train_pred_final.predicted )\n",
    "print(confusion)"
   ]
  },
  {
   "cell_type": "code",
   "execution_count": 48,
   "metadata": {},
   "outputs": [
    {
     "name": "stdout",
     "output_type": "stream",
     "text": [
      "0.6692198824029221\n"
     ]
    }
   ],
   "source": [
    "#overall accuracy check\n",
    "print(metrics.accuracy_score(y_train_pred_final.Fraud, y_train_pred_final.predicted))"
   ]
  }
 ],
 "metadata": {
  "kernelspec": {
   "display_name": "Python 3",
   "language": "python",
   "name": "python3"
  },
  "language_info": {
   "codemirror_mode": {
    "name": "ipython",
    "version": 3
   },
   "file_extension": ".py",
   "mimetype": "text/x-python",
   "name": "python",
   "nbconvert_exporter": "python",
   "pygments_lexer": "ipython3",
   "version": "3.7.7"
  }
 },
 "nbformat": 4,
 "nbformat_minor": 4
}
