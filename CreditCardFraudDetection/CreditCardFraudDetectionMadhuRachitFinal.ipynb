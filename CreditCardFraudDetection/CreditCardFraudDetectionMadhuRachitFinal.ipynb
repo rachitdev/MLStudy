{
 "cells": [
  {
   "cell_type": "markdown",
   "metadata": {},
   "source": [
    "## Credit Card Fraud Detection By Madhu and Rachit\n",
    "\n",
    "\n",
    "### Context\n",
    "\n",
    "It is important that credit card companies are able to recognize fraudulent credit card transactions so that customers are not charged for items that they did not purchase.\n",
    "\n",
    "### Content\n",
    "\n",
    "The datasets contains transactions made by credit cards in September 2013 by european cardholders.\n",
    "This dataset presents transactions that occurred in two days, where we have 492 frauds out of 284,807 transactions. The dataset is highly unbalanced, the positive class (frauds) account for 0.172% of all transactions.\n",
    "\n",
    "It contains only numerical input variables which are the result of a PCA transformation. Unfortunately, due to confidentiality issues, we cannot provide the original features and more background information about the data. Features V1, V2, … V28 are the principal components obtained with PCA, the only features which have not been transformed with PCA are 'Time' and 'Amount'. Feature 'Time' contains the seconds elapsed between each transaction and the first transaction in the dataset. The feature 'Amount' is the transaction Amount, this feature can be used for example-dependant cost-senstive learning. Feature 'Class' is the response variable and it takes value 1 in case of fraud and 0 otherwise.\n",
    "\n",
    "### Inspiration\n",
    "\n",
    "Identify fraudulent credit card transactions.\n",
    "\n",
    "Given the class imbalance ratio, we recommend measuring the accuracy using the Area Under the Precision-Recall Curve (AUPRC). Confusion matrix accuracy is not meaningful for unbalanced classification."
   ]
  },
  {
   "cell_type": "markdown",
   "metadata": {},
   "source": [
    "# Importing Data"
   ]
  },
  {
   "cell_type": "code",
   "execution_count": 1,
   "metadata": {},
   "outputs": [],
   "source": [
    "import numpy as np\n",
    "import pandas as pd"
   ]
  },
  {
   "cell_type": "code",
   "execution_count": 2,
   "metadata": {},
   "outputs": [],
   "source": [
    "import warnings\n",
    "warnings.filterwarnings('ignore')\n",
    "\n",
    "# settings to see the data.\n",
    "pd.options.display.max_columns = None\n",
    "pd.options.display.max_rows = None\n",
    "pd.options.display.max_colwidth = 500"
   ]
  },
  {
   "cell_type": "code",
   "execution_count": 3,
   "metadata": {},
   "outputs": [
    {
     "data": {
      "text/html": [
       "<div>\n",
       "<style scoped>\n",
       "    .dataframe tbody tr th:only-of-type {\n",
       "        vertical-align: middle;\n",
       "    }\n",
       "\n",
       "    .dataframe tbody tr th {\n",
       "        vertical-align: top;\n",
       "    }\n",
       "\n",
       "    .dataframe thead th {\n",
       "        text-align: right;\n",
       "    }\n",
       "</style>\n",
       "<table border=\"1\" class=\"dataframe\">\n",
       "  <thead>\n",
       "    <tr style=\"text-align: right;\">\n",
       "      <th></th>\n",
       "      <th>Time</th>\n",
       "      <th>V1</th>\n",
       "      <th>V2</th>\n",
       "      <th>V3</th>\n",
       "      <th>V4</th>\n",
       "      <th>V5</th>\n",
       "      <th>V6</th>\n",
       "      <th>V7</th>\n",
       "      <th>V8</th>\n",
       "      <th>V9</th>\n",
       "      <th>V10</th>\n",
       "      <th>V11</th>\n",
       "      <th>V12</th>\n",
       "      <th>V13</th>\n",
       "      <th>V14</th>\n",
       "      <th>V15</th>\n",
       "      <th>V16</th>\n",
       "      <th>V17</th>\n",
       "      <th>V18</th>\n",
       "      <th>V19</th>\n",
       "      <th>V20</th>\n",
       "      <th>V21</th>\n",
       "      <th>V22</th>\n",
       "      <th>V23</th>\n",
       "      <th>V24</th>\n",
       "      <th>V25</th>\n",
       "      <th>V26</th>\n",
       "      <th>V27</th>\n",
       "      <th>V28</th>\n",
       "      <th>Amount</th>\n",
       "      <th>Class</th>\n",
       "    </tr>\n",
       "  </thead>\n",
       "  <tbody>\n",
       "    <tr>\n",
       "      <th>0</th>\n",
       "      <td>0.0</td>\n",
       "      <td>-1.359807</td>\n",
       "      <td>-0.072781</td>\n",
       "      <td>2.536347</td>\n",
       "      <td>1.378155</td>\n",
       "      <td>-0.338321</td>\n",
       "      <td>0.462388</td>\n",
       "      <td>0.239599</td>\n",
       "      <td>0.098698</td>\n",
       "      <td>0.363787</td>\n",
       "      <td>0.090794</td>\n",
       "      <td>-0.551600</td>\n",
       "      <td>-0.617801</td>\n",
       "      <td>-0.991390</td>\n",
       "      <td>-0.311169</td>\n",
       "      <td>1.468177</td>\n",
       "      <td>-0.470401</td>\n",
       "      <td>0.207971</td>\n",
       "      <td>0.025791</td>\n",
       "      <td>0.403993</td>\n",
       "      <td>0.251412</td>\n",
       "      <td>-0.018307</td>\n",
       "      <td>0.277838</td>\n",
       "      <td>-0.110474</td>\n",
       "      <td>0.066928</td>\n",
       "      <td>0.128539</td>\n",
       "      <td>-0.189115</td>\n",
       "      <td>0.133558</td>\n",
       "      <td>-0.021053</td>\n",
       "      <td>149.62</td>\n",
       "      <td>0</td>\n",
       "    </tr>\n",
       "    <tr>\n",
       "      <th>1</th>\n",
       "      <td>0.0</td>\n",
       "      <td>1.191857</td>\n",
       "      <td>0.266151</td>\n",
       "      <td>0.166480</td>\n",
       "      <td>0.448154</td>\n",
       "      <td>0.060018</td>\n",
       "      <td>-0.082361</td>\n",
       "      <td>-0.078803</td>\n",
       "      <td>0.085102</td>\n",
       "      <td>-0.255425</td>\n",
       "      <td>-0.166974</td>\n",
       "      <td>1.612727</td>\n",
       "      <td>1.065235</td>\n",
       "      <td>0.489095</td>\n",
       "      <td>-0.143772</td>\n",
       "      <td>0.635558</td>\n",
       "      <td>0.463917</td>\n",
       "      <td>-0.114805</td>\n",
       "      <td>-0.183361</td>\n",
       "      <td>-0.145783</td>\n",
       "      <td>-0.069083</td>\n",
       "      <td>-0.225775</td>\n",
       "      <td>-0.638672</td>\n",
       "      <td>0.101288</td>\n",
       "      <td>-0.339846</td>\n",
       "      <td>0.167170</td>\n",
       "      <td>0.125895</td>\n",
       "      <td>-0.008983</td>\n",
       "      <td>0.014724</td>\n",
       "      <td>2.69</td>\n",
       "      <td>0</td>\n",
       "    </tr>\n",
       "    <tr>\n",
       "      <th>2</th>\n",
       "      <td>1.0</td>\n",
       "      <td>-1.358354</td>\n",
       "      <td>-1.340163</td>\n",
       "      <td>1.773209</td>\n",
       "      <td>0.379780</td>\n",
       "      <td>-0.503198</td>\n",
       "      <td>1.800499</td>\n",
       "      <td>0.791461</td>\n",
       "      <td>0.247676</td>\n",
       "      <td>-1.514654</td>\n",
       "      <td>0.207643</td>\n",
       "      <td>0.624501</td>\n",
       "      <td>0.066084</td>\n",
       "      <td>0.717293</td>\n",
       "      <td>-0.165946</td>\n",
       "      <td>2.345865</td>\n",
       "      <td>-2.890083</td>\n",
       "      <td>1.109969</td>\n",
       "      <td>-0.121359</td>\n",
       "      <td>-2.261857</td>\n",
       "      <td>0.524980</td>\n",
       "      <td>0.247998</td>\n",
       "      <td>0.771679</td>\n",
       "      <td>0.909412</td>\n",
       "      <td>-0.689281</td>\n",
       "      <td>-0.327642</td>\n",
       "      <td>-0.139097</td>\n",
       "      <td>-0.055353</td>\n",
       "      <td>-0.059752</td>\n",
       "      <td>378.66</td>\n",
       "      <td>0</td>\n",
       "    </tr>\n",
       "    <tr>\n",
       "      <th>3</th>\n",
       "      <td>1.0</td>\n",
       "      <td>-0.966272</td>\n",
       "      <td>-0.185226</td>\n",
       "      <td>1.792993</td>\n",
       "      <td>-0.863291</td>\n",
       "      <td>-0.010309</td>\n",
       "      <td>1.247203</td>\n",
       "      <td>0.237609</td>\n",
       "      <td>0.377436</td>\n",
       "      <td>-1.387024</td>\n",
       "      <td>-0.054952</td>\n",
       "      <td>-0.226487</td>\n",
       "      <td>0.178228</td>\n",
       "      <td>0.507757</td>\n",
       "      <td>-0.287924</td>\n",
       "      <td>-0.631418</td>\n",
       "      <td>-1.059647</td>\n",
       "      <td>-0.684093</td>\n",
       "      <td>1.965775</td>\n",
       "      <td>-1.232622</td>\n",
       "      <td>-0.208038</td>\n",
       "      <td>-0.108300</td>\n",
       "      <td>0.005274</td>\n",
       "      <td>-0.190321</td>\n",
       "      <td>-1.175575</td>\n",
       "      <td>0.647376</td>\n",
       "      <td>-0.221929</td>\n",
       "      <td>0.062723</td>\n",
       "      <td>0.061458</td>\n",
       "      <td>123.50</td>\n",
       "      <td>0</td>\n",
       "    </tr>\n",
       "    <tr>\n",
       "      <th>4</th>\n",
       "      <td>2.0</td>\n",
       "      <td>-1.158233</td>\n",
       "      <td>0.877737</td>\n",
       "      <td>1.548718</td>\n",
       "      <td>0.403034</td>\n",
       "      <td>-0.407193</td>\n",
       "      <td>0.095921</td>\n",
       "      <td>0.592941</td>\n",
       "      <td>-0.270533</td>\n",
       "      <td>0.817739</td>\n",
       "      <td>0.753074</td>\n",
       "      <td>-0.822843</td>\n",
       "      <td>0.538196</td>\n",
       "      <td>1.345852</td>\n",
       "      <td>-1.119670</td>\n",
       "      <td>0.175121</td>\n",
       "      <td>-0.451449</td>\n",
       "      <td>-0.237033</td>\n",
       "      <td>-0.038195</td>\n",
       "      <td>0.803487</td>\n",
       "      <td>0.408542</td>\n",
       "      <td>-0.009431</td>\n",
       "      <td>0.798278</td>\n",
       "      <td>-0.137458</td>\n",
       "      <td>0.141267</td>\n",
       "      <td>-0.206010</td>\n",
       "      <td>0.502292</td>\n",
       "      <td>0.219422</td>\n",
       "      <td>0.215153</td>\n",
       "      <td>69.99</td>\n",
       "      <td>0</td>\n",
       "    </tr>\n",
       "  </tbody>\n",
       "</table>\n",
       "</div>"
      ],
      "text/plain": [
       "   Time        V1        V2        V3        V4        V5        V6        V7  \\\n",
       "0   0.0 -1.359807 -0.072781  2.536347  1.378155 -0.338321  0.462388  0.239599   \n",
       "1   0.0  1.191857  0.266151  0.166480  0.448154  0.060018 -0.082361 -0.078803   \n",
       "2   1.0 -1.358354 -1.340163  1.773209  0.379780 -0.503198  1.800499  0.791461   \n",
       "3   1.0 -0.966272 -0.185226  1.792993 -0.863291 -0.010309  1.247203  0.237609   \n",
       "4   2.0 -1.158233  0.877737  1.548718  0.403034 -0.407193  0.095921  0.592941   \n",
       "\n",
       "         V8        V9       V10       V11       V12       V13       V14  \\\n",
       "0  0.098698  0.363787  0.090794 -0.551600 -0.617801 -0.991390 -0.311169   \n",
       "1  0.085102 -0.255425 -0.166974  1.612727  1.065235  0.489095 -0.143772   \n",
       "2  0.247676 -1.514654  0.207643  0.624501  0.066084  0.717293 -0.165946   \n",
       "3  0.377436 -1.387024 -0.054952 -0.226487  0.178228  0.507757 -0.287924   \n",
       "4 -0.270533  0.817739  0.753074 -0.822843  0.538196  1.345852 -1.119670   \n",
       "\n",
       "        V15       V16       V17       V18       V19       V20       V21  \\\n",
       "0  1.468177 -0.470401  0.207971  0.025791  0.403993  0.251412 -0.018307   \n",
       "1  0.635558  0.463917 -0.114805 -0.183361 -0.145783 -0.069083 -0.225775   \n",
       "2  2.345865 -2.890083  1.109969 -0.121359 -2.261857  0.524980  0.247998   \n",
       "3 -0.631418 -1.059647 -0.684093  1.965775 -1.232622 -0.208038 -0.108300   \n",
       "4  0.175121 -0.451449 -0.237033 -0.038195  0.803487  0.408542 -0.009431   \n",
       "\n",
       "        V22       V23       V24       V25       V26       V27       V28  \\\n",
       "0  0.277838 -0.110474  0.066928  0.128539 -0.189115  0.133558 -0.021053   \n",
       "1 -0.638672  0.101288 -0.339846  0.167170  0.125895 -0.008983  0.014724   \n",
       "2  0.771679  0.909412 -0.689281 -0.327642 -0.139097 -0.055353 -0.059752   \n",
       "3  0.005274 -0.190321 -1.175575  0.647376 -0.221929  0.062723  0.061458   \n",
       "4  0.798278 -0.137458  0.141267 -0.206010  0.502292  0.219422  0.215153   \n",
       "\n",
       "   Amount  Class  \n",
       "0  149.62      0  \n",
       "1    2.69      0  \n",
       "2  378.66      0  \n",
       "3  123.50      0  \n",
       "4   69.99      0  "
      ]
     },
     "execution_count": 3,
     "metadata": {},
     "output_type": "execute_result"
    }
   ],
   "source": [
    "df = pd.read_csv(\"creditcard.csv\")\n",
    "df.head()"
   ]
  },
  {
   "cell_type": "code",
   "execution_count": 4,
   "metadata": {},
   "outputs": [
    {
     "data": {
      "text/plain": [
       "Time      float64\n",
       "V1        float64\n",
       "V2        float64\n",
       "V3        float64\n",
       "V4        float64\n",
       "V5        float64\n",
       "V6        float64\n",
       "V7        float64\n",
       "V8        float64\n",
       "V9        float64\n",
       "V10       float64\n",
       "V11       float64\n",
       "V12       float64\n",
       "V13       float64\n",
       "V14       float64\n",
       "V15       float64\n",
       "V16       float64\n",
       "V17       float64\n",
       "V18       float64\n",
       "V19       float64\n",
       "V20       float64\n",
       "V21       float64\n",
       "V22       float64\n",
       "V23       float64\n",
       "V24       float64\n",
       "V25       float64\n",
       "V26       float64\n",
       "V27       float64\n",
       "V28       float64\n",
       "Amount    float64\n",
       "Class       int64\n",
       "dtype: object"
      ]
     },
     "execution_count": 4,
     "metadata": {},
     "output_type": "execute_result"
    }
   ],
   "source": [
    "df.dtypes"
   ]
  },
  {
   "cell_type": "code",
   "execution_count": 5,
   "metadata": {},
   "outputs": [
    {
     "data": {
      "text/plain": [
       "(284807, 31)"
      ]
     },
     "execution_count": 5,
     "metadata": {},
     "output_type": "execute_result"
    }
   ],
   "source": [
    "df.shape"
   ]
  },
  {
   "cell_type": "code",
   "execution_count": 6,
   "metadata": {},
   "outputs": [
    {
     "data": {
      "text/plain": [
       "284807"
      ]
     },
     "execution_count": 6,
     "metadata": {},
     "output_type": "execute_result"
    }
   ],
   "source": [
    "len(df.index)"
   ]
  },
  {
   "cell_type": "markdown",
   "metadata": {},
   "source": [
    "### So total number of data points are 284807, which maybe called as big data."
   ]
  },
  {
   "cell_type": "markdown",
   "metadata": {},
   "source": [
    "### We are not going to look for the outliers as the data is precious here. We will try to scale the data later to remove outliers."
   ]
  },
  {
   "cell_type": "code",
   "execution_count": 7,
   "metadata": {},
   "outputs": [
    {
     "data": {
      "text/plain": [
       "Index(['Time', 'V1', 'V2', 'V3', 'V4', 'V5', 'V6', 'V7', 'V8', 'V9', 'V10',\n",
       "       'V11', 'V12', 'V13', 'V14', 'V15', 'V16', 'V17', 'V18', 'V19', 'V20',\n",
       "       'V21', 'V22', 'V23', 'V24', 'V25', 'V26', 'V27', 'V28', 'Amount',\n",
       "       'Class'],\n",
       "      dtype='object')"
      ]
     },
     "execution_count": 7,
     "metadata": {},
     "output_type": "execute_result"
    }
   ],
   "source": [
    "df.columns"
   ]
  },
  {
   "cell_type": "markdown",
   "metadata": {},
   "source": [
    "## Exploratory Data Analysis"
   ]
  },
  {
   "cell_type": "code",
   "execution_count": 8,
   "metadata": {},
   "outputs": [
    {
     "name": "stdout",
     "output_type": "stream",
     "text": [
      "Normal Transactions that occurred are:  99.82725143693798\n",
      "Fraud Transactions that occurred are:  0.1727485630620034\n"
     ]
    }
   ],
   "source": [
    "classes=df['Class'].value_counts()\n",
    "normal_share=classes[0]/df['Class'].count()*100\n",
    "fraud_share=classes[1]/df['Class'].count()*100\n",
    "print(\"Normal Transactions that occurred are: \", normal_share)\n",
    "print(\"Fraud Transactions that occurred are: \", fraud_share)"
   ]
  },
  {
   "cell_type": "markdown",
   "metadata": {},
   "source": [
    "### Scaling Data by using PowerTransformer\n",
    "\n",
    "PowerTransformer provides non-linear transformations in which data is mapped to a normal distribution to stabilize variance and minimize skewness. The data was skewed at times as seen on the Kaggle site from where we have downloaded this data for analysis.\n",
    "https://www.kaggle.com/mlg-ulb/creditcardfraud"
   ]
  },
  {
   "cell_type": "code",
   "execution_count": 9,
   "metadata": {},
   "outputs": [],
   "source": [
    "from sklearn.preprocessing import PowerTransformer"
   ]
  },
  {
   "cell_type": "code",
   "execution_count": 10,
   "metadata": {},
   "outputs": [],
   "source": [
    "scaler = PowerTransformer(method='yeo-johnson')\n",
    "df[['V1', 'V2', 'V3', 'V4', 'V5', 'V6', 'V7', 'V8', 'V9', 'V10',\n",
    "       'V11', 'V12', 'V13', 'V14', 'V15', 'V16', 'V17', 'V18', 'V19', 'V20',\n",
    "       'V21', 'V22', 'V23', 'V24', 'V25', 'V26', 'V27', 'V28', 'Amount']] = scaler.fit_transform(df[['V1', 'V2', 'V3', 'V4', 'V5', 'V6', 'V7', 'V8', 'V9', 'V10',\n",
    "       'V11', 'V12', 'V13', 'V14', 'V15', 'V16', 'V17', 'V18', 'V19', 'V20',\n",
    "       'V21', 'V22', 'V23', 'V24', 'V25', 'V26', 'V27', 'V28', 'Amount']])"
   ]
  },
  {
   "cell_type": "code",
   "execution_count": 11,
   "metadata": {},
   "outputs": [
    {
     "data": {
      "text/html": [
       "<div>\n",
       "<style scoped>\n",
       "    .dataframe tbody tr th:only-of-type {\n",
       "        vertical-align: middle;\n",
       "    }\n",
       "\n",
       "    .dataframe tbody tr th {\n",
       "        vertical-align: top;\n",
       "    }\n",
       "\n",
       "    .dataframe thead th {\n",
       "        text-align: right;\n",
       "    }\n",
       "</style>\n",
       "<table border=\"1\" class=\"dataframe\">\n",
       "  <thead>\n",
       "    <tr style=\"text-align: right;\">\n",
       "      <th></th>\n",
       "      <th>Time</th>\n",
       "      <th>V1</th>\n",
       "      <th>V2</th>\n",
       "      <th>V3</th>\n",
       "      <th>V4</th>\n",
       "      <th>V5</th>\n",
       "      <th>V6</th>\n",
       "      <th>V7</th>\n",
       "      <th>V8</th>\n",
       "      <th>V9</th>\n",
       "      <th>V10</th>\n",
       "      <th>V11</th>\n",
       "      <th>V12</th>\n",
       "      <th>V13</th>\n",
       "      <th>V14</th>\n",
       "      <th>V15</th>\n",
       "      <th>V16</th>\n",
       "      <th>V17</th>\n",
       "      <th>V18</th>\n",
       "      <th>V19</th>\n",
       "      <th>V20</th>\n",
       "      <th>V21</th>\n",
       "      <th>V22</th>\n",
       "      <th>V23</th>\n",
       "      <th>V24</th>\n",
       "      <th>V25</th>\n",
       "      <th>V26</th>\n",
       "      <th>V27</th>\n",
       "      <th>V28</th>\n",
       "      <th>Amount</th>\n",
       "      <th>Class</th>\n",
       "    </tr>\n",
       "  </thead>\n",
       "  <tbody>\n",
       "    <tr>\n",
       "      <th>0</th>\n",
       "      <td>0.0</td>\n",
       "      <td>-0.904815</td>\n",
       "      <td>-0.131503</td>\n",
       "      <td>2.176074</td>\n",
       "      <td>0.983588</td>\n",
       "      <td>-0.256110</td>\n",
       "      <td>0.459227</td>\n",
       "      <td>0.193516</td>\n",
       "      <td>0.020305</td>\n",
       "      <td>0.380443</td>\n",
       "      <td>0.127074</td>\n",
       "      <td>-0.513088</td>\n",
       "      <td>-0.774671</td>\n",
       "      <td>-0.997398</td>\n",
       "      <td>-0.404755</td>\n",
       "      <td>1.711206</td>\n",
       "      <td>-0.600774</td>\n",
       "      <td>0.215544</td>\n",
       "      <td>0.009991</td>\n",
       "      <td>0.503467</td>\n",
       "      <td>0.323559</td>\n",
       "      <td>-0.007670</td>\n",
       "      <td>0.366644</td>\n",
       "      <td>-0.189647</td>\n",
       "      <td>0.015102</td>\n",
       "      <td>0.211929</td>\n",
       "      <td>-0.323884</td>\n",
       "      <td>0.323027</td>\n",
       "      <td>-0.053332</td>\n",
       "      <td>1.119013</td>\n",
       "      <td>0</td>\n",
       "    </tr>\n",
       "    <tr>\n",
       "      <th>1</th>\n",
       "      <td>0.0</td>\n",
       "      <td>0.626390</td>\n",
       "      <td>0.093067</td>\n",
       "      <td>-0.035062</td>\n",
       "      <td>0.387928</td>\n",
       "      <td>0.031947</td>\n",
       "      <td>0.045846</td>\n",
       "      <td>-0.063874</td>\n",
       "      <td>0.006711</td>\n",
       "      <td>-0.184488</td>\n",
       "      <td>-0.115195</td>\n",
       "      <td>1.523934</td>\n",
       "      <td>1.296242</td>\n",
       "      <td>0.498814</td>\n",
       "      <td>-0.232720</td>\n",
       "      <td>0.674890</td>\n",
       "      <td>0.491958</td>\n",
       "      <td>-0.175639</td>\n",
       "      <td>-0.238612</td>\n",
       "      <td>-0.169496</td>\n",
       "      <td>-0.093203</td>\n",
       "      <td>-0.298760</td>\n",
       "      <td>-0.884170</td>\n",
       "      <td>0.153342</td>\n",
       "      <td>-0.637483</td>\n",
       "      <td>0.288440</td>\n",
       "      <td>0.353130</td>\n",
       "      <td>-0.035793</td>\n",
       "      <td>0.057491</td>\n",
       "      <td>-1.128464</td>\n",
       "      <td>0</td>\n",
       "    </tr>\n",
       "    <tr>\n",
       "      <th>2</th>\n",
       "      <td>1.0</td>\n",
       "      <td>-0.904242</td>\n",
       "      <td>-0.871858</td>\n",
       "      <td>1.381297</td>\n",
       "      <td>0.341811</td>\n",
       "      <td>-0.374492</td>\n",
       "      <td>1.320901</td>\n",
       "      <td>0.639714</td>\n",
       "      <td>0.172348</td>\n",
       "      <td>-1.453859</td>\n",
       "      <td>0.234324</td>\n",
       "      <td>0.640742</td>\n",
       "      <td>-0.104954</td>\n",
       "      <td>0.724952</td>\n",
       "      <td>-0.255865</td>\n",
       "      <td>2.872435</td>\n",
       "      <td>-2.809663</td>\n",
       "      <td>1.383126</td>\n",
       "      <td>-0.165261</td>\n",
       "      <td>-2.838493</td>\n",
       "      <td>0.680896</td>\n",
       "      <td>0.357879</td>\n",
       "      <td>1.069496</td>\n",
       "      <td>1.501808</td>\n",
       "      <td>-1.133450</td>\n",
       "      <td>-0.653607</td>\n",
       "      <td>-0.209953</td>\n",
       "      <td>-0.151417</td>\n",
       "      <td>-0.173752</td>\n",
       "      <td>1.623286</td>\n",
       "      <td>0</td>\n",
       "    </tr>\n",
       "    <tr>\n",
       "      <th>3</th>\n",
       "      <td>1.0</td>\n",
       "      <td>-0.742857</td>\n",
       "      <td>-0.202760</td>\n",
       "      <td>1.401049</td>\n",
       "      <td>-0.581136</td>\n",
       "      <td>-0.019151</td>\n",
       "      <td>0.983351</td>\n",
       "      <td>0.191907</td>\n",
       "      <td>0.309141</td>\n",
       "      <td>-1.319689</td>\n",
       "      <td>-0.008922</td>\n",
       "      <td>-0.179270</td>\n",
       "      <td>0.026987</td>\n",
       "      <td>0.517344</td>\n",
       "      <td>-0.381222</td>\n",
       "      <td>-0.720269</td>\n",
       "      <td>-1.194700</td>\n",
       "      <td>-0.829186</td>\n",
       "      <td>2.435570</td>\n",
       "      <td>-1.528799</td>\n",
       "      <td>-0.273184</td>\n",
       "      <td>-0.133275</td>\n",
       "      <td>-0.013060</td>\n",
       "      <td>-0.317680</td>\n",
       "      <td>-1.756645</td>\n",
       "      <td>1.276336</td>\n",
       "      <td>-0.399896</td>\n",
       "      <td>0.144087</td>\n",
       "      <td>0.201524</td>\n",
       "      <td>1.012504</td>\n",
       "      <td>0</td>\n",
       "    </tr>\n",
       "    <tr>\n",
       "      <th>4</th>\n",
       "      <td>2.0</td>\n",
       "      <td>-0.823641</td>\n",
       "      <td>0.530197</td>\n",
       "      <td>1.160592</td>\n",
       "      <td>0.357540</td>\n",
       "      <td>-0.305614</td>\n",
       "      <td>0.187360</td>\n",
       "      <td>0.479194</td>\n",
       "      <td>-0.331706</td>\n",
       "      <td>0.769520</td>\n",
       "      <td>0.718432</td>\n",
       "      <td>-0.798770</td>\n",
       "      <td>0.496185</td>\n",
       "      <td>1.343525</td>\n",
       "      <td>-1.168769</td>\n",
       "      <td>0.138162</td>\n",
       "      <td>-0.580731</td>\n",
       "      <td>-0.319406</td>\n",
       "      <td>-0.066425</td>\n",
       "      <td>0.986458</td>\n",
       "      <td>0.528646</td>\n",
       "      <td>0.004660</td>\n",
       "      <td>1.107811</td>\n",
       "      <td>-0.232990</td>\n",
       "      <td>0.145885</td>\n",
       "      <td>-0.429239</td>\n",
       "      <td>1.053668</td>\n",
       "      <td>0.541488</td>\n",
       "      <td>0.669838</td>\n",
       "      <td>0.692981</td>\n",
       "      <td>0</td>\n",
       "    </tr>\n",
       "  </tbody>\n",
       "</table>\n",
       "</div>"
      ],
      "text/plain": [
       "   Time        V1        V2        V3        V4        V5        V6        V7  \\\n",
       "0   0.0 -0.904815 -0.131503  2.176074  0.983588 -0.256110  0.459227  0.193516   \n",
       "1   0.0  0.626390  0.093067 -0.035062  0.387928  0.031947  0.045846 -0.063874   \n",
       "2   1.0 -0.904242 -0.871858  1.381297  0.341811 -0.374492  1.320901  0.639714   \n",
       "3   1.0 -0.742857 -0.202760  1.401049 -0.581136 -0.019151  0.983351  0.191907   \n",
       "4   2.0 -0.823641  0.530197  1.160592  0.357540 -0.305614  0.187360  0.479194   \n",
       "\n",
       "         V8        V9       V10       V11       V12       V13       V14  \\\n",
       "0  0.020305  0.380443  0.127074 -0.513088 -0.774671 -0.997398 -0.404755   \n",
       "1  0.006711 -0.184488 -0.115195  1.523934  1.296242  0.498814 -0.232720   \n",
       "2  0.172348 -1.453859  0.234324  0.640742 -0.104954  0.724952 -0.255865   \n",
       "3  0.309141 -1.319689 -0.008922 -0.179270  0.026987  0.517344 -0.381222   \n",
       "4 -0.331706  0.769520  0.718432 -0.798770  0.496185  1.343525 -1.168769   \n",
       "\n",
       "        V15       V16       V17       V18       V19       V20       V21  \\\n",
       "0  1.711206 -0.600774  0.215544  0.009991  0.503467  0.323559 -0.007670   \n",
       "1  0.674890  0.491958 -0.175639 -0.238612 -0.169496 -0.093203 -0.298760   \n",
       "2  2.872435 -2.809663  1.383126 -0.165261 -2.838493  0.680896  0.357879   \n",
       "3 -0.720269 -1.194700 -0.829186  2.435570 -1.528799 -0.273184 -0.133275   \n",
       "4  0.138162 -0.580731 -0.319406 -0.066425  0.986458  0.528646  0.004660   \n",
       "\n",
       "        V22       V23       V24       V25       V26       V27       V28  \\\n",
       "0  0.366644 -0.189647  0.015102  0.211929 -0.323884  0.323027 -0.053332   \n",
       "1 -0.884170  0.153342 -0.637483  0.288440  0.353130 -0.035793  0.057491   \n",
       "2  1.069496  1.501808 -1.133450 -0.653607 -0.209953 -0.151417 -0.173752   \n",
       "3 -0.013060 -0.317680 -1.756645  1.276336 -0.399896  0.144087  0.201524   \n",
       "4  1.107811 -0.232990  0.145885 -0.429239  1.053668  0.541488  0.669838   \n",
       "\n",
       "     Amount  Class  \n",
       "0  1.119013      0  \n",
       "1 -1.128464      0  \n",
       "2  1.623286      0  \n",
       "3  1.012504      0  \n",
       "4  0.692981      0  "
      ]
     },
     "execution_count": 11,
     "metadata": {},
     "output_type": "execute_result"
    }
   ],
   "source": [
    "df.head()"
   ]
  },
  {
   "cell_type": "markdown",
   "metadata": {},
   "source": [
    "## Creating Training, Test and Validation Data Sets.\n",
    "\n",
    "We will be creating a data set of 400 points of real data which will not be used for training. Those 400 points will be used as a validation set to predict the outcome which our model doesn't knows. "
   ]
  },
  {
   "cell_type": "markdown",
   "metadata": {},
   "source": [
    "### Creating a separate dataframe for fraud transaction."
   ]
  },
  {
   "cell_type": "code",
   "execution_count": 12,
   "metadata": {},
   "outputs": [],
   "source": [
    "df_fraud = df[df.Class.eq(1)]"
   ]
  },
  {
   "cell_type": "code",
   "execution_count": 13,
   "metadata": {},
   "outputs": [
    {
     "data": {
      "text/html": [
       "<div>\n",
       "<style scoped>\n",
       "    .dataframe tbody tr th:only-of-type {\n",
       "        vertical-align: middle;\n",
       "    }\n",
       "\n",
       "    .dataframe tbody tr th {\n",
       "        vertical-align: top;\n",
       "    }\n",
       "\n",
       "    .dataframe thead th {\n",
       "        text-align: right;\n",
       "    }\n",
       "</style>\n",
       "<table border=\"1\" class=\"dataframe\">\n",
       "  <thead>\n",
       "    <tr style=\"text-align: right;\">\n",
       "      <th></th>\n",
       "      <th>Time</th>\n",
       "      <th>V1</th>\n",
       "      <th>V2</th>\n",
       "      <th>V3</th>\n",
       "      <th>V4</th>\n",
       "      <th>V5</th>\n",
       "      <th>V6</th>\n",
       "      <th>V7</th>\n",
       "      <th>V8</th>\n",
       "      <th>V9</th>\n",
       "      <th>V10</th>\n",
       "      <th>V11</th>\n",
       "      <th>V12</th>\n",
       "      <th>V13</th>\n",
       "      <th>V14</th>\n",
       "      <th>V15</th>\n",
       "      <th>V16</th>\n",
       "      <th>V17</th>\n",
       "      <th>V18</th>\n",
       "      <th>V19</th>\n",
       "      <th>V20</th>\n",
       "      <th>V21</th>\n",
       "      <th>V22</th>\n",
       "      <th>V23</th>\n",
       "      <th>V24</th>\n",
       "      <th>V25</th>\n",
       "      <th>V26</th>\n",
       "      <th>V27</th>\n",
       "      <th>V28</th>\n",
       "      <th>Amount</th>\n",
       "      <th>Class</th>\n",
       "    </tr>\n",
       "  </thead>\n",
       "  <tbody>\n",
       "    <tr>\n",
       "      <th>541</th>\n",
       "      <td>406.0</td>\n",
       "      <td>-1.249534</td>\n",
       "      <td>1.370838</td>\n",
       "      <td>-1.097099</td>\n",
       "      <td>2.480364</td>\n",
       "      <td>-0.388099</td>\n",
       "      <td>-1.203642</td>\n",
       "      <td>-2.050378</td>\n",
       "      <td>1.492955</td>\n",
       "      <td>-2.822766</td>\n",
       "      <td>-2.853681</td>\n",
       "      <td>2.859179</td>\n",
       "      <td>-2.271084</td>\n",
       "      <td>-0.592302</td>\n",
       "      <td>-3.640749</td>\n",
       "      <td>0.384487</td>\n",
       "      <td>-1.272679</td>\n",
       "      <td>-3.068206</td>\n",
       "      <td>-0.040938</td>\n",
       "      <td>0.519208</td>\n",
       "      <td>0.161395</td>\n",
       "      <td>0.719583</td>\n",
       "      <td>-0.068631</td>\n",
       "      <td>-0.753864</td>\n",
       "      <td>0.475317</td>\n",
       "      <td>0.047257</td>\n",
       "      <td>0.455889</td>\n",
       "      <td>0.648228</td>\n",
       "      <td>-0.435510</td>\n",
       "      <td>-2.013010</td>\n",
       "      <td>1</td>\n",
       "    </tr>\n",
       "    <tr>\n",
       "      <th>623</th>\n",
       "      <td>472.0</td>\n",
       "      <td>-1.482475</td>\n",
       "      <td>-1.795489</td>\n",
       "      <td>0.729014</td>\n",
       "      <td>1.526755</td>\n",
       "      <td>0.991044</td>\n",
       "      <td>-0.840913</td>\n",
       "      <td>0.263023</td>\n",
       "      <td>-0.142698</td>\n",
       "      <td>-0.199261</td>\n",
       "      <td>-0.778381</td>\n",
       "      <td>-0.371160</td>\n",
       "      <td>-0.674951</td>\n",
       "      <td>0.684599</td>\n",
       "      <td>-1.663094</td>\n",
       "      <td>2.408434</td>\n",
       "      <td>0.758482</td>\n",
       "      <td>0.711016</td>\n",
       "      <td>2.126560</td>\n",
       "      <td>0.356716</td>\n",
       "      <td>2.760132</td>\n",
       "      <td>0.910963</td>\n",
       "      <td>0.589118</td>\n",
       "      <td>2.301509</td>\n",
       "      <td>-0.568264</td>\n",
       "      <td>0.514216</td>\n",
       "      <td>-0.224094</td>\n",
       "      <td>-0.638076</td>\n",
       "      <td>0.122437</td>\n",
       "      <td>1.800166</td>\n",
       "      <td>1</td>\n",
       "    </tr>\n",
       "    <tr>\n",
       "      <th>4920</th>\n",
       "      <td>4462.0</td>\n",
       "      <td>-1.246561</td>\n",
       "      <td>1.214344</td>\n",
       "      <td>-0.395235</td>\n",
       "      <td>1.550873</td>\n",
       "      <td>-0.601998</td>\n",
       "      <td>0.051188</td>\n",
       "      <td>0.454435</td>\n",
       "      <td>-0.447077</td>\n",
       "      <td>-0.168182</td>\n",
       "      <td>-1.492155</td>\n",
       "      <td>1.885258</td>\n",
       "      <td>-3.871391</td>\n",
       "      <td>0.033424</td>\n",
       "      <td>-1.475012</td>\n",
       "      <td>-0.788082</td>\n",
       "      <td>-2.301552</td>\n",
       "      <td>-4.940019</td>\n",
       "      <td>-2.982256</td>\n",
       "      <td>-1.657560</td>\n",
       "      <td>-0.559930</td>\n",
       "      <td>-0.395841</td>\n",
       "      <td>-1.272315</td>\n",
       "      <td>0.270191</td>\n",
       "      <td>-0.244199</td>\n",
       "      <td>-0.335972</td>\n",
       "      <td>-1.192874</td>\n",
       "      <td>0.085854</td>\n",
       "      <td>-0.466234</td>\n",
       "      <td>1.377851</td>\n",
       "      <td>1</td>\n",
       "    </tr>\n",
       "    <tr>\n",
       "      <th>6108</th>\n",
       "      <td>6986.0</td>\n",
       "      <td>-1.865380</td>\n",
       "      <td>0.896381</td>\n",
       "      <td>-1.568201</td>\n",
       "      <td>1.751492</td>\n",
       "      <td>-0.819787</td>\n",
       "      <td>-1.495418</td>\n",
       "      <td>-2.824821</td>\n",
       "      <td>-0.311865</td>\n",
       "      <td>-0.177212</td>\n",
       "      <td>-5.199019</td>\n",
       "      <td>4.210365</td>\n",
       "      <td>-5.289869</td>\n",
       "      <td>0.195189</td>\n",
       "      <td>-5.297450</td>\n",
       "      <td>-0.065212</td>\n",
       "      <td>-6.078746</td>\n",
       "      <td>-11.732487</td>\n",
       "      <td>-5.676296</td>\n",
       "      <td>0.387150</td>\n",
       "      <td>-0.226037</td>\n",
       "      <td>0.794429</td>\n",
       "      <td>0.225343</td>\n",
       "      <td>-0.708149</td>\n",
       "      <td>-0.188719</td>\n",
       "      <td>0.458942</td>\n",
       "      <td>-1.497745</td>\n",
       "      <td>-2.012857</td>\n",
       "      <td>2.534184</td>\n",
       "      <td>0.595736</td>\n",
       "      <td>1</td>\n",
       "    </tr>\n",
       "    <tr>\n",
       "      <th>6329</th>\n",
       "      <td>7519.0</td>\n",
       "      <td>0.663511</td>\n",
       "      <td>2.274613</td>\n",
       "      <td>-2.294167</td>\n",
       "      <td>2.871415</td>\n",
       "      <td>2.700499</td>\n",
       "      <td>-1.133374</td>\n",
       "      <td>1.385334</td>\n",
       "      <td>-0.532255</td>\n",
       "      <td>-1.210981</td>\n",
       "      <td>-2.492105</td>\n",
       "      <td>1.943464</td>\n",
       "      <td>-3.089445</td>\n",
       "      <td>1.459569</td>\n",
       "      <td>-4.851636</td>\n",
       "      <td>-0.420336</td>\n",
       "      <td>3.627541</td>\n",
       "      <td>9.872071</td>\n",
       "      <td>3.839165</td>\n",
       "      <td>-3.428830</td>\n",
       "      <td>0.008200</td>\n",
       "      <td>-0.517070</td>\n",
       "      <td>-0.971159</td>\n",
       "      <td>-1.054226</td>\n",
       "      <td>-2.290661</td>\n",
       "      <td>3.138419</td>\n",
       "      <td>1.164825</td>\n",
       "      <td>-0.038375</td>\n",
       "      <td>0.462516</td>\n",
       "      <td>-1.536955</td>\n",
       "      <td>1</td>\n",
       "    </tr>\n",
       "  </tbody>\n",
       "</table>\n",
       "</div>"
      ],
      "text/plain": [
       "        Time        V1        V2        V3        V4        V5        V6  \\\n",
       "541    406.0 -1.249534  1.370838 -1.097099  2.480364 -0.388099 -1.203642   \n",
       "623    472.0 -1.482475 -1.795489  0.729014  1.526755  0.991044 -0.840913   \n",
       "4920  4462.0 -1.246561  1.214344 -0.395235  1.550873 -0.601998  0.051188   \n",
       "6108  6986.0 -1.865380  0.896381 -1.568201  1.751492 -0.819787 -1.495418   \n",
       "6329  7519.0  0.663511  2.274613 -2.294167  2.871415  2.700499 -1.133374   \n",
       "\n",
       "            V7        V8        V9       V10       V11       V12       V13  \\\n",
       "541  -2.050378  1.492955 -2.822766 -2.853681  2.859179 -2.271084 -0.592302   \n",
       "623   0.263023 -0.142698 -0.199261 -0.778381 -0.371160 -0.674951  0.684599   \n",
       "4920  0.454435 -0.447077 -0.168182 -1.492155  1.885258 -3.871391  0.033424   \n",
       "6108 -2.824821 -0.311865 -0.177212 -5.199019  4.210365 -5.289869  0.195189   \n",
       "6329  1.385334 -0.532255 -1.210981 -2.492105  1.943464 -3.089445  1.459569   \n",
       "\n",
       "           V14       V15       V16        V17       V18       V19       V20  \\\n",
       "541  -3.640749  0.384487 -1.272679  -3.068206 -0.040938  0.519208  0.161395   \n",
       "623  -1.663094  2.408434  0.758482   0.711016  2.126560  0.356716  2.760132   \n",
       "4920 -1.475012 -0.788082 -2.301552  -4.940019 -2.982256 -1.657560 -0.559930   \n",
       "6108 -5.297450 -0.065212 -6.078746 -11.732487 -5.676296  0.387150 -0.226037   \n",
       "6329 -4.851636 -0.420336  3.627541   9.872071  3.839165 -3.428830  0.008200   \n",
       "\n",
       "           V21       V22       V23       V24       V25       V26       V27  \\\n",
       "541   0.719583 -0.068631 -0.753864  0.475317  0.047257  0.455889  0.648228   \n",
       "623   0.910963  0.589118  2.301509 -0.568264  0.514216 -0.224094 -0.638076   \n",
       "4920 -0.395841 -1.272315  0.270191 -0.244199 -0.335972 -1.192874  0.085854   \n",
       "6108  0.794429  0.225343 -0.708149 -0.188719  0.458942 -1.497745 -2.012857   \n",
       "6329 -0.517070 -0.971159 -1.054226 -2.290661  3.138419  1.164825 -0.038375   \n",
       "\n",
       "           V28    Amount  Class  \n",
       "541  -0.435510 -2.013010      1  \n",
       "623   0.122437  1.800166      1  \n",
       "4920 -0.466234  1.377851      1  \n",
       "6108  2.534184  0.595736      1  \n",
       "6329  0.462516 -1.536955      1  "
      ]
     },
     "execution_count": 13,
     "metadata": {},
     "output_type": "execute_result"
    }
   ],
   "source": [
    "df_fraud.head()"
   ]
  },
  {
   "cell_type": "code",
   "execution_count": 14,
   "metadata": {},
   "outputs": [
    {
     "data": {
      "text/plain": [
       "(492, 31)"
      ]
     },
     "execution_count": 14,
     "metadata": {},
     "output_type": "execute_result"
    }
   ],
   "source": [
    "df_fraud.shape"
   ]
  },
  {
   "cell_type": "markdown",
   "metadata": {},
   "source": [
    "### Creating a separate dataframe for normal transaction."
   ]
  },
  {
   "cell_type": "code",
   "execution_count": 15,
   "metadata": {},
   "outputs": [],
   "source": [
    "df_norm = df[df.Class.eq(0)]"
   ]
  },
  {
   "cell_type": "code",
   "execution_count": 16,
   "metadata": {},
   "outputs": [
    {
     "data": {
      "text/html": [
       "<div>\n",
       "<style scoped>\n",
       "    .dataframe tbody tr th:only-of-type {\n",
       "        vertical-align: middle;\n",
       "    }\n",
       "\n",
       "    .dataframe tbody tr th {\n",
       "        vertical-align: top;\n",
       "    }\n",
       "\n",
       "    .dataframe thead th {\n",
       "        text-align: right;\n",
       "    }\n",
       "</style>\n",
       "<table border=\"1\" class=\"dataframe\">\n",
       "  <thead>\n",
       "    <tr style=\"text-align: right;\">\n",
       "      <th></th>\n",
       "      <th>Time</th>\n",
       "      <th>V1</th>\n",
       "      <th>V2</th>\n",
       "      <th>V3</th>\n",
       "      <th>V4</th>\n",
       "      <th>V5</th>\n",
       "      <th>V6</th>\n",
       "      <th>V7</th>\n",
       "      <th>V8</th>\n",
       "      <th>V9</th>\n",
       "      <th>V10</th>\n",
       "      <th>V11</th>\n",
       "      <th>V12</th>\n",
       "      <th>V13</th>\n",
       "      <th>V14</th>\n",
       "      <th>V15</th>\n",
       "      <th>V16</th>\n",
       "      <th>V17</th>\n",
       "      <th>V18</th>\n",
       "      <th>V19</th>\n",
       "      <th>V20</th>\n",
       "      <th>V21</th>\n",
       "      <th>V22</th>\n",
       "      <th>V23</th>\n",
       "      <th>V24</th>\n",
       "      <th>V25</th>\n",
       "      <th>V26</th>\n",
       "      <th>V27</th>\n",
       "      <th>V28</th>\n",
       "      <th>Amount</th>\n",
       "      <th>Class</th>\n",
       "    </tr>\n",
       "  </thead>\n",
       "  <tbody>\n",
       "    <tr>\n",
       "      <th>0</th>\n",
       "      <td>0.0</td>\n",
       "      <td>-0.904815</td>\n",
       "      <td>-0.131503</td>\n",
       "      <td>2.176074</td>\n",
       "      <td>0.983588</td>\n",
       "      <td>-0.256110</td>\n",
       "      <td>0.459227</td>\n",
       "      <td>0.193516</td>\n",
       "      <td>0.020305</td>\n",
       "      <td>0.380443</td>\n",
       "      <td>0.127074</td>\n",
       "      <td>-0.513088</td>\n",
       "      <td>-0.774671</td>\n",
       "      <td>-0.997398</td>\n",
       "      <td>-0.404755</td>\n",
       "      <td>1.711206</td>\n",
       "      <td>-0.600774</td>\n",
       "      <td>0.215544</td>\n",
       "      <td>0.009991</td>\n",
       "      <td>0.503467</td>\n",
       "      <td>0.323559</td>\n",
       "      <td>-0.007670</td>\n",
       "      <td>0.366644</td>\n",
       "      <td>-0.189647</td>\n",
       "      <td>0.015102</td>\n",
       "      <td>0.211929</td>\n",
       "      <td>-0.323884</td>\n",
       "      <td>0.323027</td>\n",
       "      <td>-0.053332</td>\n",
       "      <td>1.119013</td>\n",
       "      <td>0</td>\n",
       "    </tr>\n",
       "    <tr>\n",
       "      <th>1</th>\n",
       "      <td>0.0</td>\n",
       "      <td>0.626390</td>\n",
       "      <td>0.093067</td>\n",
       "      <td>-0.035062</td>\n",
       "      <td>0.387928</td>\n",
       "      <td>0.031947</td>\n",
       "      <td>0.045846</td>\n",
       "      <td>-0.063874</td>\n",
       "      <td>0.006711</td>\n",
       "      <td>-0.184488</td>\n",
       "      <td>-0.115195</td>\n",
       "      <td>1.523934</td>\n",
       "      <td>1.296242</td>\n",
       "      <td>0.498814</td>\n",
       "      <td>-0.232720</td>\n",
       "      <td>0.674890</td>\n",
       "      <td>0.491958</td>\n",
       "      <td>-0.175639</td>\n",
       "      <td>-0.238612</td>\n",
       "      <td>-0.169496</td>\n",
       "      <td>-0.093203</td>\n",
       "      <td>-0.298760</td>\n",
       "      <td>-0.884170</td>\n",
       "      <td>0.153342</td>\n",
       "      <td>-0.637483</td>\n",
       "      <td>0.288440</td>\n",
       "      <td>0.353130</td>\n",
       "      <td>-0.035793</td>\n",
       "      <td>0.057491</td>\n",
       "      <td>-1.128464</td>\n",
       "      <td>0</td>\n",
       "    </tr>\n",
       "    <tr>\n",
       "      <th>2</th>\n",
       "      <td>1.0</td>\n",
       "      <td>-0.904242</td>\n",
       "      <td>-0.871858</td>\n",
       "      <td>1.381297</td>\n",
       "      <td>0.341811</td>\n",
       "      <td>-0.374492</td>\n",
       "      <td>1.320901</td>\n",
       "      <td>0.639714</td>\n",
       "      <td>0.172348</td>\n",
       "      <td>-1.453859</td>\n",
       "      <td>0.234324</td>\n",
       "      <td>0.640742</td>\n",
       "      <td>-0.104954</td>\n",
       "      <td>0.724952</td>\n",
       "      <td>-0.255865</td>\n",
       "      <td>2.872435</td>\n",
       "      <td>-2.809663</td>\n",
       "      <td>1.383126</td>\n",
       "      <td>-0.165261</td>\n",
       "      <td>-2.838493</td>\n",
       "      <td>0.680896</td>\n",
       "      <td>0.357879</td>\n",
       "      <td>1.069496</td>\n",
       "      <td>1.501808</td>\n",
       "      <td>-1.133450</td>\n",
       "      <td>-0.653607</td>\n",
       "      <td>-0.209953</td>\n",
       "      <td>-0.151417</td>\n",
       "      <td>-0.173752</td>\n",
       "      <td>1.623286</td>\n",
       "      <td>0</td>\n",
       "    </tr>\n",
       "    <tr>\n",
       "      <th>3</th>\n",
       "      <td>1.0</td>\n",
       "      <td>-0.742857</td>\n",
       "      <td>-0.202760</td>\n",
       "      <td>1.401049</td>\n",
       "      <td>-0.581136</td>\n",
       "      <td>-0.019151</td>\n",
       "      <td>0.983351</td>\n",
       "      <td>0.191907</td>\n",
       "      <td>0.309141</td>\n",
       "      <td>-1.319689</td>\n",
       "      <td>-0.008922</td>\n",
       "      <td>-0.179270</td>\n",
       "      <td>0.026987</td>\n",
       "      <td>0.517344</td>\n",
       "      <td>-0.381222</td>\n",
       "      <td>-0.720269</td>\n",
       "      <td>-1.194700</td>\n",
       "      <td>-0.829186</td>\n",
       "      <td>2.435570</td>\n",
       "      <td>-1.528799</td>\n",
       "      <td>-0.273184</td>\n",
       "      <td>-0.133275</td>\n",
       "      <td>-0.013060</td>\n",
       "      <td>-0.317680</td>\n",
       "      <td>-1.756645</td>\n",
       "      <td>1.276336</td>\n",
       "      <td>-0.399896</td>\n",
       "      <td>0.144087</td>\n",
       "      <td>0.201524</td>\n",
       "      <td>1.012504</td>\n",
       "      <td>0</td>\n",
       "    </tr>\n",
       "    <tr>\n",
       "      <th>4</th>\n",
       "      <td>2.0</td>\n",
       "      <td>-0.823641</td>\n",
       "      <td>0.530197</td>\n",
       "      <td>1.160592</td>\n",
       "      <td>0.357540</td>\n",
       "      <td>-0.305614</td>\n",
       "      <td>0.187360</td>\n",
       "      <td>0.479194</td>\n",
       "      <td>-0.331706</td>\n",
       "      <td>0.769520</td>\n",
       "      <td>0.718432</td>\n",
       "      <td>-0.798770</td>\n",
       "      <td>0.496185</td>\n",
       "      <td>1.343525</td>\n",
       "      <td>-1.168769</td>\n",
       "      <td>0.138162</td>\n",
       "      <td>-0.580731</td>\n",
       "      <td>-0.319406</td>\n",
       "      <td>-0.066425</td>\n",
       "      <td>0.986458</td>\n",
       "      <td>0.528646</td>\n",
       "      <td>0.004660</td>\n",
       "      <td>1.107811</td>\n",
       "      <td>-0.232990</td>\n",
       "      <td>0.145885</td>\n",
       "      <td>-0.429239</td>\n",
       "      <td>1.053668</td>\n",
       "      <td>0.541488</td>\n",
       "      <td>0.669838</td>\n",
       "      <td>0.692981</td>\n",
       "      <td>0</td>\n",
       "    </tr>\n",
       "  </tbody>\n",
       "</table>\n",
       "</div>"
      ],
      "text/plain": [
       "   Time        V1        V2        V3        V4        V5        V6        V7  \\\n",
       "0   0.0 -0.904815 -0.131503  2.176074  0.983588 -0.256110  0.459227  0.193516   \n",
       "1   0.0  0.626390  0.093067 -0.035062  0.387928  0.031947  0.045846 -0.063874   \n",
       "2   1.0 -0.904242 -0.871858  1.381297  0.341811 -0.374492  1.320901  0.639714   \n",
       "3   1.0 -0.742857 -0.202760  1.401049 -0.581136 -0.019151  0.983351  0.191907   \n",
       "4   2.0 -0.823641  0.530197  1.160592  0.357540 -0.305614  0.187360  0.479194   \n",
       "\n",
       "         V8        V9       V10       V11       V12       V13       V14  \\\n",
       "0  0.020305  0.380443  0.127074 -0.513088 -0.774671 -0.997398 -0.404755   \n",
       "1  0.006711 -0.184488 -0.115195  1.523934  1.296242  0.498814 -0.232720   \n",
       "2  0.172348 -1.453859  0.234324  0.640742 -0.104954  0.724952 -0.255865   \n",
       "3  0.309141 -1.319689 -0.008922 -0.179270  0.026987  0.517344 -0.381222   \n",
       "4 -0.331706  0.769520  0.718432 -0.798770  0.496185  1.343525 -1.168769   \n",
       "\n",
       "        V15       V16       V17       V18       V19       V20       V21  \\\n",
       "0  1.711206 -0.600774  0.215544  0.009991  0.503467  0.323559 -0.007670   \n",
       "1  0.674890  0.491958 -0.175639 -0.238612 -0.169496 -0.093203 -0.298760   \n",
       "2  2.872435 -2.809663  1.383126 -0.165261 -2.838493  0.680896  0.357879   \n",
       "3 -0.720269 -1.194700 -0.829186  2.435570 -1.528799 -0.273184 -0.133275   \n",
       "4  0.138162 -0.580731 -0.319406 -0.066425  0.986458  0.528646  0.004660   \n",
       "\n",
       "        V22       V23       V24       V25       V26       V27       V28  \\\n",
       "0  0.366644 -0.189647  0.015102  0.211929 -0.323884  0.323027 -0.053332   \n",
       "1 -0.884170  0.153342 -0.637483  0.288440  0.353130 -0.035793  0.057491   \n",
       "2  1.069496  1.501808 -1.133450 -0.653607 -0.209953 -0.151417 -0.173752   \n",
       "3 -0.013060 -0.317680 -1.756645  1.276336 -0.399896  0.144087  0.201524   \n",
       "4  1.107811 -0.232990  0.145885 -0.429239  1.053668  0.541488  0.669838   \n",
       "\n",
       "     Amount  Class  \n",
       "0  1.119013      0  \n",
       "1 -1.128464      0  \n",
       "2  1.623286      0  \n",
       "3  1.012504      0  \n",
       "4  0.692981      0  "
      ]
     },
     "execution_count": 16,
     "metadata": {},
     "output_type": "execute_result"
    }
   ],
   "source": [
    "df_norm.head()"
   ]
  },
  {
   "cell_type": "code",
   "execution_count": 17,
   "metadata": {},
   "outputs": [
    {
     "data": {
      "text/plain": [
       "(284315, 31)"
      ]
     },
     "execution_count": 17,
     "metadata": {},
     "output_type": "execute_result"
    }
   ],
   "source": [
    "df_norm.shape"
   ]
  },
  {
   "cell_type": "markdown",
   "metadata": {},
   "source": [
    "# Checking for data imbalance"
   ]
  },
  {
   "cell_type": "code",
   "execution_count": 18,
   "metadata": {},
   "outputs": [
    {
     "data": {
      "text/plain": [
       "<matplotlib.axes._subplots.AxesSubplot at 0x260c2b8f148>"
      ]
     },
     "execution_count": 18,
     "metadata": {},
     "output_type": "execute_result"
    },
    {
     "data": {
      "image/png": "[encoded data removed]",
      "text/plain": [
       "<Figure size 432x288 with 1 Axes>"
      ]
     },
     "metadata": {
      "needs_background": "light"
     },
     "output_type": "display_data"
    }
   ],
   "source": [
    "import matplotlib.pyplot as plt\n",
    "import seaborn as sns\n",
    "sns.barplot(x='Class', y=len(df.index), palette='husl', data=df, estimator = sum)"
   ]
  },
  {
   "cell_type": "markdown",
   "metadata": {},
   "source": [
    "### We have the following details:\n",
    "#### 1. Total number of data points: 284807\n",
    "#### 2. Total number of data points with class 1 (fraudulent transactions): 492\n",
    "#### 3. Total number of data points with class 0 (normal transactions): 284,315‬\n",
    "\n",
    "#### So we have a huge data imbalance in the dataset normally the class ratio should be 10:1 to call a dataset to be balanced one. Later we will be using ADASYN to balance the classes in our dataset, the ratio will be 1:1 at that time."
   ]
  },
  {
   "cell_type": "markdown",
   "metadata": {},
   "source": [
    "#### In order to proceed further we have to deal with the data imbalance but first we will create a validation set based on the real data and not synthetic data."
   ]
  },
  {
   "cell_type": "markdown",
   "metadata": {},
   "source": [
    "### Creating Custom Validation dataset."
   ]
  },
  {
   "cell_type": "markdown",
   "metadata": {},
   "source": [
    "#### We are going to create a validation dataset which will have 1:1 ratio of both the classes. We will take 200 data points of each class."
   ]
  },
  {
   "cell_type": "code",
   "execution_count": 19,
   "metadata": {},
   "outputs": [],
   "source": [
    "df_val_norm = df_norm.head(200)"
   ]
  },
  {
   "cell_type": "code",
   "execution_count": 20,
   "metadata": {},
   "outputs": [],
   "source": [
    "df_val_fraud = df_fraud.tail(200)"
   ]
  },
  {
   "cell_type": "code",
   "execution_count": 21,
   "metadata": {},
   "outputs": [],
   "source": [
    "df_val = df_val_norm.append(df_val_fraud, ignore_index=True)"
   ]
  },
  {
   "cell_type": "code",
   "execution_count": 22,
   "metadata": {},
   "outputs": [
    {
     "data": {
      "text/plain": [
       "(400, 31)"
      ]
     },
     "execution_count": 22,
     "metadata": {},
     "output_type": "execute_result"
    }
   ],
   "source": [
    "df_val.shape"
   ]
  },
  {
   "cell_type": "markdown",
   "metadata": {},
   "source": [
    "### Splitting the validation test set."
   ]
  },
  {
   "cell_type": "code",
   "execution_count": 23,
   "metadata": {},
   "outputs": [],
   "source": [
    "X_val = df_val[['V1', 'V2', 'V3', 'V4', 'V5', 'V6', 'V7', 'V8', 'V9', 'V10',\n",
    "       'V11', 'V12', 'V13', 'V14', 'V15', 'V16', 'V17', 'V18', 'V19', 'V20',\n",
    "       'V21', 'V22', 'V23', 'V24', 'V25', 'V26', 'V27', 'V28', 'Amount']]"
   ]
  },
  {
   "cell_type": "code",
   "execution_count": 24,
   "metadata": {},
   "outputs": [],
   "source": [
    "y_val = df_val[['Class']]"
   ]
  },
  {
   "cell_type": "markdown",
   "metadata": {},
   "source": [
    "### Creating Custom Train-Test dataset."
   ]
  },
  {
   "cell_type": "code",
   "execution_count": 25,
   "metadata": {},
   "outputs": [],
   "source": [
    "df_train_norm = df_norm.iloc[200:]"
   ]
  },
  {
   "cell_type": "code",
   "execution_count": 26,
   "metadata": {},
   "outputs": [],
   "source": [
    "df_train_fraud = df_fraud.iloc[:-200]"
   ]
  },
  {
   "cell_type": "code",
   "execution_count": 27,
   "metadata": {},
   "outputs": [],
   "source": [
    "df_train = df_train_norm.append(df_train_fraud, ignore_index=True)"
   ]
  },
  {
   "cell_type": "code",
   "execution_count": 28,
   "metadata": {},
   "outputs": [
    {
     "data": {
      "text/plain": [
       "(284407, 31)"
      ]
     },
     "execution_count": 28,
     "metadata": {},
     "output_type": "execute_result"
    }
   ],
   "source": [
    "df_train.shape"
   ]
  },
  {
   "cell_type": "markdown",
   "metadata": {},
   "source": [
    "### Dealing with the data imbalance"
   ]
  },
  {
   "cell_type": "code",
   "execution_count": 29,
   "metadata": {},
   "outputs": [
    {
     "name": "stderr",
     "output_type": "stream",
     "text": [
      "Using TensorFlow backend.\n"
     ]
    }
   ],
   "source": [
    "import imblearn"
   ]
  },
  {
   "cell_type": "code",
   "execution_count": 30,
   "metadata": {},
   "outputs": [],
   "source": [
    "from collections import Counter\n",
    "from sklearn.datasets import make_classification\n",
    "from imblearn.over_sampling import ADASYN\n",
    "from matplotlib import pyplot\n",
    "from numpy import where"
   ]
  },
  {
   "cell_type": "code",
   "execution_count": 31,
   "metadata": {},
   "outputs": [
    {
     "data": {
      "text/plain": [
       "Index(['Time', 'V1', 'V2', 'V3', 'V4', 'V5', 'V6', 'V7', 'V8', 'V9', 'V10',\n",
       "       'V11', 'V12', 'V13', 'V14', 'V15', 'V16', 'V17', 'V18', 'V19', 'V20',\n",
       "       'V21', 'V22', 'V23', 'V24', 'V25', 'V26', 'V27', 'V28', 'Amount',\n",
       "       'Class'],\n",
       "      dtype='object')"
      ]
     },
     "execution_count": 31,
     "metadata": {},
     "output_type": "execute_result"
    }
   ],
   "source": [
    "df_train.columns"
   ]
  },
  {
   "cell_type": "code",
   "execution_count": 32,
   "metadata": {},
   "outputs": [],
   "source": [
    "X = df_train[['V1', 'V2', 'V3', 'V4', 'V5', 'V6', 'V7', 'V8', 'V9', 'V10',\n",
    "       'V11', 'V12', 'V13', 'V14', 'V15', 'V16', 'V17', 'V18', 'V19', 'V20',\n",
    "       'V21', 'V22', 'V23', 'V24', 'V25', 'V26', 'V27', 'V28', 'Amount']]"
   ]
  },
  {
   "cell_type": "code",
   "execution_count": 33,
   "metadata": {},
   "outputs": [],
   "source": [
    "y = df_train[['Class']]"
   ]
  },
  {
   "cell_type": "code",
   "execution_count": 35,
   "metadata": {},
   "outputs": [],
   "source": [
    "oversample = ADASYN()"
   ]
  },
  {
   "cell_type": "code",
   "execution_count": 36,
   "metadata": {},
   "outputs": [],
   "source": [
    "# oversampling the dataset\n",
    "X, y = oversample.fit_resample(X, y)"
   ]
  },
  {
   "cell_type": "code",
   "execution_count": 37,
   "metadata": {},
   "outputs": [
    {
     "name": "stdout",
     "output_type": "stream",
     "text": [
      "Counter({1: 284170, 0: 284115})\n"
     ]
    }
   ],
   "source": [
    "# summarize the new class distribution\n",
    "counter = Counter(y)\n",
    "print(counter)"
   ]
  },
  {
   "cell_type": "markdown",
   "metadata": {},
   "source": [
    "#### So now we can see that the classes are balanced and the ratio is almost 1:1."
   ]
  },
  {
   "cell_type": "markdown",
   "metadata": {},
   "source": [
    "### Representing all the data points on the plot"
   ]
  },
  {
   "cell_type": "code",
   "execution_count": 38,
   "metadata": {},
   "outputs": [
    {
     "data": {
      "image/png": "[encoded data removed]",
      "text/plain": [
       "<Figure size 432x288 with 1 Axes>"
      ]
     },
     "metadata": {
      "needs_background": "light"
     },
     "output_type": "display_data"
    }
   ],
   "source": [
    "# scatter plot of examples by class label\n",
    "for label, _ in counter.items():\n",
    "\trow_ix = where(y == label)[0]\n",
    "\tpyplot.scatter(X[row_ix, 0], X[row_ix, 1], label=str(label))\n",
    "pyplot.legend()\n",
    "pyplot.show()"
   ]
  },
  {
   "cell_type": "markdown",
   "metadata": {},
   "source": [
    "## Test-Train Split\n",
    "\n",
    "Here we are splitting the data in training and test data sets. Note that we have taken out 400 data points from the original data for the validation set already and we will use them later for validating our models."
   ]
  },
  {
   "cell_type": "code",
   "execution_count": 39,
   "metadata": {},
   "outputs": [],
   "source": [
    "from sklearn.model_selection import train_test_split \n",
    "X_train, X_test, y_train, y_test = train_test_split(X, y, train_size=0.7,test_size=0.3,random_state=100) "
   ]
  },
  {
   "cell_type": "markdown",
   "metadata": {},
   "source": [
    "## Random Forest Classifier"
   ]
  },
  {
   "cell_type": "code",
   "execution_count": 40,
   "metadata": {},
   "outputs": [
    {
     "name": "stdout",
     "output_type": "stream",
     "text": [
      "Fitting 3 folds for each of 10 candidates, totalling 30 fits\n"
     ]
    },
    {
     "name": "stderr",
     "output_type": "stream",
     "text": [
      "[Parallel(n_jobs=-1)]: Using backend LokyBackend with 12 concurrent workers.\n",
      "[Parallel(n_jobs=-1)]: Done  14 out of  30 | elapsed:  4.9min remaining:  5.6min\n",
      "[Parallel(n_jobs=-1)]: Done  21 out of  30 | elapsed:  8.4min remaining:  3.6min\n",
      "[Parallel(n_jobs=-1)]: Done  28 out of  30 | elapsed: 63.7min remaining:  4.5min\n",
      "[Parallel(n_jobs=-1)]: Done  30 out of  30 | elapsed: 64.4min finished\n"
     ]
    },
    {
     "name": "stdout",
     "output_type": "stream",
     "text": [
      "Time elapsed on random search:  1:05:57.433264\n"
     ]
    }
   ],
   "source": [
    "from sklearn.ensemble import RandomForestClassifier\n",
    "from sklearn.model_selection import RandomizedSearchCV\n",
    "from datetime import datetime as dt\n",
    "\n",
    "T=dt.now()\n",
    "\n",
    "tuned_parameters = {'max_depth':[3,4,5,6,7,8,9,10],\n",
    "                    'criterion':['gini','entropy'],\n",
    "                    'min_samples_split':[2,3,5,7,9], \n",
    "                    'max_features':['auto','sqrt', 'log2'],\n",
    "                    'min_samples_leaf':[1, 10, 25, 50, 75, 100],\n",
    "                    'n_estimators':[10,20,30,40,50,60,80,100,500,1000,1500,2000,3000],\n",
    "                    'max_leaf_nodes':[None, 10, 25, 50, 100, 500]}\n",
    "\n",
    "model = RandomForestClassifier(random_state=100)\n",
    "rf = RandomizedSearchCV(estimator=model, \n",
    "                                param_distributions=tuned_parameters, \n",
    "                                cv=3, scoring='roc_auc',\n",
    "                                verbose=5,\n",
    "                                n_jobs=-1,\n",
    "                                random_state=100)\n",
    "rf.fit(X_train, y_train)\n",
    "\n",
    "print(\"Time elapsed on random search: \",dt.now()-T)"
   ]
  },
  {
   "cell_type": "code",
   "execution_count": 41,
   "metadata": {},
   "outputs": [
    {
     "name": "stdout",
     "output_type": "stream",
     "text": [
      "We can get accuracy of  0.9996665673528632  using  {'n_estimators': 80, 'min_samples_split': 9, 'min_samples_leaf': 75, 'max_leaf_nodes': 500, 'max_features': 'log2', 'max_depth': 10, 'criterion': 'gini'}\n"
     ]
    }
   ],
   "source": [
    "print('We can get accuracy of ',rf.best_score_,' using ',rf.best_params_)"
   ]
  },
  {
   "cell_type": "code",
   "execution_count": 42,
   "metadata": {},
   "outputs": [],
   "source": [
    "# model with the best hyperparameters\n",
    "\n",
    "rfc = RandomForestClassifier(max_depth=10,\n",
    "                    criterion='gini',\n",
    "                    min_samples_split=9, \n",
    "                    max_features= 'log2',\n",
    "                    min_samples_leaf= 75,\n",
    "                    n_estimators=80,\n",
    "                    max_leaf_nodes= 500)"
   ]
  },
  {
   "cell_type": "code",
   "execution_count": 43,
   "metadata": {},
   "outputs": [
    {
     "data": {
      "text/plain": [
       "RandomForestClassifier(bootstrap=True, ccp_alpha=0.0, class_weight=None,\n",
       "                       criterion='gini', max_depth=10, max_features='log2',\n",
       "                       max_leaf_nodes=500, max_samples=None,\n",
       "                       min_impurity_decrease=0.0, min_impurity_split=None,\n",
       "                       min_samples_leaf=75, min_samples_split=9,\n",
       "                       min_weight_fraction_leaf=0.0, n_estimators=80,\n",
       "                       n_jobs=None, oob_score=False, random_state=None,\n",
       "                       verbose=0, warm_start=False)"
      ]
     },
     "execution_count": 43,
     "metadata": {},
     "output_type": "execute_result"
    }
   ],
   "source": [
    "# fit\n",
    "rfc.fit(X_train,y_train)"
   ]
  },
  {
   "cell_type": "code",
   "execution_count": 44,
   "metadata": {},
   "outputs": [],
   "source": [
    "# predictions on test set.\n",
    "y_pred_default = rfc.predict(X_test)"
   ]
  },
  {
   "cell_type": "code",
   "execution_count": 45,
   "metadata": {},
   "outputs": [],
   "source": [
    "# predictions on validation set.\n",
    "y_val_pred = rfc.predict(X_val)"
   ]
  },
  {
   "cell_type": "code",
   "execution_count": 46,
   "metadata": {},
   "outputs": [
    {
     "name": "stdout",
     "output_type": "stream",
     "text": [
      "              precision    recall  f1-score   support\n",
      "\n",
      "           0       1.00      0.99      1.00     85081\n",
      "           1       0.99      1.00      1.00     85405\n",
      "\n",
      "    accuracy                           1.00    170486\n",
      "   macro avg       1.00      1.00      1.00    170486\n",
      "weighted avg       1.00      1.00      1.00    170486\n",
      "\n",
      "[[84438   643]\n",
      " [   25 85380]]\n",
      "accuracy_score:   0.9960817897070727\n"
     ]
    }
   ],
   "source": [
    "from sklearn.metrics import classification_report, confusion_matrix, accuracy_score\n",
    "# Scores on test set.\n",
    "print(classification_report(y_test,y_pred_default))\n",
    "print(confusion_matrix(y_test,y_pred_default))\n",
    "print('Accuracy Score on the Test Set:  ',accuracy_score(y_test,y_pred_default))"
   ]
  },
  {
   "cell_type": "code",
   "execution_count": 47,
   "metadata": {},
   "outputs": [
    {
     "name": "stdout",
     "output_type": "stream",
     "text": [
      "              precision    recall  f1-score   support\n",
      "\n",
      "           0       0.86      0.99      0.92       200\n",
      "           1       0.99      0.83      0.91       200\n",
      "\n",
      "    accuracy                           0.92       400\n",
      "   macro avg       0.93      0.92      0.91       400\n",
      "weighted avg       0.93      0.92      0.91       400\n",
      "\n",
      "[[199   1]\n",
      " [ 33 167]]\n",
      "accuracy_score:   0.915\n"
     ]
    }
   ],
   "source": [
    "# Scores on validation set.\n",
    "print(classification_report(y_val,y_val_pred))\n",
    "print(confusion_matrix(y_val,y_val_pred))\n",
    "print('Accuracy Score on the Validation Set:  ',accuracy_score(y_val,y_val_pred))"
   ]
  },
  {
   "cell_type": "code",
   "execution_count": 48,
   "metadata": {},
   "outputs": [
    {
     "data": {
      "text/plain": [
       "array([[84438,   643],\n",
       "       [   25, 85380]], dtype=int64)"
      ]
     },
     "execution_count": 48,
     "metadata": {},
     "output_type": "execute_result"
    }
   ],
   "source": [
    "# Confusion Matrix on the test set.\n",
    "confusion_rf_hyper=confusion_matrix(y_test,y_pred_default)\n",
    "confusion_rf_hyper"
   ]
  },
  {
   "cell_type": "code",
   "execution_count": 49,
   "metadata": {},
   "outputs": [
    {
     "data": {
      "text/plain": [
       "array([[199,   1],\n",
       "       [ 33, 167]], dtype=int64)"
      ]
     },
     "execution_count": 49,
     "metadata": {},
     "output_type": "execute_result"
    }
   ],
   "source": [
    "# Confusion Matrix on validation set.\n",
    "confusion_rf_hyper_val = confusion_matrix(y_val,y_val_pred)\n",
    "confusion_rf_hyper_val"
   ]
  },
  {
   "cell_type": "code",
   "execution_count": 50,
   "metadata": {},
   "outputs": [
    {
     "name": "stdout",
     "output_type": "stream",
     "text": [
      "Accuracy Score:   0.9960817897070727\n",
      "Sensitivity:  0.9997072770915052\n",
      "Specificity:  0.9924424959744244\n",
      "false postive rate:  0.007557504025575628\n",
      "positive predictive value:  0.9925252548736966\n",
      "Negative predictive value:  0.9997040124077998\n",
      "Misclassification Rate:  0.003918210292927279\n"
     ]
    }
   ],
   "source": [
    "TN = confusion_rf_hyper[0,0] # true positive \n",
    "TP = confusion_rf_hyper[1,1] # true negatives\n",
    "FP = confusion_rf_hyper[0,1] # false positives\n",
    "FN = confusion_rf_hyper[1,0] # false negatives\n",
    "\n",
    "print('Accuracy Score:  ',accuracy_score(y_test,y_pred_default))\n",
    "\n",
    "# Sensitivity \n",
    "print('Sensitivity: ', TP / float(TP+FN))\n",
    "\n",
    "# Specificity\n",
    "print('Specificity: ',TN / float(TN+FP))\n",
    "\n",
    "# False postive rate - prediction \n",
    "print('false postive rate: ',FP/ float(TN+FP))\n",
    "\n",
    "# positive predictive value \n",
    "print('positive predictive value: ', TP / float(TP+FP))\n",
    "\n",
    "# Negative predictive value\n",
    "print('Negative predictive value: ',TN / float(TN+ FN))\n",
    "\n",
    "# Misclassification rate\n",
    "print('Misclassification Rate: ',(FN+FP)/(TP+TN+FP+FN))"
   ]
  },
  {
   "cell_type": "code",
   "execution_count": 51,
   "metadata": {},
   "outputs": [
    {
     "name": "stdout",
     "output_type": "stream",
     "text": [
      "Accuracy Score:   0.915\n",
      "Sensitivity:  0.835\n",
      "Specificity:  0.995\n",
      "false postive rate:  0.005\n",
      "positive predictive value:  0.9940476190476191\n",
      "Negative predictive value:  0.8577586206896551\n",
      "Misclassification Rate:  0.085\n"
     ]
    }
   ],
   "source": [
    "TN = confusion_rf_hyper_val[0,0] # true positive \n",
    "TP = confusion_rf_hyper_val[1,1] # true negatives\n",
    "FP = confusion_rf_hyper_val[0,1] # false positives\n",
    "FN = confusion_rf_hyper_val[1,0] # false negatives\n",
    "\n",
    "print('Accuracy Score:  ',accuracy_score(y_val,y_val_pred))\n",
    "\n",
    "# Sensitivity \n",
    "print('Sensitivity: ', TP / float(TP+FN))\n",
    "\n",
    "# Specificity\n",
    "print('Specificity: ',TN / float(TN+FP))\n",
    "\n",
    "# False postive rate - prediction \n",
    "print('false postive rate: ',FP/ float(TN+FP))\n",
    "\n",
    "# positive predictive value \n",
    "print('positive predictive value: ', TP / float(TP+FP))\n",
    "\n",
    "# Negative predictive value\n",
    "print('Negative predictive value: ',TN / float(TN+ FN))\n",
    "\n",
    "# Misclassification rate\n",
    "print('Misclassification Rate: ',(FN+FP)/(TP+TN+FP+FN))"
   ]
  },
  {
   "cell_type": "code",
   "execution_count": 52,
   "metadata": {},
   "outputs": [
    {
     "data": {
      "text/plain": [
       "LinearSVC(C=1.0, class_weight=None, dual=True, fit_intercept=True,\n",
       "          intercept_scaling=1, loss='squared_hinge', max_iter=1000,\n",
       "          multi_class='ovr', penalty='l2', random_state=100, tol=0.0001,\n",
       "          verbose=0)"
      ]
     },
     "execution_count": 52,
     "metadata": {},
     "output_type": "execute_result"
    }
   ],
   "source": [
    "# Create a simple classifier\n",
    "from sklearn import svm as svm\n",
    "classifier = svm.LinearSVC(random_state=100)\n",
    "classifier.fit(X_train, y_train)"
   ]
  },
  {
   "cell_type": "code",
   "execution_count": 53,
   "metadata": {},
   "outputs": [
    {
     "name": "stdout",
     "output_type": "stream",
     "text": [
      "Average precision-recall score on test set: 0.99\n"
     ]
    }
   ],
   "source": [
    "from sklearn.metrics import average_precision_score as average_precision_score\n",
    "average_precision_test = average_precision_score(y_test, y_pred_default)\n",
    "\n",
    "print('Average precision-recall score on test set: {0:0.2f}'.format(\n",
    "      average_precision_test))"
   ]
  },
  {
   "cell_type": "code",
   "execution_count": 54,
   "metadata": {},
   "outputs": [
    {
     "name": "stdout",
     "output_type": "stream",
     "text": [
      "Average precision-recall score on validation set: 0.91\n"
     ]
    }
   ],
   "source": [
    "average_precision_val = average_precision_score(y_val, y_val_pred)\n",
    "\n",
    "print('Average precision-recall score on validation set: {0:0.2f}'.format(\n",
    "      average_precision_val))"
   ]
  },
  {
   "cell_type": "code",
   "execution_count": 55,
   "metadata": {},
   "outputs": [
    {
     "data": {
      "text/plain": [
       "Text(0.5, 1.0, '2-class Precision-Recall curve: AP=0.99')"
      ]
     },
     "execution_count": 55,
     "metadata": {},
     "output_type": "execute_result"
    },
    {
     "data": {
      "image/png": "[encoded data removed]",
      "text/plain": [
       "<Figure size 432x288 with 1 Axes>"
      ]
     },
     "metadata": {
      "needs_background": "light"
     },
     "output_type": "display_data"
    }
   ],
   "source": [
    "from sklearn.metrics import precision_recall_curve\n",
    "from sklearn.metrics import plot_precision_recall_curve\n",
    "import matplotlib.pyplot as plt\n",
    "\n",
    "disp = plot_precision_recall_curve(classifier, X_test, y_test)\n",
    "disp.ax_.set_title('2-class Precision-Recall curve')"
   ]
  },
  {
   "cell_type": "code",
   "execution_count": 56,
   "metadata": {},
   "outputs": [
    {
     "data": {
      "text/plain": [
       "Text(0.5, 1.0, '2-class Precision-Recall curve: AP=0.91')"
      ]
     },
     "execution_count": 56,
     "metadata": {},
     "output_type": "execute_result"
    },
    {
     "data": {
      "image/png": "[encoded data removed]",
      "text/plain": [
       "<Figure size 432x288 with 1 Axes>"
      ]
     },
     "metadata": {
      "needs_background": "light"
     },
     "output_type": "display_data"
    }
   ],
   "source": [
    "disp = plot_precision_recall_curve(classifier, X_val, y_val)\n",
    "disp.ax_.set_title('2-class Precision-Recall curve')"
   ]
  },
  {
   "cell_type": "markdown",
   "metadata": {},
   "source": [
    "## XGBoost"
   ]
  },
  {
   "cell_type": "code",
   "execution_count": 57,
   "metadata": {},
   "outputs": [
    {
     "name": "stdout",
     "output_type": "stream",
     "text": [
      "Fitting 3 folds for each of 10 candidates, totalling 30 fits\n"
     ]
    },
    {
     "name": "stderr",
     "output_type": "stream",
     "text": [
      "[Parallel(n_jobs=-1)]: Using backend LokyBackend with 12 concurrent workers.\n",
      "[Parallel(n_jobs=-1)]: Done  14 out of  30 | elapsed: 38.5min remaining: 44.0min\n",
      "[Parallel(n_jobs=-1)]: Done  21 out of  30 | elapsed: 81.8min remaining: 35.0min\n",
      "[Parallel(n_jobs=-1)]: Done  28 out of  30 | elapsed: 230.6min remaining: 16.5min\n",
      "[Parallel(n_jobs=-1)]: Done  30 out of  30 | elapsed: 231.4min finished\n"
     ]
    },
    {
     "name": "stdout",
     "output_type": "stream",
     "text": [
      "Time elapsed on random search:  3:53:56.064168\n"
     ]
    }
   ],
   "source": [
    "from xgboost import XGBClassifier\n",
    "\n",
    "T=dt.now()\n",
    "tuned_parameters_xg = {'learning_rate':[0.1,0.01,0.001,0.0001],\n",
    "                    'n_estimators':[10,25,50,100,250,500,650,750,850,1000,1500,2000,3000],\n",
    "                    'subsample':[0.6,0.7,0.8],\n",
    "                    'min_child_weight':[3,5,7,9],\n",
    "                    'max_depth': [3,4,5,6,7,9,11,13,15,17,20,25,50],\n",
    "                    'colsample_bytree':[0.6,0.7,0.8],\n",
    "                    'gamma':[0,0.25,0.4,0.5,0.55,0.7,1]}\n",
    "\n",
    "model_xg = XGBClassifier(random_state=100)\n",
    "\n",
    "rf_xg = RandomizedSearchCV(estimator=model_xg, \n",
    "                                param_distributions=tuned_parameters_xg, \n",
    "                                cv=3, scoring='roc_auc',\n",
    "                                verbose=5,\n",
    "                                n_jobs=-1,\n",
    "                                random_state=100)\n",
    "rf_xg.fit(X_train, y_train)\n",
    "\n",
    "print(\"Time elapsed on random search: \",dt.now()-T)"
   ]
  },
  {
   "cell_type": "code",
   "execution_count": 58,
   "metadata": {},
   "outputs": [
    {
     "name": "stdout",
     "output_type": "stream",
     "text": [
      "We can get accuracy of  0.9999983199063234  using  {'subsample': 0.8, 'n_estimators': 500, 'min_child_weight': 7, 'max_depth': 7, 'learning_rate': 0.1, 'gamma': 0.25, 'colsample_bytree': 0.7}\n"
     ]
    }
   ],
   "source": [
    "print('We can get accuracy of ',rf_xg.best_score_,' using ',rf_xg.best_params_)"
   ]
  },
  {
   "cell_type": "code",
   "execution_count": 59,
   "metadata": {},
   "outputs": [],
   "source": [
    "# model with the best hyperparameters\n",
    "\n",
    "rfc_xg = XGBClassifier(learning_rate=0.1,\n",
    "                    n_estimators=650,\n",
    "                    subsample=0.7,\n",
    "                    min_child_weight=5,\n",
    "                    max_depth=13,\n",
    "                    colsample_bytree=0.7,\n",
    "                    gamma=0.5)"
   ]
  },
  {
   "cell_type": "code",
   "execution_count": 60,
   "metadata": {},
   "outputs": [
    {
     "data": {
      "text/plain": [
       "XGBClassifier(base_score=0.5, booster='gbtree', colsample_bylevel=1,\n",
       "              colsample_bynode=1, colsample_bytree=0.7, gamma=0.5, gpu_id=-1,\n",
       "              importance_type='gain', interaction_constraints='',\n",
       "              learning_rate=0.1, max_delta_step=0, max_depth=13,\n",
       "              min_child_weight=5, missing=nan, monotone_constraints='()',\n",
       "              n_estimators=650, n_jobs=0, num_parallel_tree=1,\n",
       "              objective='binary:logistic', random_state=0, reg_alpha=0,\n",
       "              reg_lambda=1, scale_pos_weight=1, subsample=0.7,\n",
       "              tree_method='exact', validate_parameters=1, verbosity=None)"
      ]
     },
     "execution_count": 60,
     "metadata": {},
     "output_type": "execute_result"
    }
   ],
   "source": [
    "# fit\n",
    "rfc_xg.fit(X_train,y_train)"
   ]
  },
  {
   "cell_type": "code",
   "execution_count": 61,
   "metadata": {},
   "outputs": [],
   "source": [
    "# prediction test train set\n",
    "y_pred_default_xg = rfc_xg.predict(X_test)"
   ]
  },
  {
   "cell_type": "code",
   "execution_count": 75,
   "metadata": {},
   "outputs": [],
   "source": [
    "# predition on validation set\n",
    "y_val_pred_xg = rfc_xg.predict(np.array(X_val))"
   ]
  },
  {
   "cell_type": "code",
   "execution_count": 76,
   "metadata": {},
   "outputs": [
    {
     "name": "stdout",
     "output_type": "stream",
     "text": [
      "              precision    recall  f1-score   support\n",
      "\n",
      "           0       1.00      1.00      1.00     85081\n",
      "           1       1.00      1.00      1.00     85405\n",
      "\n",
      "    accuracy                           1.00    170486\n",
      "   macro avg       1.00      1.00      1.00    170486\n",
      "weighted avg       1.00      1.00      1.00    170486\n",
      "\n",
      "[[85057    24]\n",
      " [    4 85401]]\n",
      "accuracy_score:   0.9998357636404163\n"
     ]
    }
   ],
   "source": [
    "from sklearn.metrics import classification_report, confusion_matrix, accuracy_score\n",
    "# Scores on test set.\n",
    "print(classification_report(y_test,y_pred_default_xg))\n",
    "print(confusion_matrix(y_test,y_pred_default_xg))\n",
    "print('accuracy_score:  ',accuracy_score(y_test,y_pred_default_xg))"
   ]
  },
  {
   "cell_type": "code",
   "execution_count": 85,
   "metadata": {},
   "outputs": [
    {
     "name": "stdout",
     "output_type": "stream",
     "text": [
      "              precision    recall  f1-score   support\n",
      "\n",
      "           0       0.82      1.00      0.90       200\n",
      "           1       1.00      0.79      0.88       200\n",
      "\n",
      "    accuracy                           0.89       400\n",
      "   macro avg       0.91      0.89      0.89       400\n",
      "weighted avg       0.91      0.89      0.89       400\n",
      "\n",
      "[[200   0]\n",
      " [ 43 157]]\n",
      "accuracy_score:   0.8925\n"
     ]
    }
   ],
   "source": [
    "# Scores on val set.\n",
    "print(classification_report(y_val,y_val_pred_xg))\n",
    "print(confusion_matrix(y_val,y_val_pred_xg))\n",
    "print('accuracy_score:  ',accuracy_score(y_val,y_val_pred_xg))"
   ]
  },
  {
   "cell_type": "code",
   "execution_count": 77,
   "metadata": {},
   "outputs": [
    {
     "data": {
      "text/plain": [
       "array([[85057,    24],\n",
       "       [    4, 85401]], dtype=int64)"
      ]
     },
     "execution_count": 77,
     "metadata": {},
     "output_type": "execute_result"
    }
   ],
   "source": [
    "# Confusion Matrix for test set\n",
    "confusion_xg_hyper=confusion_matrix(y_test,y_pred_default_xg)\n",
    "confusion_xg_hyper"
   ]
  },
  {
   "cell_type": "code",
   "execution_count": 86,
   "metadata": {},
   "outputs": [
    {
     "data": {
      "text/plain": [
       "array([[200,   0],\n",
       "       [ 43, 157]], dtype=int64)"
      ]
     },
     "execution_count": 86,
     "metadata": {},
     "output_type": "execute_result"
    }
   ],
   "source": [
    "# Confusion Matrix for val set\n",
    "confusion_xg_hyper_val=confusion_matrix(y_val,y_val_pred_xg)\n",
    "confusion_xg_hyper_val"
   ]
  },
  {
   "cell_type": "code",
   "execution_count": 78,
   "metadata": {},
   "outputs": [
    {
     "name": "stdout",
     "output_type": "stream",
     "text": [
      "Accuracy Score:   0.9998357636404163\n",
      "Sensitivity:  0.9999531643346409\n",
      "Specificity:  0.9997179158684077\n",
      "false postive rate:  0.0002820841315922474\n",
      "positive predictive value:  0.9997190517998245\n",
      "Negative predictive value:  0.9999529749238781\n",
      "Misclassification Rate:  0.00016423635958377815\n"
     ]
    }
   ],
   "source": [
    "# For Test set\n",
    "TN = confusion_xg_hyper[0,0] # true positive \n",
    "TP = confusion_xg_hyper[1,1] # true negatives\n",
    "FP = confusion_xg_hyper[0,1] # false positives\n",
    "FN = confusion_xg_hyper[1,0] # false negatives\n",
    "\n",
    "print('Accuracy Score:  ',accuracy_score(y_test,y_pred_default_xg))\n",
    "\n",
    "# Sensitivity \n",
    "print('Sensitivity: ', TP / float(TP+FN))\n",
    "\n",
    "# Specificity\n",
    "print('Specificity: ',TN / float(TN+FP))\n",
    "\n",
    "# False postive rate - prediction \n",
    "print('false postive rate: ',FP/ float(TN+FP))\n",
    "\n",
    "# positive predictive value \n",
    "print('positive predictive value: ', TP / float(TP+FP))\n",
    "\n",
    "# Negative predictive value\n",
    "print('Negative predictive value: ',TN / float(TN+ FN))\n",
    "\n",
    "# Misclassification rate\n",
    "print('Misclassification Rate: ',(FN+FP)/(TP+TN+FP+FN))"
   ]
  },
  {
   "cell_type": "code",
   "execution_count": 87,
   "metadata": {},
   "outputs": [
    {
     "name": "stdout",
     "output_type": "stream",
     "text": [
      "Accuracy Score:   0.9998357636404163\n",
      "Sensitivity:  0.785\n",
      "Specificity:  1.0\n",
      "false postive rate:  0.0\n",
      "positive predictive value:  1.0\n",
      "Negative predictive value:  0.823045267489712\n",
      "Misclassification Rate:  0.1075\n"
     ]
    }
   ],
   "source": [
    "# For Validation set\n",
    "TN = confusion_xg_hyper_val[0,0] # true positive \n",
    "TP = confusion_xg_hyper_val[1,1] # true negatives\n",
    "FP = confusion_xg_hyper_val[0,1] # false positives\n",
    "FN = confusion_xg_hyper_val[1,0] # false negatives\n",
    "\n",
    "print('Accuracy Score:  ',accuracy_score(y_test,y_pred_default_xg))\n",
    "\n",
    "# Sensitivity \n",
    "print('Sensitivity: ', TP / float(TP+FN))\n",
    "\n",
    "# Specificity\n",
    "print('Specificity: ',TN / float(TN+FP))\n",
    "\n",
    "# False postive rate - prediction \n",
    "print('false postive rate: ',FP/ float(TN+FP))\n",
    "\n",
    "# positive predictive value \n",
    "print('positive predictive value: ', TP / float(TP+FP))\n",
    "\n",
    "# Negative predictive value\n",
    "print('Negative predictive value: ',TN / float(TN+ FN))\n",
    "\n",
    "# Misclassification rate\n",
    "print('Misclassification Rate: ',(FN+FP)/(TP+TN+FP+FN))"
   ]
  },
  {
   "cell_type": "code",
   "execution_count": 79,
   "metadata": {},
   "outputs": [
    {
     "name": "stdout",
     "output_type": "stream",
     "text": [
      "Average precision-recall score on test set: 1.00\n"
     ]
    }
   ],
   "source": [
    "average_precision_test = average_precision_score(y_test, y_pred_default_xg)\n",
    "\n",
    "print('Average precision-recall score on test set: {0:0.2f}'.format(\n",
    "      average_precision_test))"
   ]
  },
  {
   "cell_type": "code",
   "execution_count": 80,
   "metadata": {},
   "outputs": [
    {
     "name": "stdout",
     "output_type": "stream",
     "text": [
      "Average precision-recall score on validation set: 0.89\n"
     ]
    }
   ],
   "source": [
    "average_precision_val = average_precision_score(y_val, y_val_pred_xg)\n",
    "\n",
    "print('Average precision-recall score on validation set: {0:0.2f}'.format(\n",
    "      average_precision_val))"
   ]
  },
  {
   "cell_type": "code",
   "execution_count": 81,
   "metadata": {},
   "outputs": [
    {
     "data": {
      "text/plain": [
       "Text(0.5, 1.0, '2-class Precision-Recall curve')"
      ]
     },
     "execution_count": 81,
     "metadata": {},
     "output_type": "execute_result"
    },
    {
     "data": {
      "image/png": "[encoded data removed]",
      "text/plain": [
       "<Figure size 432x288 with 1 Axes>"
      ]
     },
     "metadata": {
      "needs_background": "light"
     },
     "output_type": "display_data"
    }
   ],
   "source": [
    "disp = plot_precision_recall_curve(classifier, X_test, y_test)\n",
    "disp.ax_.set_title('2-class Precision-Recall curve')"
   ]
  },
  {
   "cell_type": "code",
   "execution_count": 82,
   "metadata": {},
   "outputs": [
    {
     "data": {
      "text/plain": [
       "Text(0.5, 1.0, '2-class Precision-Recall curve')"
      ]
     },
     "execution_count": 82,
     "metadata": {},
     "output_type": "execute_result"
    },
    {
     "data": {
      "image/png": "[encoded data removed]",
      "text/plain": [
       "<Figure size 432x288 with 1 Axes>"
      ]
     },
     "metadata": {
      "needs_background": "light"
     },
     "output_type": "display_data"
    }
   ],
   "source": [
    "disp = plot_precision_recall_curve(classifier, X_val, y_val)\n",
    "disp.ax_.set_title('2-class Precision-Recall curve')"
   ]
  },
  {
   "cell_type": "markdown",
   "metadata": {},
   "source": [
    "### Conclusion\n",
    "\n",
    "We used 2 models here namely Random Forest Classifier and XG Boost. According to the Average Precision-Recall scores the Random Forest Classifier is a better option because it performed better on the validation set although XG Boost was slightly better on the test set. In the real world when our model is being used for predicting the fraudulent transaction those particular data points our model wouldn't have seen before, so we are considering the score on validation set more than the test set.\n",
    "\n",
    "#### Random Forest Classifier is a better model"
   ]
  },
  {
   "cell_type": "code",
   "execution_count": null,
   "metadata": {},
   "outputs": [],
   "source": []
  }
 ],
 "metadata": {
  "kernelspec": {
   "display_name": "Python 3",
   "language": "python",
   "name": "python3"
  },
  "language_info": {
   "codemirror_mode": {
    "name": "ipython",
    "version": 3
   },
   "file_extension": ".py",
   "mimetype": "text/x-python",
   "name": "python",
   "nbconvert_exporter": "python",
   "pygments_lexer": "ipython3",
   "version": "3.7.7"
  }
 },
 "nbformat": 4,
 "nbformat_minor": 4
}
