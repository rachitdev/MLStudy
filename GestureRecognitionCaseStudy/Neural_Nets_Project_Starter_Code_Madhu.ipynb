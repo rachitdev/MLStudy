{
 "cells": [
  {
   "cell_type": "markdown",
   "metadata": {},
   "source": [
    "# Gesture Recognition\n",
    "In this group project, you are going to build a 3D Conv model that will be able to predict the 5 gestures correctly. Please import the following libraries to get started."
   ]
  },
  {
   "cell_type": "code",
   "execution_count": 1,
   "metadata": {},
   "outputs": [
    {
     "ename": "ImportError",
     "evalue": "cannot import name 'imread' from 'scipy.misc' (C:\\Users\\rachit\\Anaconda3\\lib\\site-packages\\scipy\\misc\\__init__.py)",
     "output_type": "error",
     "traceback": [
      "\u001b[1;31m---------------------------------------------------------------------------\u001b[0m",
      "\u001b[1;31mImportError\u001b[0m                               Traceback (most recent call last)",
      "\u001b[1;32m<ipython-input-1-698274eec96b>\u001b[0m in \u001b[0;36m<module>\u001b[1;34m\u001b[0m\n\u001b[0;32m      1\u001b[0m \u001b[1;32mimport\u001b[0m \u001b[0mnumpy\u001b[0m \u001b[1;32mas\u001b[0m \u001b[0mnp\u001b[0m\u001b[1;33m\u001b[0m\u001b[1;33m\u001b[0m\u001b[0m\n\u001b[0;32m      2\u001b[0m \u001b[1;32mimport\u001b[0m \u001b[0mos\u001b[0m\u001b[1;33m\u001b[0m\u001b[1;33m\u001b[0m\u001b[0m\n\u001b[1;32m----> 3\u001b[1;33m \u001b[1;32mfrom\u001b[0m \u001b[0mscipy\u001b[0m\u001b[1;33m.\u001b[0m\u001b[0mmisc\u001b[0m \u001b[1;32mimport\u001b[0m \u001b[0mimread\u001b[0m\u001b[1;33m,\u001b[0m \u001b[0mimresize\u001b[0m\u001b[1;33m\u001b[0m\u001b[1;33m\u001b[0m\u001b[0m\n\u001b[0m\u001b[0;32m      4\u001b[0m \u001b[1;32mimport\u001b[0m \u001b[0mdatetime\u001b[0m\u001b[1;33m\u001b[0m\u001b[1;33m\u001b[0m\u001b[0m\n\u001b[0;32m      5\u001b[0m \u001b[1;32mimport\u001b[0m \u001b[0mos\u001b[0m\u001b[1;33m\u001b[0m\u001b[1;33m\u001b[0m\u001b[0m\n",
      "\u001b[1;31mImportError\u001b[0m: cannot import name 'imread' from 'scipy.misc' (C:\\Users\\rachit\\Anaconda3\\lib\\site-packages\\scipy\\misc\\__init__.py)"
     ]
    }
   ],
   "source": [
    "import numpy as np\n",
    "import os\n",
    "from scipy.misc import imread, imresize\n",
    "import datetime\n",
    "import os"
   ]
  },
  {
   "cell_type": "markdown",
   "metadata": {},
   "source": [
    "We set the random seed so that the results don't vary drastically."
   ]
  },
  {
   "cell_type": "code",
   "execution_count": 2,
   "metadata": {},
   "outputs": [
    {
     "name": "stderr",
     "output_type": "stream",
     "text": [
      "Using TensorFlow backend.\n"
     ]
    }
   ],
   "source": [
    "np.random.seed(30)\n",
    "import random as rn\n",
    "rn.seed(30)\n",
    "from keras import backend as K\n",
    "import tensorflow as tf\n",
    "tf.set_random_seed(30)"
   ]
  },
  {
   "cell_type": "markdown",
   "metadata": {},
   "source": [
    "In this block, you read the folder names for training and validation. You also set the `batch_size` here. Note that you set the batch size in such a way that you are able to use the GPU in full capacity. You keep increasing the batch size until the machine throws an error."
   ]
  },
  {
   "cell_type": "code",
   "execution_count": 3,
   "metadata": {},
   "outputs": [],
   "source": [
    "train_doc = np.random.permutation(open('./Project_data/train.csv').readlines())\n",
    "val_doc = np.random.permutation(open('./Project_data/val.csv').readlines())\n",
    "batch_size = 10 #experiment with the batch size"
   ]
  },
  {
   "cell_type": "markdown",
   "metadata": {},
   "source": [
    "## Generator\n",
    "This is one of the most important part of the code. The overall structure of the generator has been given. In the generator, you are going to preprocess the images as you have images of 2 different dimensions as well as create a batch of video frames. You have to experiment with `img_idx`, `y`,`z` and normalization such that you get high accuracy."
   ]
  },
  {
   "cell_type": "code",
   "execution_count": 4,
   "metadata": {},
   "outputs": [],
   "source": [
    "def generator(source_path, folder_list, batch_size):\n",
    "    print( 'Source path = ', source_path, '; batch size =', batch_size)\n",
    "    img_idx = [x for x in range(0, 30)] #create a list of image numbers you want to use for a particular video\n",
    "    while True:\n",
    "        t = np.random.permutation(folder_list)\n",
    "        num_batches = len(t)//batch_size # calculate the number of batches\n",
    "        for batch in range(num_batches): # we iterate over the number of batches\n",
    "            batch_data = np.zeros((batch_size,x,y,z,3)) # x is the number of images you use for each video, (y,z) is the final size of the input images and 3 is the number of channels RGB\n",
    "            batch_labels = np.zeros((batch_size,5)) # batch_labels is the one hot representation of the output\n",
    "            for folder in range(batch_size): # iterate over the batch_size\n",
    "                imgs = os.listdir(source_path+'/'+ t[folder + (batch*batch_size)].split(';')[0]) # read all the images in the folder\n",
    "                for idx,item in enumerate(img_idx): #  Iterate iver the frames/images of a folder to read them in\n",
    "                    image = imread(source_path+'/'+ t[folder + (batch*batch_size)].strip().split(';')[0]+'/'+imgs[item]).astype(np.float32)\n",
    "                    \n",
    "                    #crop the images and resize them. Note that the images are of 2 different shape \n",
    "                    #and the conv3D will throw error if the inputs in a batch have different shapes\n",
    "                    \n",
    "                    image_resized=imresize(image,(120,120,3)) #image height and width is taken as 120\n",
    "                    \n",
    "                    batch_data[folder,idx,:,:,0] = (image_resized[:,:,0])/255 #normalise and feed in the image\n",
    "                    batch_data[folder,idx,:,:,1] = (image_resized[:,:,1])/255 #normalise and feed in the image\n",
    "                    batch_data[folder,idx,:,:,2] = (image_resized[:,:,2])/255 #normalise and feed in the image\n",
    "                    \n",
    "                batch_labels[folder, int(t[folder + (batch*batch_size)].strip().split(';')[2])] = 1\n",
    "            yield batch_data, batch_labels #you yield the batch_data and the batch_labels, remember what does yield do\n",
    "\n",
    "        \n",
    "        # write the code for the remaining data points which are left after full batches\n",
    "        if (len(folder_list) != batch_size*num_batches):\n",
    "            batch_size = len(folder_list) - (batch_size*num_batches)\n",
    "            yield batch_data, batch_labels"
   ]
  },
  {
   "cell_type": "markdown",
   "metadata": {},
   "source": [
    "Note here that a video is represented above in the generator as (number of images, height, width, number of channels). Take this into consideration while creating the model architecture."
   ]
  },
  {
   "cell_type": "code",
   "execution_count": 5,
   "metadata": {},
   "outputs": [
    {
     "name": "stdout",
     "output_type": "stream",
     "text": [
      "# training sequences = 663\n",
      "# validation sequences = 100\n",
      "# epochs = 10\n"
     ]
    }
   ],
   "source": [
    "curr_dt_time = datetime.datetime.now()\n",
    "train_path = './Project_data/train'\n",
    "val_path = './Project_data/val'\n",
    "num_train_sequences = len(train_doc)\n",
    "print('# training sequences =', num_train_sequences)\n",
    "num_val_sequences = len(val_doc)\n",
    "print('# validation sequences =', num_val_sequences)\n",
    "num_epochs = 10 # choose the number of epochs\n",
    "print ('# epochs =', num_epochs)"
   ]
  },
  {
   "cell_type": "markdown",
   "metadata": {},
   "source": [
    "## Model\n",
    "Here you make the model using different functionalities that Keras provides. Remember to use `Conv3D` and `MaxPooling3D` and not `Conv2D` and `Maxpooling2D` for a 3D convolution model. You would want to use `TimeDistributed` while building a Conv2D + RNN model. Also remember that the last layer is the softmax. Design the network in such a way that the model is able to give good accuracy on the least number of parameters so that it can fit in the memory of the webcam."
   ]
  },
  {
   "cell_type": "code",
   "execution_count": 6,
   "metadata": {},
   "outputs": [],
   "source": [
    "from keras.models import Sequential, Model\n",
    "from keras.layers import Dense, GRU, Flatten, TimeDistributed, Flatten, BatchNormalization, Activation, Dropout\n",
    "from keras.layers.convolutional import Conv3D, MaxPooling3D\n",
    "from keras.callbacks import ModelCheckpoint, ReduceLROnPlateau\n",
    "from keras import optimizers\n",
    "\n",
    "#write your model here\n",
    "\n",
    "#Defining the filters and dense layers\n",
    "F = [8,16,32,64]\n",
    "D = [256, 128, 5]\n",
    "\n",
    "# Input shape\n",
    "I=(30,120,120,3) # (frames,num_rows,num_cols,channel)\n",
    "\n",
    "#Model Definition\n",
    "model = Sequential()\n",
    "\n",
    "model.add(Conv3D(F[0], \n",
    "                 kernel_size=(3,3,3), \n",
    "                 input_shape=I,\n",
    "                 padding='same'))\n",
    "model.add(BatchNormalization())\n",
    "model.add(Activation('relu'))\n",
    "\n",
    "model.add(MaxPooling3D(pool_size=(2,2,2)))\n",
    "\n",
    "model.add(Conv3D(F[1], \n",
    "                 kernel_size=(3,3,3), \n",
    "                 padding='same'))\n",
    "model.add(BatchNormalization())\n",
    "model.add(Activation('relu'))\n",
    "\n",
    "model.add(MaxPooling3D(pool_size=(2,2,2)))\n",
    "\n",
    "model.add(Conv3D(F[2], \n",
    "                 kernel_size=(1,3,3), \n",
    "                 padding='same'))\n",
    "model.add(BatchNormalization())\n",
    "model.add(Activation('relu'))\n",
    "\n",
    "model.add(MaxPooling3D(pool_size=(2,2,2)))\n",
    "\n",
    "model.add(Conv3D(F[3], \n",
    "                 kernel_size=(1,3,3), \n",
    "                 padding='same'))\n",
    "model.add(Activation('relu'))\n",
    "model.add(Dropout(0.25))\n",
    "\n",
    "model.add(MaxPooling3D(pool_size=(2,2,2)))\n",
    "\n",
    "#Flatten Layer\n",
    "model.add(Flatten())\n",
    "\n",
    "model.add(Dense(D[0], activation='relu'))\n",
    "model.add(Dropout(0.5))\n",
    "\n",
    "model.add(Dense(D[1], activation='relu'))\n",
    "model.add(Dropout(0.5))\n",
    "\n",
    "#softmax\n",
    "model.add(Dense(D[2], activation='softmax'))"
   ]
  },
  {
   "cell_type": "markdown",
   "metadata": {},
   "source": [
    "Now that you have written the model, the next step is to `compile` the model. When you print the `summary` of the model, you'll see the total number of parameters you have to train."
   ]
  },
  {
   "cell_type": "code",
   "execution_count": 7,
   "metadata": {
    "scrolled": true
   },
   "outputs": [
    {
     "name": "stdout",
     "output_type": "stream",
     "text": [
      "_________________________________________________________________\n",
      "Layer (type)                 Output Shape              Param #   \n",
      "=================================================================\n",
      "conv3d_1 (Conv3D)            (None, 30, 120, 120, 8)   656       \n",
      "_________________________________________________________________\n",
      "batch_normalization_1 (Batch (None, 30, 120, 120, 8)   32        \n",
      "_________________________________________________________________\n",
      "activation_1 (Activation)    (None, 30, 120, 120, 8)   0         \n",
      "_________________________________________________________________\n",
      "max_pooling3d_1 (MaxPooling3 (None, 15, 60, 60, 8)     0         \n",
      "_________________________________________________________________\n",
      "conv3d_2 (Conv3D)            (None, 15, 60, 60, 16)    3472      \n",
      "_________________________________________________________________\n",
      "batch_normalization_2 (Batch (None, 15, 60, 60, 16)    64        \n",
      "_________________________________________________________________\n",
      "activation_2 (Activation)    (None, 15, 60, 60, 16)    0         \n",
      "_________________________________________________________________\n",
      "max_pooling3d_2 (MaxPooling3 (None, 7, 30, 30, 16)     0         \n",
      "_________________________________________________________________\n",
      "conv3d_3 (Conv3D)            (None, 7, 30, 30, 32)     4640      \n",
      "_________________________________________________________________\n",
      "batch_normalization_3 (Batch (None, 7, 30, 30, 32)     128       \n",
      "_________________________________________________________________\n",
      "activation_3 (Activation)    (None, 7, 30, 30, 32)     0         \n",
      "_________________________________________________________________\n",
      "max_pooling3d_3 (MaxPooling3 (None, 3, 15, 15, 32)     0         \n",
      "_________________________________________________________________\n",
      "conv3d_4 (Conv3D)            (None, 3, 15, 15, 64)     18496     \n",
      "_________________________________________________________________\n",
      "activation_4 (Activation)    (None, 3, 15, 15, 64)     0         \n",
      "_________________________________________________________________\n",
      "dropout_1 (Dropout)          (None, 3, 15, 15, 64)     0         \n",
      "_________________________________________________________________\n",
      "max_pooling3d_4 (MaxPooling3 (None, 1, 7, 7, 64)       0         \n",
      "_________________________________________________________________\n",
      "flatten_1 (Flatten)          (None, 3136)              0         \n",
      "_________________________________________________________________\n",
      "dense_1 (Dense)              (None, 256)               803072    \n",
      "_________________________________________________________________\n",
      "dropout_2 (Dropout)          (None, 256)               0         \n",
      "_________________________________________________________________\n",
      "dense_2 (Dense)              (None, 128)               32896     \n",
      "_________________________________________________________________\n",
      "dropout_3 (Dropout)          (None, 128)               0         \n",
      "_________________________________________________________________\n",
      "dense_3 (Dense)              (None, 5)                 645       \n",
      "=================================================================\n",
      "Total params: 864,101\n",
      "Trainable params: 863,989\n",
      "Non-trainable params: 112\n",
      "_________________________________________________________________\n",
      "None\n"
     ]
    }
   ],
   "source": [
    "from keras.optimizers import Adam\n",
    "optimiser = Adam() #write your optimizer\n",
    "model.compile(optimizer=optimiser, loss='categorical_crossentropy', metrics=['categorical_accuracy'])\n",
    "print (model.summary())"
   ]
  },
  {
   "cell_type": "markdown",
   "metadata": {},
   "source": [
    "Let us create the `train_generator` and the `val_generator` which will be used in `.fit_generator`."
   ]
  },
  {
   "cell_type": "code",
   "execution_count": 8,
   "metadata": {},
   "outputs": [],
   "source": [
    "train_generator = generator(train_path, train_doc, batch_size)\n",
    "val_generator = generator(val_path, val_doc, batch_size)"
   ]
  },
  {
   "cell_type": "code",
   "execution_count": 9,
   "metadata": {},
   "outputs": [],
   "source": [
    "model_name = 'model_init' + '_' + str(curr_dt_time).replace(' ','').replace(':','_') + '/'\n",
    "    \n",
    "if not os.path.exists(model_name):\n",
    "    os.mkdir(model_name)\n",
    "        \n",
    "filepath = model_name + 'model-{epoch:05d}-{loss:.5f}-{categorical_accuracy:.5f}-{val_loss:.5f}-{val_categorical_accuracy:.5f}.h5'\n",
    "\n",
    "checkpoint = ModelCheckpoint(filepath, monitor='val_loss', verbose=1, save_best_only=False, save_weights_only=False, mode='auto', period=1)\n",
    "\n",
    "LR = ReduceLROnPlateau(monitor='val_loss', factor=0.5, patience=2, cooldown=1, verbose=1) # write the REducelronplateau code here\n",
    "callbacks_list = [checkpoint, LR]"
   ]
  },
  {
   "cell_type": "markdown",
   "metadata": {},
   "source": [
    "The `steps_per_epoch` and `validation_steps` are used by `fit_generator` to decide the number of next() calls it need to make."
   ]
  },
  {
   "cell_type": "code",
   "execution_count": 10,
   "metadata": {},
   "outputs": [],
   "source": [
    "if (num_train_sequences%batch_size) == 0:\n",
    "    steps_per_epoch = int(num_train_sequences/batch_size)\n",
    "else:\n",
    "    steps_per_epoch = (num_train_sequences//batch_size) + 1\n",
    "\n",
    "if (num_val_sequences%batch_size) == 0:\n",
    "    validation_steps = int(num_val_sequences/batch_size)\n",
    "else:\n",
    "    validation_steps = (num_val_sequences//batch_size) + 1"
   ]
  },
  {
   "cell_type": "markdown",
   "metadata": {},
   "source": [
    "Let us now fit the model. This will start training the model and with the help of the checkpoints, you'll be able to save the model at the end of each epoch."
   ]
  },
  {
   "cell_type": "code",
   "execution_count": 11,
   "metadata": {},
   "outputs": [
    {
     "name": "stdout",
     "output_type": "stream",
     "text": [
      "Source path =  ./Project_data/val ; batch size = 10\n",
      "Source path =  ./Project_data/train ; batch size = 10\n",
      "Epoch 1/10\n"
     ]
    },
    {
     "name": "stderr",
     "output_type": "stream",
     "text": [
      "/mnt/disks/user/anaconda3/lib/python3.6/site-packages/ipykernel_launcher.py:13: DeprecationWarning: `imread` is deprecated!\n",
      "`imread` is deprecated in SciPy 1.0.0, and will be removed in 1.2.0.\n",
      "Use ``imageio.imread`` instead.\n",
      "  del sys.path[0]\n",
      "/mnt/disks/user/anaconda3/lib/python3.6/site-packages/ipykernel_launcher.py:18: DeprecationWarning: `imresize` is deprecated!\n",
      "`imresize` is deprecated in SciPy 1.0.0, and will be removed in 1.2.0.\n",
      "Use ``skimage.transform.resize`` instead.\n"
     ]
    },
    {
     "name": "stdout",
     "output_type": "stream",
     "text": [
      "67/67 [==============================] - 219s 3s/step - loss: 1.8562 - categorical_accuracy: 0.2493 - val_loss: 1.4746 - val_categorical_accuracy: 0.2800\n",
      "\n",
      "Epoch 00001: saving model to model_init_2020-05-2017_51_07.041278/model-00001-1.85624-0.24925-1.47462-0.28000.h5\n",
      "Epoch 2/10\n",
      "67/67 [==============================] - 26s 383ms/step - loss: 1.5727 - categorical_accuracy: 0.2736 - val_loss: 1.6494 - val_categorical_accuracy: 0.2400\n",
      "\n",
      "Epoch 00002: saving model to model_init_2020-05-2017_51_07.041278/model-00002-1.57269-0.27363-1.64936-0.24000.h5\n",
      "Epoch 3/10\n",
      "67/67 [==============================] - 27s 405ms/step - loss: 1.5893 - categorical_accuracy: 0.2587 - val_loss: 1.2065 - val_categorical_accuracy: 0.5200\n",
      "\n",
      "Epoch 00003: saving model to model_init_2020-05-2017_51_07.041278/model-00003-1.58934-0.25871-1.20645-0.52000.h5\n",
      "Epoch 4/10\n",
      "67/67 [==============================] - 26s 392ms/step - loss: 1.5634 - categorical_accuracy: 0.2935 - val_loss: 1.4304 - val_categorical_accuracy: 0.4400\n",
      "\n",
      "Epoch 00004: saving model to model_init_2020-05-2017_51_07.041278/model-00004-1.56342-0.29353-1.43037-0.44000.h5\n",
      "Epoch 5/10\n",
      "67/67 [==============================] - 28s 411ms/step - loss: 1.4589 - categorical_accuracy: 0.3333 - val_loss: 1.3444 - val_categorical_accuracy: 0.3800\n",
      "\n",
      "Epoch 00005: saving model to model_init_2020-05-2017_51_07.041278/model-00005-1.45886-0.33333-1.34442-0.38000.h5\n",
      "\n",
      "Epoch 00005: ReduceLROnPlateau reducing learning rate to 0.0005000000237487257.\n",
      "Epoch 6/10\n",
      "67/67 [==============================] - 27s 401ms/step - loss: 1.3905 - categorical_accuracy: 0.3483 - val_loss: 1.1686 - val_categorical_accuracy: 0.6000\n",
      "\n",
      "Epoch 00006: saving model to model_init_2020-05-2017_51_07.041278/model-00006-1.39046-0.34826-1.16863-0.60000.h5\n",
      "Epoch 7/10\n",
      "67/67 [==============================] - 27s 397ms/step - loss: 1.2930 - categorical_accuracy: 0.4726 - val_loss: 1.2825 - val_categorical_accuracy: 0.4900\n",
      "\n",
      "Epoch 00007: saving model to model_init_2020-05-2017_51_07.041278/model-00007-1.29305-0.47264-1.28246-0.49000.h5\n",
      "Epoch 8/10\n",
      "67/67 [==============================] - 26s 388ms/step - loss: 1.2403 - categorical_accuracy: 0.4776 - val_loss: 1.0020 - val_categorical_accuracy: 0.5700\n",
      "\n",
      "Epoch 00008: saving model to model_init_2020-05-2017_51_07.041278/model-00008-1.24028-0.47761-1.00202-0.57000.h5\n",
      "Epoch 9/10\n",
      "67/67 [==============================] - 27s 410ms/step - loss: 1.1856 - categorical_accuracy: 0.5025 - val_loss: 0.9489 - val_categorical_accuracy: 0.6600\n",
      "\n",
      "Epoch 00009: saving model to model_init_2020-05-2017_51_07.041278/model-00009-1.18564-0.50249-0.94886-0.66000.h5\n",
      "Epoch 10/10\n",
      "67/67 [==============================] - 26s 386ms/step - loss: 1.1569 - categorical_accuracy: 0.5274 - val_loss: 1.0898 - val_categorical_accuracy: 0.5800\n",
      "\n",
      "Epoch 00010: saving model to model_init_2020-05-2017_51_07.041278/model-00010-1.15687-0.52736-1.08978-0.58000.h5\n"
     ]
    },
    {
     "data": {
      "text/plain": [
       "<keras.callbacks.History at 0x7f234f1f5400>"
      ]
     },
     "execution_count": 11,
     "metadata": {},
     "output_type": "execute_result"
    }
   ],
   "source": [
    "x = 30 #Frame\n",
    "y = 120 #rows\n",
    "z = 120 #columns\n",
    "batch_size = 10\n",
    "num_epochs = 10\n",
    "model.fit_generator(train_generator, steps_per_epoch=steps_per_epoch, epochs=num_epochs, verbose=1, \n",
    "                    callbacks=callbacks_list, validation_data=val_generator, \n",
    "                    validation_steps=validation_steps, class_weight=None, workers=1, initial_epoch=0)"
   ]
  },
  {
   "cell_type": "code",
   "execution_count": 12,
   "metadata": {},
   "outputs": [
    {
     "name": "stdout",
     "output_type": "stream",
     "text": [
      "Epoch 1/20\n"
     ]
    },
    {
     "name": "stderr",
     "output_type": "stream",
     "text": [
      "/mnt/disks/user/anaconda3/lib/python3.6/site-packages/ipykernel_launcher.py:13: DeprecationWarning: `imread` is deprecated!\n",
      "`imread` is deprecated in SciPy 1.0.0, and will be removed in 1.2.0.\n",
      "Use ``imageio.imread`` instead.\n",
      "  del sys.path[0]\n",
      "/mnt/disks/user/anaconda3/lib/python3.6/site-packages/ipykernel_launcher.py:18: DeprecationWarning: `imresize` is deprecated!\n",
      "`imresize` is deprecated in SciPy 1.0.0, and will be removed in 1.2.0.\n",
      "Use ``skimage.transform.resize`` instead.\n"
     ]
    },
    {
     "name": "stdout",
     "output_type": "stream",
     "text": [
      "8/8 [==============================] - 3s 433ms/step - loss: 1.2330 - categorical_accuracy: 0.5000 - val_loss: 1.2277 - val_categorical_accuracy: 0.4500\n",
      "\n",
      "Epoch 00001: saving model to model_init_2020-05-2017_51_07.041278/model-00001-1.23300-0.50000-1.22770-0.45000.h5\n",
      "Epoch 2/20\n",
      "8/8 [==============================] - 3s 436ms/step - loss: 1.0519 - categorical_accuracy: 0.5833 - val_loss: 0.9463 - val_categorical_accuracy: 0.8000\n",
      "\n",
      "Epoch 00002: saving model to model_init_2020-05-2017_51_07.041278/model-00002-1.05192-0.58333-0.94630-0.80000.h5\n",
      "Epoch 3/20\n",
      "8/8 [==============================] - 4s 486ms/step - loss: 1.3552 - categorical_accuracy: 0.3333 - val_loss: 1.1016 - val_categorical_accuracy: 0.7000\n",
      "\n",
      "Epoch 00003: saving model to model_init_2020-05-2017_51_07.041278/model-00003-1.35518-0.33333-1.10164-0.70000.h5\n",
      "Epoch 4/20\n",
      "8/8 [==============================] - 4s 438ms/step - loss: 1.2668 - categorical_accuracy: 0.4583 - val_loss: 1.0868 - val_categorical_accuracy: 0.7500\n",
      "\n",
      "Epoch 00004: saving model to model_init_2020-05-2017_51_07.041278/model-00004-1.26679-0.45833-1.08683-0.75000.h5\n",
      "\n",
      "Epoch 00004: ReduceLROnPlateau reducing learning rate to 0.0002500000118743628.\n",
      "Epoch 5/20\n",
      "8/8 [==============================] - 3s 406ms/step - loss: 1.3120 - categorical_accuracy: 0.4167 - val_loss: 0.9827 - val_categorical_accuracy: 0.8000\n",
      "\n",
      "Epoch 00005: saving model to model_init_2020-05-2017_51_07.041278/model-00005-1.31204-0.41667-0.98266-0.80000.h5\n",
      "Epoch 6/20\n",
      "8/8 [==============================] - 4s 491ms/step - loss: 1.0233 - categorical_accuracy: 0.5833 - val_loss: 0.9274 - val_categorical_accuracy: 0.7500\n",
      "\n",
      "Epoch 00006: saving model to model_init_2020-05-2017_51_07.041278/model-00006-1.02331-0.58333-0.92737-0.75000.h5\n",
      "Epoch 7/20\n",
      "8/8 [==============================] - 3s 373ms/step - loss: 0.9962 - categorical_accuracy: 0.5417 - val_loss: 1.0833 - val_categorical_accuracy: 0.5500\n",
      "\n",
      "Epoch 00007: saving model to model_init_2020-05-2017_51_07.041278/model-00007-0.99617-0.54167-1.08334-0.55000.h5\n",
      "Epoch 8/20\n",
      "8/8 [==============================] - 4s 445ms/step - loss: 0.9910 - categorical_accuracy: 0.7083 - val_loss: 1.0082 - val_categorical_accuracy: 0.6500\n",
      "\n",
      "Epoch 00008: saving model to model_init_2020-05-2017_51_07.041278/model-00008-0.99096-0.70833-1.00825-0.65000.h5\n",
      "\n",
      "Epoch 00008: ReduceLROnPlateau reducing learning rate to 0.0001250000059371814.\n",
      "Epoch 9/20\n",
      "8/8 [==============================] - 3s 398ms/step - loss: 1.1157 - categorical_accuracy: 0.4583 - val_loss: 1.0227 - val_categorical_accuracy: 0.5000\n",
      "\n",
      "Epoch 00009: saving model to model_init_2020-05-2017_51_07.041278/model-00009-1.11567-0.45833-1.02274-0.50000.h5\n",
      "Epoch 10/20\n",
      "8/8 [==============================] - 3s 374ms/step - loss: 1.1907 - categorical_accuracy: 0.4583 - val_loss: 1.1578 - val_categorical_accuracy: 0.5000\n",
      "\n",
      "Epoch 00010: saving model to model_init_2020-05-2017_51_07.041278/model-00010-1.19066-0.45833-1.15782-0.50000.h5\n",
      "\n",
      "Epoch 00010: ReduceLROnPlateau reducing learning rate to 6.25000029685907e-05.\n",
      "Epoch 11/20\n",
      "8/8 [==============================] - 3s 434ms/step - loss: 1.1452 - categorical_accuracy: 0.6250 - val_loss: 0.8887 - val_categorical_accuracy: 0.7000\n",
      "\n",
      "Epoch 00011: saving model to model_init_2020-05-2017_51_07.041278/model-00011-1.14521-0.62500-0.88872-0.70000.h5\n",
      "Epoch 12/20\n",
      "8/8 [==============================] - 3s 435ms/step - loss: 1.0305 - categorical_accuracy: 0.5833 - val_loss: 0.8013 - val_categorical_accuracy: 0.7500\n",
      "\n",
      "Epoch 00012: saving model to model_init_2020-05-2017_51_07.041278/model-00012-1.03051-0.58333-0.80127-0.75000.h5\n",
      "Epoch 13/20\n",
      "8/8 [==============================] - 3s 420ms/step - loss: 1.3899 - categorical_accuracy: 0.3333 - val_loss: 0.8362 - val_categorical_accuracy: 0.7000\n",
      "\n",
      "Epoch 00013: saving model to model_init_2020-05-2017_51_07.041278/model-00013-1.38992-0.33333-0.83623-0.70000.h5\n",
      "Epoch 14/20\n",
      "8/8 [==============================] - 3s 395ms/step - loss: 1.1023 - categorical_accuracy: 0.4167 - val_loss: 0.9735 - val_categorical_accuracy: 0.5500\n",
      "\n",
      "Epoch 00014: saving model to model_init_2020-05-2017_51_07.041278/model-00014-1.10230-0.41667-0.97355-0.55000.h5\n",
      "\n",
      "Epoch 00014: ReduceLROnPlateau reducing learning rate to 3.125000148429535e-05.\n",
      "Epoch 15/20\n",
      "8/8 [==============================] - 3s 391ms/step - loss: 0.8518 - categorical_accuracy: 0.6667 - val_loss: 0.8000 - val_categorical_accuracy: 0.8000\n",
      "\n",
      "Epoch 00015: saving model to model_init_2020-05-2017_51_07.041278/model-00015-0.85181-0.66667-0.80003-0.80000.h5\n",
      "Epoch 16/20\n",
      "8/8 [==============================] - 3s 421ms/step - loss: 0.8745 - categorical_accuracy: 0.6250 - val_loss: 0.9554 - val_categorical_accuracy: 0.5500\n",
      "\n",
      "Epoch 00016: saving model to model_init_2020-05-2017_51_07.041278/model-00016-0.87451-0.62500-0.95536-0.55000.h5\n",
      "Epoch 17/20\n",
      "8/8 [==============================] - 3s 423ms/step - loss: 0.9133 - categorical_accuracy: 0.6250 - val_loss: 0.6873 - val_categorical_accuracy: 0.8000\n",
      "\n",
      "Epoch 00017: saving model to model_init_2020-05-2017_51_07.041278/model-00017-0.91335-0.62500-0.68731-0.80000.h5\n",
      "Epoch 18/20\n",
      "8/8 [==============================] - 3s 377ms/step - loss: 0.9634 - categorical_accuracy: 0.6250 - val_loss: 1.1685 - val_categorical_accuracy: 0.4500\n",
      "\n",
      "Epoch 00018: saving model to model_init_2020-05-2017_51_07.041278/model-00018-0.96340-0.62500-1.16853-0.45000.h5\n",
      "Epoch 19/20\n",
      "8/8 [==============================] - 3s 416ms/step - loss: 1.0086 - categorical_accuracy: 0.6667 - val_loss: 0.9120 - val_categorical_accuracy: 0.7500\n",
      "\n",
      "Epoch 00019: saving model to model_init_2020-05-2017_51_07.041278/model-00019-1.00859-0.66667-0.91196-0.75000.h5\n",
      "\n",
      "Epoch 00019: ReduceLROnPlateau reducing learning rate to 1.5625000742147677e-05.\n",
      "Epoch 20/20\n",
      "8/8 [==============================] - 3s 395ms/step - loss: 1.0118 - categorical_accuracy: 0.6250 - val_loss: 0.6058 - val_categorical_accuracy: 0.8500\n",
      "\n",
      "Epoch 00020: saving model to model_init_2020-05-2017_51_07.041278/model-00020-1.01181-0.62500-0.60583-0.85000.h5\n"
     ]
    },
    {
     "data": {
      "text/plain": [
       "<keras.callbacks.History at 0x7f233e234b70>"
      ]
     },
     "execution_count": 12,
     "metadata": {},
     "output_type": "execute_result"
    }
   ],
   "source": [
    "batch_size = 90\n",
    "num_epochs = 20\n",
    "\n",
    "if (num_train_sequences%batch_size) == 0:\n",
    "    steps_per_epoch = int(num_train_sequences/batch_size)\n",
    "else:\n",
    "    steps_per_epoch = (num_train_sequences//batch_size) + 1\n",
    "\n",
    "if (num_val_sequences%batch_size) == 0:\n",
    "    validation_steps = int(num_val_sequences/batch_size)\n",
    "else:\n",
    "    validation_steps = (num_val_sequences//batch_size) + 1\n",
    "    \n",
    "model.fit_generator(train_generator, steps_per_epoch=steps_per_epoch, epochs=num_epochs, verbose=1, \n",
    "                    callbacks=callbacks_list, validation_data=val_generator, \n",
    "                    validation_steps=validation_steps, class_weight=None, workers=1, initial_epoch=0)"
   ]
  },
  {
   "cell_type": "code",
   "execution_count": 13,
   "metadata": {},
   "outputs": [
    {
     "name": "stdout",
     "output_type": "stream",
     "text": [
      "Epoch 1/30\n"
     ]
    },
    {
     "name": "stderr",
     "output_type": "stream",
     "text": [
      "/mnt/disks/user/anaconda3/lib/python3.6/site-packages/ipykernel_launcher.py:13: DeprecationWarning: `imread` is deprecated!\n",
      "`imread` is deprecated in SciPy 1.0.0, and will be removed in 1.2.0.\n",
      "Use ``imageio.imread`` instead.\n",
      "  del sys.path[0]\n",
      "/mnt/disks/user/anaconda3/lib/python3.6/site-packages/ipykernel_launcher.py:18: DeprecationWarning: `imresize` is deprecated!\n",
      "`imresize` is deprecated in SciPy 1.0.0, and will be removed in 1.2.0.\n",
      "Use ``skimage.transform.resize`` instead.\n"
     ]
    },
    {
     "name": "stdout",
     "output_type": "stream",
     "text": [
      "8/8 [==============================] - 4s 534ms/step - loss: 1.0596 - categorical_accuracy: 0.5833 - val_loss: 1.0663 - val_categorical_accuracy: 0.6500\n",
      "\n",
      "Epoch 00001: saving model to model_init_2020-05-2017_51_07.041278/model-00001-1.05957-0.58333-1.06630-0.65000.h5\n",
      "Epoch 2/30\n",
      "8/8 [==============================] - 3s 372ms/step - loss: 0.9505 - categorical_accuracy: 0.5833 - val_loss: 0.8006 - val_categorical_accuracy: 0.7000\n",
      "\n",
      "Epoch 00002: saving model to model_init_2020-05-2017_51_07.041278/model-00002-0.95047-0.58333-0.80062-0.70000.h5\n",
      "Epoch 3/30\n",
      "8/8 [==============================] - 4s 460ms/step - loss: 0.9773 - categorical_accuracy: 0.5417 - val_loss: 1.1255 - val_categorical_accuracy: 0.5500\n",
      "\n",
      "Epoch 00003: saving model to model_init_2020-05-2017_51_07.041278/model-00003-0.97732-0.54167-1.12554-0.55000.h5\n",
      "Epoch 4/30\n",
      "8/8 [==============================] - 4s 537ms/step - loss: 1.0388 - categorical_accuracy: 0.5000 - val_loss: 0.9457 - val_categorical_accuracy: 0.7500\n",
      "\n",
      "Epoch 00004: saving model to model_init_2020-05-2017_51_07.041278/model-00004-1.03884-0.50000-0.94572-0.75000.h5\n",
      "\n",
      "Epoch 00004: ReduceLROnPlateau reducing learning rate to 7.812500371073838e-06.\n",
      "Epoch 5/30\n",
      "8/8 [==============================] - 3s 401ms/step - loss: 0.9162 - categorical_accuracy: 0.5417 - val_loss: 0.8940 - val_categorical_accuracy: 0.6000\n",
      "\n",
      "Epoch 00005: saving model to model_init_2020-05-2017_51_07.041278/model-00005-0.91615-0.54167-0.89395-0.60000.h5\n",
      "Epoch 6/30\n",
      "8/8 [==============================] - 3s 339ms/step - loss: 0.8400 - categorical_accuracy: 0.5417 - val_loss: 0.7359 - val_categorical_accuracy: 0.8000\n",
      "\n",
      "Epoch 00006: saving model to model_init_2020-05-2017_51_07.041278/model-00006-0.83999-0.54167-0.73588-0.80000.h5\n",
      "Epoch 7/30\n",
      "8/8 [==============================] - 4s 471ms/step - loss: 1.0401 - categorical_accuracy: 0.5000 - val_loss: 0.8433 - val_categorical_accuracy: 0.7500\n",
      "\n",
      "Epoch 00007: saving model to model_init_2020-05-2017_51_07.041278/model-00007-1.04012-0.50000-0.84332-0.75000.h5\n",
      "Epoch 8/30\n",
      "8/8 [==============================] - 3s 391ms/step - loss: 0.8961 - categorical_accuracy: 0.7500 - val_loss: 0.9001 - val_categorical_accuracy: 0.7500\n",
      "\n",
      "Epoch 00008: saving model to model_init_2020-05-2017_51_07.041278/model-00008-0.89607-0.75000-0.90015-0.75000.h5\n",
      "\n",
      "Epoch 00008: ReduceLROnPlateau reducing learning rate to 3.906250185536919e-06.\n",
      "Epoch 9/30\n",
      "8/8 [==============================] - 4s 482ms/step - loss: 1.1258 - categorical_accuracy: 0.6250 - val_loss: 1.0247 - val_categorical_accuracy: 0.6000\n",
      "\n",
      "Epoch 00009: saving model to model_init_2020-05-2017_51_07.041278/model-00009-1.12578-0.62500-1.02467-0.60000.h5\n",
      "Epoch 10/30\n",
      "8/8 [==============================] - 3s 407ms/step - loss: 0.8249 - categorical_accuracy: 0.6667 - val_loss: 0.8299 - val_categorical_accuracy: 0.8000\n",
      "\n",
      "Epoch 00010: saving model to model_init_2020-05-2017_51_07.041278/model-00010-0.82492-0.66667-0.82992-0.80000.h5\n",
      "\n",
      "Epoch 00010: ReduceLROnPlateau reducing learning rate to 1.9531250927684596e-06.\n",
      "Epoch 11/30\n",
      "8/8 [==============================] - 4s 440ms/step - loss: 0.9928 - categorical_accuracy: 0.5417 - val_loss: 1.0057 - val_categorical_accuracy: 0.6000\n",
      "\n",
      "Epoch 00011: saving model to model_init_2020-05-2017_51_07.041278/model-00011-0.99277-0.54167-1.00566-0.60000.h5\n",
      "Epoch 12/30\n",
      "8/8 [==============================] - 3s 435ms/step - loss: 1.1734 - categorical_accuracy: 0.5833 - val_loss: 0.8944 - val_categorical_accuracy: 0.7000\n",
      "\n",
      "Epoch 00012: saving model to model_init_2020-05-2017_51_07.041278/model-00012-1.17343-0.58333-0.89440-0.70000.h5\n",
      "\n",
      "Epoch 00012: ReduceLROnPlateau reducing learning rate to 9.765625463842298e-07.\n",
      "Epoch 13/30\n",
      "8/8 [==============================] - 4s 501ms/step - loss: 0.9961 - categorical_accuracy: 0.6250 - val_loss: 0.9480 - val_categorical_accuracy: 0.6500\n",
      "\n",
      "Epoch 00013: saving model to model_init_2020-05-2017_51_07.041278/model-00013-0.99615-0.62500-0.94804-0.65000.h5\n",
      "Epoch 14/30\n",
      "8/8 [==============================] - 4s 475ms/step - loss: 0.9716 - categorical_accuracy: 0.6667 - val_loss: 0.7777 - val_categorical_accuracy: 0.7500\n",
      "\n",
      "Epoch 00014: saving model to model_init_2020-05-2017_51_07.041278/model-00014-0.97158-0.66667-0.77769-0.75000.h5\n",
      "\n",
      "Epoch 00014: ReduceLROnPlateau reducing learning rate to 4.882812731921149e-07.\n",
      "Epoch 15/30\n",
      "8/8 [==============================] - 3s 412ms/step - loss: 0.8851 - categorical_accuracy: 0.6250 - val_loss: 0.8482 - val_categorical_accuracy: 0.8000\n",
      "\n",
      "Epoch 00015: saving model to model_init_2020-05-2017_51_07.041278/model-00015-0.88509-0.62500-0.84815-0.80000.h5\n",
      "Epoch 16/30\n",
      "8/8 [==============================] - 3s 330ms/step - loss: 1.1673 - categorical_accuracy: 0.3333 - val_loss: 0.5830 - val_categorical_accuracy: 0.9000\n",
      "\n",
      "Epoch 00016: saving model to model_init_2020-05-2017_51_07.041278/model-00016-1.16734-0.33333-0.58296-0.90000.h5\n",
      "Epoch 17/30\n",
      "8/8 [==============================] - 4s 479ms/step - loss: 1.0073 - categorical_accuracy: 0.5417 - val_loss: 0.9559 - val_categorical_accuracy: 0.5500\n",
      "\n",
      "Epoch 00017: saving model to model_init_2020-05-2017_51_07.041278/model-00017-1.00733-0.54167-0.95586-0.55000.h5\n",
      "Epoch 18/30\n",
      "8/8 [==============================] - 4s 496ms/step - loss: 0.8733 - categorical_accuracy: 0.7083 - val_loss: 1.0415 - val_categorical_accuracy: 0.6500\n",
      "\n",
      "Epoch 00018: saving model to model_init_2020-05-2017_51_07.041278/model-00018-0.87331-0.70833-1.04151-0.65000.h5\n",
      "\n",
      "Epoch 00018: ReduceLROnPlateau reducing learning rate to 2.4414063659605745e-07.\n",
      "Epoch 19/30\n",
      "8/8 [==============================] - 4s 439ms/step - loss: 0.8988 - categorical_accuracy: 0.6250 - val_loss: 1.0222 - val_categorical_accuracy: 0.5500\n",
      "\n",
      "Epoch 00019: saving model to model_init_2020-05-2017_51_07.041278/model-00019-0.89880-0.62500-1.02223-0.55000.h5\n",
      "Epoch 20/30\n",
      "8/8 [==============================] - 3s 427ms/step - loss: 1.1138 - categorical_accuracy: 0.5833 - val_loss: 0.8412 - val_categorical_accuracy: 0.7500\n",
      "\n",
      "Epoch 00020: saving model to model_init_2020-05-2017_51_07.041278/model-00020-1.11383-0.58333-0.84120-0.75000.h5\n",
      "\n",
      "Epoch 00020: ReduceLROnPlateau reducing learning rate to 1.2207031829802872e-07.\n",
      "Epoch 21/30\n",
      "8/8 [==============================] - 4s 492ms/step - loss: 1.1823 - categorical_accuracy: 0.3750 - val_loss: 0.9895 - val_categorical_accuracy: 0.6000\n",
      "\n",
      "Epoch 00021: saving model to model_init_2020-05-2017_51_07.041278/model-00021-1.18228-0.37500-0.98951-0.60000.h5\n",
      "Epoch 22/30\n",
      "8/8 [==============================] - 4s 507ms/step - loss: 0.9051 - categorical_accuracy: 0.5833 - val_loss: 0.9135 - val_categorical_accuracy: 0.7000\n",
      "\n",
      "Epoch 00022: saving model to model_init_2020-05-2017_51_07.041278/model-00022-0.90514-0.58333-0.91354-0.70000.h5\n",
      "\n",
      "Epoch 00022: ReduceLROnPlateau reducing learning rate to 6.103515914901436e-08.\n",
      "Epoch 23/30\n",
      "8/8 [==============================] - 4s 439ms/step - loss: 1.1216 - categorical_accuracy: 0.5833 - val_loss: 0.8211 - val_categorical_accuracy: 0.7500\n",
      "\n",
      "Epoch 00023: saving model to model_init_2020-05-2017_51_07.041278/model-00023-1.12161-0.58333-0.82106-0.75000.h5\n",
      "Epoch 24/30\n",
      "8/8 [==============================] - 3s 387ms/step - loss: 0.8783 - categorical_accuracy: 0.6250 - val_loss: 0.9993 - val_categorical_accuracy: 0.7000\n",
      "\n",
      "Epoch 00024: saving model to model_init_2020-05-2017_51_07.041278/model-00024-0.87827-0.62500-0.99927-0.70000.h5\n",
      "\n",
      "Epoch 00024: ReduceLROnPlateau reducing learning rate to 3.051757957450718e-08.\n",
      "Epoch 25/30\n",
      "8/8 [==============================] - 4s 458ms/step - loss: 0.8170 - categorical_accuracy: 0.5833 - val_loss: 0.8269 - val_categorical_accuracy: 0.8000\n",
      "\n",
      "Epoch 00025: saving model to model_init_2020-05-2017_51_07.041278/model-00025-0.81697-0.58333-0.82691-0.80000.h5\n",
      "Epoch 26/30\n",
      "8/8 [==============================] - 3s 379ms/step - loss: 1.0121 - categorical_accuracy: 0.4583 - val_loss: 0.9003 - val_categorical_accuracy: 0.7500\n",
      "\n",
      "Epoch 00026: saving model to model_init_2020-05-2017_51_07.041278/model-00026-1.01210-0.45833-0.90027-0.75000.h5\n",
      "\n",
      "Epoch 00026: ReduceLROnPlateau reducing learning rate to 1.525878978725359e-08.\n",
      "Epoch 27/30\n",
      "8/8 [==============================] - 4s 453ms/step - loss: 0.6896 - categorical_accuracy: 0.8333 - val_loss: 0.9157 - val_categorical_accuracy: 0.6000\n"
     ]
    },
    {
     "name": "stdout",
     "output_type": "stream",
     "text": [
      "\n",
      "Epoch 00027: saving model to model_init_2020-05-2017_51_07.041278/model-00027-0.68960-0.83333-0.91572-0.60000.h5\n",
      "Epoch 28/30\n",
      "8/8 [==============================] - 3s 415ms/step - loss: 0.9086 - categorical_accuracy: 0.5833 - val_loss: 0.9701 - val_categorical_accuracy: 0.5500\n",
      "\n",
      "Epoch 00028: saving model to model_init_2020-05-2017_51_07.041278/model-00028-0.90860-0.58333-0.97008-0.55000.h5\n",
      "\n",
      "Epoch 00028: ReduceLROnPlateau reducing learning rate to 7.629394893626795e-09.\n",
      "Epoch 29/30\n",
      "8/8 [==============================] - 4s 469ms/step - loss: 0.8720 - categorical_accuracy: 0.5833 - val_loss: 0.8100 - val_categorical_accuracy: 0.7500\n",
      "\n",
      "Epoch 00029: saving model to model_init_2020-05-2017_51_07.041278/model-00029-0.87203-0.58333-0.81003-0.75000.h5\n",
      "Epoch 30/30\n",
      "8/8 [==============================] - 3s 423ms/step - loss: 1.0888 - categorical_accuracy: 0.6667 - val_loss: 0.8614 - val_categorical_accuracy: 0.6000\n",
      "\n",
      "Epoch 00030: saving model to model_init_2020-05-2017_51_07.041278/model-00030-1.08885-0.66667-0.86144-0.60000.h5\n",
      "\n",
      "Epoch 00030: ReduceLROnPlateau reducing learning rate to 3.814697446813398e-09.\n"
     ]
    },
    {
     "data": {
      "text/plain": [
       "<keras.callbacks.History at 0x7f233e234208>"
      ]
     },
     "execution_count": 13,
     "metadata": {},
     "output_type": "execute_result"
    }
   ],
   "source": [
    "batch_size = 90\n",
    "num_epochs = 30\n",
    "\n",
    "if (num_train_sequences%batch_size) == 0:\n",
    "    steps_per_epoch = int(num_train_sequences/batch_size)\n",
    "else:\n",
    "    steps_per_epoch = (num_train_sequences//batch_size) + 1\n",
    "\n",
    "if (num_val_sequences%batch_size) == 0:\n",
    "    validation_steps = int(num_val_sequences/batch_size)\n",
    "else:\n",
    "    validation_steps = (num_val_sequences//batch_size) + 1\n",
    "    \n",
    "model.fit_generator(train_generator, steps_per_epoch=steps_per_epoch, epochs=num_epochs, verbose=1, \n",
    "                    callbacks=callbacks_list, validation_data=val_generator, \n",
    "                    validation_steps=validation_steps, class_weight=None, workers=1, initial_epoch=0)"
   ]
  },
  {
   "cell_type": "code",
   "execution_count": null,
   "metadata": {},
   "outputs": [],
   "source": [
    "batch_size = 90\n",
    "num_epochs = 30\n",
    "\n",
    "if (num_train_sequences%batch_size) == 0:\n",
    "    steps_per_epoch = int(num_train_sequences/batch_size)\n",
    "else:\n",
    "    steps_per_epoch = (num_train_sequences//batch_size) + 1\n",
    "\n",
    "if (num_val_sequences%batch_size) == 0:\n",
    "    validation_steps = int(num_val_sequences/batch_size)\n",
    "else:\n",
    "    validation_steps = (num_val_sequences//batch_size) + 1\n",
    "    \n",
    "model.fit_generator(train_generator, steps_per_epoch=steps_per_epoch, epochs=num_epochs, verbose=1, \n",
    "                    callbacks=callbacks_list, validation_data=val_generator, \n",
    "                    validation_steps=validation_steps, class_weight=None, workers=1, initial_epoch=0)"
   ]
  }
 ],
 "metadata": {
  "kernelspec": {
   "display_name": "Python 3",
   "language": "python",
   "name": "python3"
  },
  "language_info": {
   "codemirror_mode": {
    "name": "ipython",
    "version": 3
   },
   "file_extension": ".py",
   "mimetype": "text/x-python",
   "name": "python",
   "nbconvert_exporter": "python",
   "pygments_lexer": "ipython3",
   "version": "3.7.6"
  }
 },
 "nbformat": 4,
 "nbformat_minor": 2
}
