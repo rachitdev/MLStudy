{
 "cells": [
  {
   "cell_type": "markdown",
   "metadata": {},
   "source": [
    "# Gesture Recognition\n",
    "In this group project, you are going to build a 3D Conv model that will be able to predict the 5 gestures correctly. Please import the following libraries to get started."
   ]
  },
  {
   "cell_type": "code",
   "execution_count": 1,
   "metadata": {},
   "outputs": [],
   "source": [
    "import numpy as np\n",
    "import os\n",
    "from scipy.misc import imread, imresize\n",
    "import datetime\n",
    "import os"
   ]
  },
  {
   "cell_type": "markdown",
   "metadata": {},
   "source": [
    "We set the random seed so that the results don't vary drastically."
   ]
  },
  {
   "cell_type": "code",
   "execution_count": 2,
   "metadata": {},
   "outputs": [
    {
     "name": "stderr",
     "output_type": "stream",
     "text": [
      "Using TensorFlow backend.\n"
     ]
    }
   ],
   "source": [
    "np.random.seed(30)\n",
    "import random as rn\n",
    "rn.seed(30)\n",
    "from keras import backend as K\n",
    "import tensorflow as tf\n",
    "tf.set_random_seed(30)"
   ]
  },
  {
   "cell_type": "markdown",
   "metadata": {},
   "source": [
    "In this block, you read the folder names for training and validation. You also set the batch_size here. Note that you set the batch size in such a way that you are able to use the GPU in full capacity. You keep increasing the batch size until the machine throws an error."
   ]
  },
  {
   "cell_type": "code",
   "execution_count": 3,
   "metadata": {},
   "outputs": [],
   "source": [
    "train_doc = np.random.permutation(open('./Project_data/train.csv').readlines())\n",
    "val_doc = np.random.permutation(open('./Project_data/val.csv').readlines())\n",
    "batch_size = 32 #experiment with the batch size"
   ]
  },
  {
   "cell_type": "markdown",
   "metadata": {},
   "source": [
    "## Generator\n",
    "This is one of the most important part of the code. The overall structure of the generator has been given. In the generator, you are going to preprocess the images as you have images of 2 different dimensions as well as create a batch of video frames. You have to experiment with `img_idx`, `y`,`z` and normalization such that you get high accuracy."
   ]
  },
  {
   "cell_type": "code",
   "execution_count": 4,
   "metadata": {},
   "outputs": [],
   "source": [
    "def generator(source_path, folder_list, batch_size):\n",
    "    print( 'Source path = ', source_path, '; batch size =', batch_size)\n",
    "    img_idx = [x for x in range(0, 30)] #create a list of image numbers you want to use for a particular video\n",
    "    while True:\n",
    "        t = np.random.permutation(folder_list)\n",
    "        num_batches = len(t)//batch_size # calculate the number of batches\n",
    "        for batch in range(num_batches): # we iterate over the number of batches\n",
    "            batch_data = np.zeros((batch_size,x,y,z,3)) # x is the number of images you use for each video, (y,z) is the final size of the input images and 3 is the number of channels RGB\n",
    "            batch_labels = np.zeros((batch_size,5)) # batch_labels is the one hot representation of the output\n",
    "            for folder in range(batch_size): # iterate over the batch_size\n",
    "                imgs = os.listdir(source_path+'/'+ t[folder + (batch*batch_size)].split(';')[0]) # read all the images in the folder\n",
    "                for idx,item in enumerate(img_idx): #  Iterate iver the frames/images of a folder to read them in\n",
    "                    image = imread(source_path+'/'+ t[folder + (batch*batch_size)].strip().split(';')[0]+'/'+imgs[item]).astype(np.float32)\n",
    "                    \n",
    "                    #crop the images and resize them. Note that the images are of 2 different shape \n",
    "                    #and the conv3D will throw error if the inputs in a batch have different shapes\n",
    "                    \n",
    "                    image_resized=imresize(image,(120,120,3)) #image height and width is taken as 120\n",
    "                    \n",
    "                    batch_data[folder,idx,:,:,0] = (image_resized[:,:,0])/255 #normalise and feed in the image\n",
    "                    batch_data[folder,idx,:,:,1] = (image_resized[:,:,1])/255 #normalise and feed in the image\n",
    "                    batch_data[folder,idx,:,:,2] = (image_resized[:,:,2])/255 #normalise and feed in the image\n",
    "                    \n",
    "                batch_labels[folder, int(t[folder + (batch*batch_size)].strip().split(';')[2])] = 1\n",
    "            yield batch_data, batch_labels #you yield the batch_data and the batch_labels, remember what does yield do\n",
    "\n",
    "        \n",
    "        # write the code for the remaining data points which are left after full batches\n",
    "        if (len(folder_list) != batch_size*num_batches):\n",
    "            batch_size = len(folder_list) - (batch_size*num_batches)\n",
    "            yield batch_data, batch_labels"
   ]
  },
  {
   "cell_type": "markdown",
   "metadata": {},
   "source": [
    "Note here that a video is represented above in the generator as (number of images, height, width, number of channels). Take this into consideration while creating the model architecture."
   ]
  },
  {
   "cell_type": "code",
   "execution_count": 5,
   "metadata": {},
   "outputs": [
    {
     "name": "stdout",
     "output_type": "stream",
     "text": [
      "# training sequences = 663\n",
      "# validation sequences = 100\n",
      "# epochs = 10\n"
     ]
    }
   ],
   "source": [
    "curr_dt_time = datetime.datetime.now()\n",
    "train_path = './Project_data/train'\n",
    "val_path = './Project_data/val'\n",
    "num_train_sequences = len(train_doc)\n",
    "print('# training sequences =', num_train_sequences)\n",
    "num_val_sequences = len(val_doc)\n",
    "print('# validation sequences =', num_val_sequences)\n",
    "num_epochs = 10 # choose the number of epochs\n",
    "print ('# epochs =', num_epochs)"
   ]
  },
  {
   "cell_type": "markdown",
   "metadata": {},
   "source": [
    "## Model\n",
    "Here you make the model using different functionalities that Keras provides. Remember to use `Conv3D` and `MaxPooling3D` and not `Conv2D` and `Maxpooling2D` for a 3D convolution model. You would want to use `TimeDistributed` while building a Conv2D + RNN model. Also remember that the last layer is the softmax. Design the network in such a way that the model is able to give good accuracy on the least number of parameters so that it can fit in the memory of the webcam."
   ]
  },
  {
   "cell_type": "code",
   "execution_count": 6,
   "metadata": {},
   "outputs": [],
   "source": [
    "from keras.models import Sequential, Model\n",
    "from keras.layers import Dense, GRU, Flatten, TimeDistributed, Flatten, BatchNormalization, Activation, Dropout\n",
    "from keras.layers.convolutional import Conv3D, MaxPooling3D\n",
    "from keras.callbacks import ModelCheckpoint, ReduceLROnPlateau\n",
    "from keras import optimizers\n",
    "\n",
    "#write your model here\n",
    "\n",
    "#Defining the filters and dense layers\n",
    "F = [8,16,32,64]\n",
    "D = [256, 128, 5]\n",
    "\n",
    "# Input shape\n",
    "I=(30,120,120,3) # (frames,num_rows,num_cols,channel)\n",
    "\n",
    "#Model Definition\n",
    "model = Sequential()\n",
    "\n",
    "model.add(Conv3D(F[0], \n",
    "                 kernel_size=(3,3,3), \n",
    "                 input_shape=I,\n",
    "                 padding='same'))\n",
    "model.add(BatchNormalization())\n",
    "model.add(Activation('relu'))\n",
    "\n",
    "model.add(MaxPooling3D(pool_size=(2,2,2)))\n",
    "\n",
    "model.add(Conv3D(F[1], \n",
    "                 kernel_size=(3,3,3), \n",
    "                 padding='same'))\n",
    "model.add(BatchNormalization())\n",
    "model.add(Activation('relu'))\n",
    "\n",
    "model.add(MaxPooling3D(pool_size=(2,2,2)))\n",
    "\n",
    "model.add(Conv3D(F[2], \n",
    "                 kernel_size=(1,3,3), \n",
    "                 padding='same'))\n",
    "model.add(BatchNormalization())\n",
    "model.add(Activation('relu'))\n",
    "\n",
    "model.add(MaxPooling3D(pool_size=(2,2,2)))\n",
    "\n",
    "model.add(Conv3D(F[3], \n",
    "                 kernel_size=(1,3,3), \n",
    "                 padding='same'))\n",
    "model.add(Activation('relu'))\n",
    "model.add(Dropout(0.25))\n",
    "\n",
    "model.add(MaxPooling3D(pool_size=(2,2,2)))\n",
    "\n",
    "#Flatten Layer\n",
    "model.add(Flatten())\n",
    "\n",
    "model.add(Dense(D[0], activation='relu'))\n",
    "model.add(Dropout(0.5))\n",
    "\n",
    "model.add(Dense(D[1], activation='relu'))\n",
    "model.add(Dropout(0.5))\n",
    "\n",
    "#softmax\n",
    "model.add(Dense(D[2], activation='softmax'))"
   ]
  },
  {
   "cell_type": "markdown",
   "metadata": {},
   "source": [
    "Now that you have written the model, the next step is to compile the model. When you print the summary of the model, you'll see the total number of parameters you have to train."
   ]
  },
  {
   "cell_type": "code",
   "execution_count": 7,
   "metadata": {},
   "outputs": [
    {
     "name": "stdout",
     "output_type": "stream",
     "text": [
      "_________________________________________________________________\n",
      "Layer (type)                 Output Shape              Param #   \n",
      "=================================================================\n",
      "conv3d_1 (Conv3D)            (None, 30, 120, 120, 8)   656       \n",
      "_________________________________________________________________\n",
      "batch_normalization_1 (Batch (None, 30, 120, 120, 8)   32        \n",
      "_________________________________________________________________\n",
      "activation_1 (Activation)    (None, 30, 120, 120, 8)   0         \n",
      "_________________________________________________________________\n",
      "max_pooling3d_1 (MaxPooling3 (None, 15, 60, 60, 8)     0         \n",
      "_________________________________________________________________\n",
      "conv3d_2 (Conv3D)            (None, 15, 60, 60, 16)    3472      \n",
      "_________________________________________________________________\n",
      "batch_normalization_2 (Batch (None, 15, 60, 60, 16)    64        \n",
      "_________________________________________________________________\n",
      "activation_2 (Activation)    (None, 15, 60, 60, 16)    0         \n",
      "_________________________________________________________________\n",
      "max_pooling3d_2 (MaxPooling3 (None, 7, 30, 30, 16)     0         \n",
      "_________________________________________________________________\n",
      "conv3d_3 (Conv3D)            (None, 7, 30, 30, 32)     4640      \n",
      "_________________________________________________________________\n",
      "batch_normalization_3 (Batch (None, 7, 30, 30, 32)     128       \n",
      "_________________________________________________________________\n",
      "activation_3 (Activation)    (None, 7, 30, 30, 32)     0         \n",
      "_________________________________________________________________\n",
      "max_pooling3d_3 (MaxPooling3 (None, 3, 15, 15, 32)     0         \n",
      "_________________________________________________________________\n",
      "conv3d_4 (Conv3D)            (None, 3, 15, 15, 64)     18496     \n",
      "_________________________________________________________________\n",
      "activation_4 (Activation)    (None, 3, 15, 15, 64)     0         \n",
      "_________________________________________________________________\n",
      "dropout_1 (Dropout)          (None, 3, 15, 15, 64)     0         \n",
      "_________________________________________________________________\n",
      "max_pooling3d_4 (MaxPooling3 (None, 1, 7, 7, 64)       0         \n",
      "_________________________________________________________________\n",
      "flatten_1 (Flatten)          (None, 3136)              0         \n",
      "_________________________________________________________________\n",
      "dense_1 (Dense)              (None, 256)               803072    \n",
      "_________________________________________________________________\n",
      "dropout_2 (Dropout)          (None, 256)               0         \n",
      "_________________________________________________________________\n",
      "dense_2 (Dense)              (None, 128)               32896     \n",
      "_________________________________________________________________\n",
      "dropout_3 (Dropout)          (None, 128)               0         \n",
      "_________________________________________________________________\n",
      "dense_3 (Dense)              (None, 5)                 645       \n",
      "=================================================================\n",
      "Total params: 864,101\n",
      "Trainable params: 863,989\n",
      "Non-trainable params: 112\n",
      "_________________________________________________________________\n",
      "None\n"
     ]
    }
   ],
   "source": [
    "from keras.optimizers import Adam\n",
    "optimiser = Adam() #write your optimizer\n",
    "model.compile(optimizer=optimiser, loss='categorical_crossentropy', metrics=['categorical_accuracy'])\n",
    "print (model.summary())"
   ]
  },
  {
   "cell_type": "markdown",
   "metadata": {},
   "source": [
    "Let us create the train_generator and the val_generator which will be used in .fit_generator."
   ]
  },
  {
   "cell_type": "code",
   "execution_count": 8,
   "metadata": {},
   "outputs": [],
   "source": [
    "train_generator = generator(train_path, train_doc, batch_size)\n",
    "val_generator = generator(val_path, val_doc, batch_size)"
   ]
  },
  {
   "cell_type": "code",
   "execution_count": 9,
   "metadata": {},
   "outputs": [],
   "source": [
    "model_name = 'model_init' + '_' + str(curr_dt_time).replace(' ','').replace(':','_') + '/'\n",
    "    \n",
    "if not os.path.exists(model_name):\n",
    "    os.mkdir(model_name)\n",
    "        \n",
    "filepath = model_name + 'model-{epoch:05d}-{loss:.5f}-{categorical_accuracy:.5f}-{val_loss:.5f}-{val_categorical_accuracy:.5f}.h5'\n",
    "\n",
    "checkpoint = ModelCheckpoint(filepath, monitor='val_loss', verbose=1, save_best_only=False, save_weights_only=False, mode='auto', period=1)\n",
    "\n",
    "LR = ReduceLROnPlateau(monitor='val_loss', factor=0.5, patience=2, cooldown=1, verbose=1) # write the REducelronplateau code here\n",
    "callbacks_list = [checkpoint, LR]"
   ]
  },
  {
   "cell_type": "markdown",
   "metadata": {},
   "source": [
    "The steps_per_epoch and validation_steps are used by fit_generator to decide the number of next() calls it need to make."
   ]
  },
  {
   "cell_type": "code",
   "execution_count": 10,
   "metadata": {},
   "outputs": [],
   "source": [
    "if (num_train_sequences%batch_size) == 0:\n",
    "    steps_per_epoch = int(num_train_sequences/batch_size)\n",
    "else:\n",
    "    steps_per_epoch = (num_train_sequences//batch_size) + 1\n",
    "\n",
    "if (num_val_sequences%batch_size) == 0:\n",
    "    validation_steps = int(num_val_sequences/batch_size)\n",
    "else:\n",
    "    validation_steps = (num_val_sequences//batch_size) + 1"
   ]
  },
  {
   "cell_type": "markdown",
   "metadata": {},
   "source": [
    "Let us now fit the model. This will start training the model and with the help of the checkpoints, you'll be able to save the model at the end of each epoch."
   ]
  },
  {
   "cell_type": "code",
   "execution_count": 11,
   "metadata": {},
   "outputs": [
    {
     "name": "stdout",
     "output_type": "stream",
     "text": [
      "Source path =  ./Project_data/val ; batch size = 32\n",
      "Source path =  ./Project_data/train ; batch size = 32\n",
      "Epoch 1/10\n"
     ]
    },
    {
     "name": "stderr",
     "output_type": "stream",
     "text": [
      "/mnt/disks/user/anaconda3/lib/python3.6/site-packages/ipykernel_launcher.py:13: DeprecationWarning: `imread` is deprecated!\n",
      "`imread` is deprecated in SciPy 1.0.0, and will be removed in 1.2.0.\n",
      "Use ``imageio.imread`` instead.\n",
      "  del sys.path[0]\n",
      "/mnt/disks/user/anaconda3/lib/python3.6/site-packages/ipykernel_launcher.py:18: DeprecationWarning: `imresize` is deprecated!\n",
      "`imresize` is deprecated in SciPy 1.0.0, and will be removed in 1.2.0.\n",
      "Use ``skimage.transform.resize`` instead.\n"
     ]
    },
    {
     "name": "stdout",
     "output_type": "stream",
     "text": [
      "21/21 [==============================] - 82s 4s/step - loss: 2.0477 - categorical_accuracy: 0.2500 - val_loss: 1.4291 - val_categorical_accuracy: 0.4766\n",
      "\n",
      "Epoch 00001: saving model to model_init_2020-05-2410_46_33.444757/model-00001-2.04774-0.25000-1.42906-0.47656.h5\n",
      "Epoch 2/10\n",
      "21/21 [==============================] - 54s 3s/step - loss: 1.4556 - categorical_accuracy: 0.3458 - val_loss: 1.2687 - val_categorical_accuracy: 0.5000\n",
      "\n",
      "Epoch 00002: saving model to model_init_2020-05-2410_46_33.444757/model-00002-1.45563-0.34576-1.26867-0.50000.h5\n",
      "Epoch 3/10\n",
      "21/21 [==============================] - 44s 2s/step - loss: 1.3485 - categorical_accuracy: 0.3797 - val_loss: 1.1540 - val_categorical_accuracy: 0.6875\n",
      "\n",
      "Epoch 00003: saving model to model_init_2020-05-2410_46_33.444757/model-00003-1.34802-0.38051-1.15403-0.68750.h5\n",
      "Epoch 4/10\n",
      "21/21 [==============================] - 46s 2s/step - loss: 1.2791 - categorical_accuracy: 0.4211 - val_loss: 1.2416 - val_categorical_accuracy: 0.5625\n",
      "\n",
      "Epoch 00004: saving model to model_init_2020-05-2410_46_33.444757/model-00004-1.27908-0.42105-1.24156-0.56250.h5\n",
      "Epoch 5/10\n",
      "21/21 [==============================] - 39s 2s/step - loss: 1.2562 - categorical_accuracy: 0.4478 - val_loss: 1.1293 - val_categorical_accuracy: 0.6875\n",
      "\n",
      "Epoch 00005: saving model to model_init_2020-05-2410_46_33.444757/model-00005-1.25563-0.44847-1.12929-0.68750.h5\n",
      "Epoch 6/10\n",
      "21/21 [==============================] - 40s 2s/step - loss: 1.1080 - categorical_accuracy: 0.5098 - val_loss: 1.0002 - val_categorical_accuracy: 0.6875\n",
      "\n",
      "Epoch 00006: saving model to model_init_2020-05-2410_46_33.444757/model-00006-1.10796-0.50980-1.00023-0.68750.h5\n",
      "Epoch 7/10\n",
      "21/21 [==============================] - 44s 2s/step - loss: 1.0603 - categorical_accuracy: 0.5294 - val_loss: 1.2203 - val_categorical_accuracy: 0.3125\n",
      "\n",
      "Epoch 00007: saving model to model_init_2020-05-2410_46_33.444757/model-00007-1.06032-0.52941-1.22031-0.31250.h5\n",
      "Epoch 8/10\n",
      "21/21 [==============================] - 38s 2s/step - loss: 1.0660 - categorical_accuracy: 0.5742 - val_loss: 0.8896 - val_categorical_accuracy: 0.5625\n",
      "\n",
      "Epoch 00008: saving model to model_init_2020-05-2410_46_33.444757/model-00008-1.06602-0.57423-0.88957-0.56250.h5\n",
      "Epoch 9/10\n",
      "21/21 [==============================] - 42s 2s/step - loss: 0.9836 - categorical_accuracy: 0.5938 - val_loss: 1.3094 - val_categorical_accuracy: 0.3750\n",
      "\n",
      "Epoch 00009: saving model to model_init_2020-05-2410_46_33.444757/model-00009-0.98356-0.59384-1.30942-0.37500.h5\n",
      "Epoch 10/10\n",
      "21/21 [==============================] - 41s 2s/step - loss: 0.9338 - categorical_accuracy: 0.6022 - val_loss: 1.3548 - val_categorical_accuracy: 0.3125\n",
      "\n",
      "Epoch 00010: saving model to model_init_2020-05-2410_46_33.444757/model-00010-0.93384-0.60224-1.35485-0.31250.h5\n",
      "\n",
      "Epoch 00010: ReduceLROnPlateau reducing learning rate to 0.0005000000237487257.\n"
     ]
    },
    {
     "data": {
      "text/plain": [
       "<keras.callbacks.History at 0x7f92917be630>"
      ]
     },
     "execution_count": 11,
     "metadata": {},
     "output_type": "execute_result"
    }
   ],
   "source": [
    "x = 30 #Frame\n",
    "y = 120 #rows\n",
    "z = 120 #columns\n",
    "batch_size = 10\n",
    "num_epochs = 10\n",
    "model.fit_generator(train_generator, steps_per_epoch=steps_per_epoch, epochs=num_epochs, verbose=1, \n",
    "                    callbacks=callbacks_list, validation_data=val_generator, \n",
    "                    validation_steps=validation_steps, class_weight=None, workers=1, initial_epoch=0)"
   ]
  },
  {
   "cell_type": "code",
   "execution_count": 12,
   "metadata": {},
   "outputs": [
    {
     "name": "stdout",
     "output_type": "stream",
     "text": [
      "Epoch 1/30\n"
     ]
    },
    {
     "name": "stderr",
     "output_type": "stream",
     "text": [
      "/mnt/disks/user/anaconda3/lib/python3.6/site-packages/ipykernel_launcher.py:13: DeprecationWarning: `imread` is deprecated!\n",
      "`imread` is deprecated in SciPy 1.0.0, and will be removed in 1.2.0.\n",
      "Use ``imageio.imread`` instead.\n",
      "  del sys.path[0]\n",
      "/mnt/disks/user/anaconda3/lib/python3.6/site-packages/ipykernel_launcher.py:18: DeprecationWarning: `imresize` is deprecated!\n",
      "`imresize` is deprecated in SciPy 1.0.0, and will be removed in 1.2.0.\n",
      "Use ``skimage.transform.resize`` instead.\n"
     ]
    },
    {
     "name": "stdout",
     "output_type": "stream",
     "text": [
      "2/2 [==============================] - 5s 3s/step - loss: 0.9098 - categorical_accuracy: 0.5588 - val_loss: 1.4939 - val_categorical_accuracy: 0.5000\n",
      "\n",
      "Epoch 00001: saving model to model_init_2020-05-2410_46_33.444757/model-00001-0.90978-0.55882-1.49390-0.50000.h5\n",
      "Epoch 2/30\n",
      "2/2 [==============================] - 4s 2s/step - loss: 0.9283 - categorical_accuracy: 0.6471 - val_loss: 1.5727 - val_categorical_accuracy: 0.2500\n",
      "\n",
      "Epoch 00002: saving model to model_init_2020-05-2410_46_33.444757/model-00002-0.92827-0.64706-1.57268-0.25000.h5\n",
      "Epoch 3/30\n",
      "2/2 [==============================] - 4s 2s/step - loss: 0.9279 - categorical_accuracy: 0.6471 - val_loss: 1.0057 - val_categorical_accuracy: 0.7500\n",
      "\n",
      "Epoch 00003: saving model to model_init_2020-05-2410_46_33.444757/model-00003-0.92794-0.64706-1.00575-0.75000.h5\n",
      "Epoch 4/30\n",
      "2/2 [==============================] - 4s 2s/step - loss: 0.6870 - categorical_accuracy: 0.7647 - val_loss: 1.0130 - val_categorical_accuracy: 0.2500\n",
      "\n",
      "Epoch 00004: saving model to model_init_2020-05-2410_46_33.444757/model-00004-0.68700-0.76471-1.01300-0.25000.h5\n",
      "Epoch 5/30\n",
      "2/2 [==============================] - 4s 2s/step - loss: 0.7719 - categorical_accuracy: 0.6471 - val_loss: 1.3826 - val_categorical_accuracy: 0.5000\n",
      "\n",
      "Epoch 00005: saving model to model_init_2020-05-2410_46_33.444757/model-00005-0.77186-0.64706-1.38263-0.50000.h5\n",
      "\n",
      "Epoch 00005: ReduceLROnPlateau reducing learning rate to 0.0002500000118743628.\n",
      "Epoch 6/30\n",
      "2/2 [==============================] - 4s 2s/step - loss: 0.9350 - categorical_accuracy: 0.5294 - val_loss: 0.6294 - val_categorical_accuracy: 0.7500\n",
      "\n",
      "Epoch 00006: saving model to model_init_2020-05-2410_46_33.444757/model-00006-0.93501-0.52941-0.62939-0.75000.h5\n",
      "Epoch 7/30\n",
      "2/2 [==============================] - 3s 2s/step - loss: 0.9562 - categorical_accuracy: 0.7059 - val_loss: 0.7201 - val_categorical_accuracy: 0.7500\n",
      "\n",
      "Epoch 00007: saving model to model_init_2020-05-2410_46_33.444757/model-00007-0.95620-0.70588-0.72007-0.75000.h5\n",
      "Epoch 8/30\n",
      "2/2 [==============================] - 5s 2s/step - loss: 0.7375 - categorical_accuracy: 0.7059 - val_loss: 0.4791 - val_categorical_accuracy: 0.7500\n",
      "\n",
      "Epoch 00008: saving model to model_init_2020-05-2410_46_33.444757/model-00008-0.73748-0.70588-0.47912-0.75000.h5\n",
      "Epoch 9/30\n",
      "2/2 [==============================] - 4s 2s/step - loss: 0.8121 - categorical_accuracy: 0.7647 - val_loss: 0.9443 - val_categorical_accuracy: 0.7500\n",
      "\n",
      "Epoch 00009: saving model to model_init_2020-05-2410_46_33.444757/model-00009-0.81207-0.76471-0.94432-0.75000.h5\n",
      "Epoch 10/30\n",
      "2/2 [==============================] - 4s 2s/step - loss: 0.8840 - categorical_accuracy: 0.5882 - val_loss: 1.0312 - val_categorical_accuracy: 0.7500\n",
      "\n",
      "Epoch 00010: saving model to model_init_2020-05-2410_46_33.444757/model-00010-0.88396-0.58824-1.03121-0.75000.h5\n",
      "\n",
      "Epoch 00010: ReduceLROnPlateau reducing learning rate to 0.0001250000059371814.\n",
      "Epoch 11/30\n",
      "2/2 [==============================] - 4s 2s/step - loss: 0.8570 - categorical_accuracy: 0.6471 - val_loss: 0.7143 - val_categorical_accuracy: 0.7500\n",
      "\n",
      "Epoch 00011: saving model to model_init_2020-05-2410_46_33.444757/model-00011-0.85695-0.64706-0.71432-0.75000.h5\n",
      "Epoch 12/30\n",
      "2/2 [==============================] - 4s 2s/step - loss: 0.8508 - categorical_accuracy: 0.6176 - val_loss: 1.0589 - val_categorical_accuracy: 0.7500\n",
      "\n",
      "Epoch 00012: saving model to model_init_2020-05-2410_46_33.444757/model-00012-0.85083-0.61765-1.05891-0.75000.h5\n",
      "\n",
      "Epoch 00012: ReduceLROnPlateau reducing learning rate to 6.25000029685907e-05.\n",
      "Epoch 13/30\n",
      "2/2 [==============================] - 4s 2s/step - loss: 0.8521 - categorical_accuracy: 0.7647 - val_loss: 0.7564 - val_categorical_accuracy: 0.7500\n",
      "\n",
      "Epoch 00013: saving model to model_init_2020-05-2410_46_33.444757/model-00013-0.85215-0.76471-0.75635-0.75000.h5\n",
      "Epoch 14/30\n",
      "2/2 [==============================] - 4s 2s/step - loss: 0.8504 - categorical_accuracy: 0.5882 - val_loss: 1.0702 - val_categorical_accuracy: 0.5000\n",
      "\n",
      "Epoch 00014: saving model to model_init_2020-05-2410_46_33.444757/model-00014-0.85036-0.58824-1.07022-0.50000.h5\n",
      "\n",
      "Epoch 00014: ReduceLROnPlateau reducing learning rate to 3.125000148429535e-05.\n",
      "Epoch 15/30\n",
      "2/2 [==============================] - 4s 2s/step - loss: 0.7034 - categorical_accuracy: 0.7353 - val_loss: 0.8215 - val_categorical_accuracy: 0.7500\n",
      "\n",
      "Epoch 00015: saving model to model_init_2020-05-2410_46_33.444757/model-00015-0.70338-0.73529-0.82145-0.75000.h5\n",
      "Epoch 16/30\n",
      "2/2 [==============================] - 4s 2s/step - loss: 0.8054 - categorical_accuracy: 0.6176 - val_loss: 1.2959 - val_categorical_accuracy: 0.5000\n",
      "\n",
      "Epoch 00016: saving model to model_init_2020-05-2410_46_33.444757/model-00016-0.80542-0.61765-1.29589-0.50000.h5\n",
      "\n",
      "Epoch 00016: ReduceLROnPlateau reducing learning rate to 1.5625000742147677e-05.\n",
      "Epoch 17/30\n",
      "2/2 [==============================] - 4s 2s/step - loss: 0.7750 - categorical_accuracy: 0.8235 - val_loss: 0.8709 - val_categorical_accuracy: 0.5000\n",
      "\n",
      "Epoch 00017: saving model to model_init_2020-05-2410_46_33.444757/model-00017-0.77501-0.82353-0.87086-0.50000.h5\n",
      "Epoch 18/30\n",
      "2/2 [==============================] - 4s 2s/step - loss: 0.7006 - categorical_accuracy: 0.7647 - val_loss: 0.6173 - val_categorical_accuracy: 0.7500\n",
      "\n",
      "Epoch 00018: saving model to model_init_2020-05-2410_46_33.444757/model-00018-0.70065-0.76471-0.61732-0.75000.h5\n",
      "\n",
      "Epoch 00018: ReduceLROnPlateau reducing learning rate to 7.812500371073838e-06.\n",
      "Epoch 19/30\n",
      "2/2 [==============================] - 4s 2s/step - loss: 0.6771 - categorical_accuracy: 0.7941 - val_loss: 1.1295 - val_categorical_accuracy: 0.7500\n",
      "\n",
      "Epoch 00019: saving model to model_init_2020-05-2410_46_33.444757/model-00019-0.67706-0.79412-1.12948-0.75000.h5\n",
      "Epoch 20/30\n",
      "2/2 [==============================] - 4s 2s/step - loss: 0.7981 - categorical_accuracy: 0.7647 - val_loss: 0.3020 - val_categorical_accuracy: 1.0000\n",
      "\n",
      "Epoch 00020: saving model to model_init_2020-05-2410_46_33.444757/model-00020-0.79814-0.76471-0.30201-1.00000.h5\n",
      "Epoch 21/30\n",
      "2/2 [==============================] - 4s 2s/step - loss: 0.8170 - categorical_accuracy: 0.6765 - val_loss: 0.2828 - val_categorical_accuracy: 1.0000\n",
      "\n",
      "Epoch 00021: saving model to model_init_2020-05-2410_46_33.444757/model-00021-0.81697-0.67647-0.28276-1.00000.h5\n",
      "Epoch 22/30\n",
      "2/2 [==============================] - 3s 2s/step - loss: 0.6139 - categorical_accuracy: 0.7647 - val_loss: 1.0732 - val_categorical_accuracy: 0.2500\n",
      "\n",
      "Epoch 00022: saving model to model_init_2020-05-2410_46_33.444757/model-00022-0.61391-0.76471-1.07319-0.25000.h5\n",
      "Epoch 23/30\n",
      "2/2 [==============================] - 4s 2s/step - loss: 0.6653 - categorical_accuracy: 0.7647 - val_loss: 0.6680 - val_categorical_accuracy: 0.7500\n",
      "\n",
      "Epoch 00023: saving model to model_init_2020-05-2410_46_33.444757/model-00023-0.66535-0.76471-0.66805-0.75000.h5\n",
      "\n",
      "Epoch 00023: ReduceLROnPlateau reducing learning rate to 3.906250185536919e-06.\n",
      "Epoch 24/30\n",
      "2/2 [==============================] - 3s 2s/step - loss: 0.7776 - categorical_accuracy: 0.6765 - val_loss: 1.6125 - val_categorical_accuracy: 0.0000e+00\n",
      "\n",
      "Epoch 00024: saving model to model_init_2020-05-2410_46_33.444757/model-00024-0.77757-0.67647-1.61254-0.00000.h5\n",
      "Epoch 25/30\n",
      "2/2 [==============================] - 4s 2s/step - loss: 0.6401 - categorical_accuracy: 0.8529 - val_loss: 1.4404 - val_categorical_accuracy: 0.2500\n",
      "\n",
      "Epoch 00025: saving model to model_init_2020-05-2410_46_33.444757/model-00025-0.64009-0.85294-1.44038-0.25000.h5\n",
      "\n",
      "Epoch 00025: ReduceLROnPlateau reducing learning rate to 1.9531250927684596e-06.\n",
      "Epoch 26/30\n",
      "2/2 [==============================] - 5s 2s/step - loss: 0.6756 - categorical_accuracy: 0.7647 - val_loss: 0.5124 - val_categorical_accuracy: 1.0000\n",
      "\n",
      "Epoch 00026: saving model to model_init_2020-05-2410_46_33.444757/model-00026-0.67560-0.76471-0.51242-1.00000.h5\n",
      "Epoch 27/30\n",
      "2/2 [==============================] - 4s 2s/step - loss: 0.8749 - categorical_accuracy: 0.6765 - val_loss: 1.0820 - val_categorical_accuracy: 0.5000\n",
      "\n",
      "Epoch 00027: saving model to model_init_2020-05-2410_46_33.444757/model-00027-0.87487-0.67647-1.08196-0.50000.h5\n",
      "\n",
      "Epoch 00027: ReduceLROnPlateau reducing learning rate to 9.765625463842298e-07.\n",
      "Epoch 28/30\n"
     ]
    },
    {
     "name": "stdout",
     "output_type": "stream",
     "text": [
      "2/2 [==============================] - 4s 2s/step - loss: 0.7507 - categorical_accuracy: 0.7353 - val_loss: 1.2009 - val_categorical_accuracy: 0.5000\n",
      "\n",
      "Epoch 00028: saving model to model_init_2020-05-2410_46_33.444757/model-00028-0.75074-0.73529-1.20092-0.50000.h5\n",
      "Epoch 29/30\n",
      "2/2 [==============================] - 4s 2s/step - loss: 0.7103 - categorical_accuracy: 0.7647 - val_loss: 1.2671 - val_categorical_accuracy: 0.7500\n",
      "\n",
      "Epoch 00029: saving model to model_init_2020-05-2410_46_33.444757/model-00029-0.71029-0.76471-1.26709-0.75000.h5\n",
      "\n",
      "Epoch 00029: ReduceLROnPlateau reducing learning rate to 4.882812731921149e-07.\n",
      "Epoch 30/30\n",
      "2/2 [==============================] - 4s 2s/step - loss: 0.8822 - categorical_accuracy: 0.6471 - val_loss: 0.9227 - val_categorical_accuracy: 0.5000\n",
      "\n",
      "Epoch 00030: saving model to model_init_2020-05-2410_46_33.444757/model-00030-0.88224-0.64706-0.92271-0.50000.h5\n"
     ]
    },
    {
     "data": {
      "text/plain": [
       "<keras.callbacks.History at 0x7f9283fc92b0>"
      ]
     },
     "execution_count": 12,
     "metadata": {},
     "output_type": "execute_result"
    }
   ],
   "source": [
    "batch_size = 512\n",
    "num_epochs = 30\n",
    "\n",
    "if (num_train_sequences%batch_size) == 0:\n",
    "    steps_per_epoch = int(num_train_sequences/batch_size)\n",
    "else:\n",
    "    steps_per_epoch = (num_train_sequences//batch_size) + 1\n",
    "\n",
    "if (num_val_sequences%batch_size) == 0:\n",
    "    validation_steps = int(num_val_sequences/batch_size)\n",
    "else:\n",
    "    validation_steps = (num_val_sequences//batch_size) + 1\n",
    "    \n",
    "model.fit_generator(train_generator, steps_per_epoch=steps_per_epoch, epochs=num_epochs, verbose=1, \n",
    "                    callbacks=callbacks_list, validation_data=val_generator, \n",
    "                    validation_steps=validation_steps, class_weight=None, workers=1, initial_epoch=0)"
   ]
  },
  {
   "cell_type": "markdown",
   "metadata": {},
   "source": [
    "### Model - CNN - RNN (LSTM)"
   ]
  },
  {
   "cell_type": "code",
   "execution_count": 13,
   "metadata": {},
   "outputs": [],
   "source": [
    "from keras.layers.convolutional import Conv2D, MaxPooling2D\n",
    "from keras.layers.recurrent import LSTM\n",
    "\n",
    "model = Sequential()\n",
    "\n",
    "model.add(TimeDistributed(Conv2D(16, (3, 3) , padding='same', activation='relu'),\n",
    "          input_shape=(30,120,120,3)))\n",
    "model.add(TimeDistributed(BatchNormalization()))\n",
    "\n",
    "model.add(TimeDistributed(MaxPooling2D((2,2))))\n",
    "\n",
    "model.add(TimeDistributed(Conv2D(32, (3, 3) , padding='same', activation='relu')))\n",
    "model.add(TimeDistributed(BatchNormalization()))\n",
    "\n",
    "model.add(TimeDistributed(MaxPooling2D((2,2))))\n",
    "\n",
    "model.add(TimeDistributed(Conv2D(64, (3, 3) , padding='same', activation='relu')))\n",
    "model.add(TimeDistributed(BatchNormalization()))\n",
    "\n",
    "model.add(TimeDistributed(MaxPooling2D((2,2))))\n",
    "\n",
    "model.add(TimeDistributed(Conv2D(128, (3, 3) , padding='same', activation='relu')))\n",
    "model.add(TimeDistributed(BatchNormalization()))\n",
    "\n",
    "model.add(TimeDistributed(MaxPooling2D((2,2))))\n",
    "\n",
    "model.add(TimeDistributed(Conv2D(256, (3, 3) , padding='same', activation='relu')))\n",
    "model.add(TimeDistributed(BatchNormalization()))\n",
    "\n",
    "model.add(TimeDistributed(MaxPooling2D((2,2))))\n",
    "\n",
    "#Flatten Layer\n",
    "model.add(TimeDistributed(Flatten()))\n",
    "\n",
    "model.add(LSTM(64))\n",
    "model.add(Dropout(0.5))\n",
    "\n",
    "model.add(Dense(64, activation='relu'))\n",
    "model.add(Dropout(0.5))\n",
    "\n",
    "#softmax\n",
    "model.add(Dense(5, activation='softmax'))"
   ]
  },
  {
   "cell_type": "code",
   "execution_count": 14,
   "metadata": {},
   "outputs": [
    {
     "name": "stdout",
     "output_type": "stream",
     "text": [
      "_________________________________________________________________\n",
      "Layer (type)                 Output Shape              Param #   \n",
      "=================================================================\n",
      "time_distributed_1 (TimeDist (None, 30, 120, 120, 16)  448       \n",
      "_________________________________________________________________\n",
      "time_distributed_2 (TimeDist (None, 30, 120, 120, 16)  64        \n",
      "_________________________________________________________________\n",
      "time_distributed_3 (TimeDist (None, 30, 60, 60, 16)    0         \n",
      "_________________________________________________________________\n",
      "time_distributed_4 (TimeDist (None, 30, 60, 60, 32)    4640      \n",
      "_________________________________________________________________\n",
      "time_distributed_5 (TimeDist (None, 30, 60, 60, 32)    128       \n",
      "_________________________________________________________________\n",
      "time_distributed_6 (TimeDist (None, 30, 30, 30, 32)    0         \n",
      "_________________________________________________________________\n",
      "time_distributed_7 (TimeDist (None, 30, 30, 30, 64)    18496     \n",
      "_________________________________________________________________\n",
      "time_distributed_8 (TimeDist (None, 30, 30, 30, 64)    256       \n",
      "_________________________________________________________________\n",
      "time_distributed_9 (TimeDist (None, 30, 15, 15, 64)    0         \n",
      "_________________________________________________________________\n",
      "time_distributed_10 (TimeDis (None, 30, 15, 15, 128)   73856     \n",
      "_________________________________________________________________\n",
      "time_distributed_11 (TimeDis (None, 30, 15, 15, 128)   512       \n",
      "_________________________________________________________________\n",
      "time_distributed_12 (TimeDis (None, 30, 7, 7, 128)     0         \n",
      "_________________________________________________________________\n",
      "time_distributed_13 (TimeDis (None, 30, 7, 7, 256)     295168    \n",
      "_________________________________________________________________\n",
      "time_distributed_14 (TimeDis (None, 30, 7, 7, 256)     1024      \n",
      "_________________________________________________________________\n",
      "time_distributed_15 (TimeDis (None, 30, 3, 3, 256)     0         \n",
      "_________________________________________________________________\n",
      "time_distributed_16 (TimeDis (None, 30, 2304)          0         \n",
      "_________________________________________________________________\n",
      "lstm_1 (LSTM)                (None, 64)                606464    \n",
      "_________________________________________________________________\n",
      "dropout_4 (Dropout)          (None, 64)                0         \n",
      "_________________________________________________________________\n",
      "dense_4 (Dense)              (None, 64)                4160      \n",
      "_________________________________________________________________\n",
      "dropout_5 (Dropout)          (None, 64)                0         \n",
      "_________________________________________________________________\n",
      "dense_5 (Dense)              (None, 5)                 325       \n",
      "=================================================================\n",
      "Total params: 1,005,541\n",
      "Trainable params: 1,004,549\n",
      "Non-trainable params: 992\n",
      "_________________________________________________________________\n",
      "None\n"
     ]
    }
   ],
   "source": [
    "optimiser = Adam() \n",
    "model.compile(optimizer=optimiser, loss='categorical_crossentropy', metrics=['categorical_accuracy'])\n",
    "print (model.summary())"
   ]
  },
  {
   "cell_type": "markdown",
   "metadata": {},
   "source": [
    "Let us now fit the CNN-RNN model. This will start training the model and with the help of the checkpoints, you'll be able to save the model at the end of each epoch."
   ]
  },
  {
   "cell_type": "code",
   "execution_count": 15,
   "metadata": {},
   "outputs": [
    {
     "name": "stdout",
     "output_type": "stream",
     "text": [
      "Epoch 1/10\n"
     ]
    },
    {
     "name": "stderr",
     "output_type": "stream",
     "text": [
      "/mnt/disks/user/anaconda3/lib/python3.6/site-packages/ipykernel_launcher.py:13: DeprecationWarning: `imread` is deprecated!\n",
      "`imread` is deprecated in SciPy 1.0.0, and will be removed in 1.2.0.\n",
      "Use ``imageio.imread`` instead.\n",
      "  del sys.path[0]\n",
      "/mnt/disks/user/anaconda3/lib/python3.6/site-packages/ipykernel_launcher.py:18: DeprecationWarning: `imresize` is deprecated!\n",
      "`imresize` is deprecated in SciPy 1.0.0, and will be removed in 1.2.0.\n",
      "Use ``skimage.transform.resize`` instead.\n"
     ]
    },
    {
     "name": "stdout",
     "output_type": "stream",
     "text": [
      "2/2 [==============================] - 8s 4s/step - loss: 1.8476 - categorical_accuracy: 0.2353 - val_loss: 1.7473 - val_categorical_accuracy: 0.0000e+00\n",
      "\n",
      "Epoch 00001: saving model to model_init_2020-05-2410_46_33.444757/model-00001-1.84761-0.23529-1.74727-0.00000.h5\n",
      "Epoch 2/10\n",
      "2/2 [==============================] - 2s 899ms/step - loss: 1.6336 - categorical_accuracy: 0.2353 - val_loss: 1.6962 - val_categorical_accuracy: 0.0000e+00\n",
      "\n",
      "Epoch 00002: saving model to model_init_2020-05-2410_46_33.444757/model-00002-1.63360-0.23529-1.69618-0.00000.h5\n",
      "Epoch 3/10\n",
      "2/2 [==============================] - 4s 2s/step - loss: 1.8843 - categorical_accuracy: 0.2353 - val_loss: 1.6523 - val_categorical_accuracy: 0.0000e+00\n",
      "\n",
      "Epoch 00003: saving model to model_init_2020-05-2410_46_33.444757/model-00003-1.88426-0.23529-1.65228-0.00000.h5\n",
      "Epoch 4/10\n",
      "2/2 [==============================] - 4s 2s/step - loss: 1.6827 - categorical_accuracy: 0.1471 - val_loss: 1.7022 - val_categorical_accuracy: 0.0000e+00\n",
      "\n",
      "Epoch 00004: saving model to model_init_2020-05-2410_46_33.444757/model-00004-1.68269-0.14706-1.70224-0.00000.h5\n",
      "Epoch 5/10\n",
      "2/2 [==============================] - 4s 2s/step - loss: 1.7239 - categorical_accuracy: 0.2059 - val_loss: 1.6115 - val_categorical_accuracy: 0.0000e+00\n",
      "\n",
      "Epoch 00005: saving model to model_init_2020-05-2410_46_33.444757/model-00005-1.72387-0.20588-1.61151-0.00000.h5\n",
      "Epoch 6/10\n",
      "2/2 [==============================] - 4s 2s/step - loss: 1.6319 - categorical_accuracy: 0.2353 - val_loss: 1.7049 - val_categorical_accuracy: 0.2500\n",
      "\n",
      "Epoch 00006: saving model to model_init_2020-05-2410_46_33.444757/model-00006-1.63191-0.23529-1.70486-0.25000.h5\n",
      "Epoch 7/10\n",
      "2/2 [==============================] - 4s 2s/step - loss: 1.6334 - categorical_accuracy: 0.1176 - val_loss: 1.5836 - val_categorical_accuracy: 0.2500\n",
      "\n",
      "Epoch 00007: saving model to model_init_2020-05-2410_46_33.444757/model-00007-1.63338-0.11765-1.58365-0.25000.h5\n",
      "Epoch 8/10\n",
      "2/2 [==============================] - 4s 2s/step - loss: 1.4970 - categorical_accuracy: 0.4412 - val_loss: 1.6070 - val_categorical_accuracy: 0.0000e+00\n",
      "\n",
      "Epoch 00008: saving model to model_init_2020-05-2410_46_33.444757/model-00008-1.49700-0.44118-1.60702-0.00000.h5\n",
      "Epoch 9/10\n",
      "2/2 [==============================] - 4s 2s/step - loss: 1.5718 - categorical_accuracy: 0.2941 - val_loss: 1.3906 - val_categorical_accuracy: 0.7500\n",
      "\n",
      "Epoch 00009: saving model to model_init_2020-05-2410_46_33.444757/model-00009-1.57176-0.29412-1.39061-0.75000.h5\n",
      "Epoch 10/10\n",
      "2/2 [==============================] - 4s 2s/step - loss: 1.7379 - categorical_accuracy: 0.1176 - val_loss: 1.5341 - val_categorical_accuracy: 0.5000\n",
      "\n",
      "Epoch 00010: saving model to model_init_2020-05-2410_46_33.444757/model-00010-1.73792-0.11765-1.53407-0.50000.h5\n"
     ]
    },
    {
     "data": {
      "text/plain": [
       "<keras.callbacks.History at 0x7f92440c10f0>"
      ]
     },
     "execution_count": 15,
     "metadata": {},
     "output_type": "execute_result"
    }
   ],
   "source": [
    "x = 30 #Frame\n",
    "y = 120 #rows\n",
    "z = 120 #columns\n",
    "batch_size = 10\n",
    "num_epochs = 10\n",
    "model.fit_generator(train_generator, steps_per_epoch=steps_per_epoch, epochs=num_epochs, verbose=1, \n",
    "                    callbacks=callbacks_list, validation_data=val_generator, \n",
    "                    validation_steps=validation_steps, class_weight=None, workers=1, initial_epoch=0)"
   ]
  },
  {
   "cell_type": "code",
   "execution_count": 16,
   "metadata": {},
   "outputs": [
    {
     "name": "stdout",
     "output_type": "stream",
     "text": [
      "Epoch 1/15\n"
     ]
    },
    {
     "name": "stderr",
     "output_type": "stream",
     "text": [
      "/mnt/disks/user/anaconda3/lib/python3.6/site-packages/ipykernel_launcher.py:13: DeprecationWarning: `imread` is deprecated!\n",
      "`imread` is deprecated in SciPy 1.0.0, and will be removed in 1.2.0.\n",
      "Use ``imageio.imread`` instead.\n",
      "  del sys.path[0]\n",
      "/mnt/disks/user/anaconda3/lib/python3.6/site-packages/ipykernel_launcher.py:18: DeprecationWarning: `imresize` is deprecated!\n",
      "`imresize` is deprecated in SciPy 1.0.0, and will be removed in 1.2.0.\n",
      "Use ``skimage.transform.resize`` instead.\n"
     ]
    },
    {
     "name": "stdout",
     "output_type": "stream",
     "text": [
      "3/3 [==============================] - 7s 2s/step - loss: 1.6358 - categorical_accuracy: 0.2353 - val_loss: 1.5443 - val_categorical_accuracy: 0.2500\n",
      "\n",
      "Epoch 00001: saving model to model_init_2020-05-2410_46_33.444757/model-00001-1.63580-0.23529-1.54429-0.25000.h5\n",
      "Epoch 2/15\n",
      "3/3 [==============================] - 6s 2s/step - loss: 1.5442 - categorical_accuracy: 0.2941 - val_loss: 1.4955 - val_categorical_accuracy: 0.2500\n",
      "\n",
      "Epoch 00002: saving model to model_init_2020-05-2410_46_33.444757/model-00002-1.54425-0.29412-1.49552-0.25000.h5\n",
      "Epoch 3/15\n",
      "3/3 [==============================] - 6s 2s/step - loss: 1.5341 - categorical_accuracy: 0.3333 - val_loss: 1.5664 - val_categorical_accuracy: 0.0000e+00\n",
      "\n",
      "Epoch 00003: saving model to model_init_2020-05-2410_46_33.444757/model-00003-1.53415-0.33333-1.56643-0.00000.h5\n",
      "Epoch 4/15\n",
      "3/3 [==============================] - 5s 2s/step - loss: 1.6660 - categorical_accuracy: 0.2353 - val_loss: 1.5448 - val_categorical_accuracy: 0.2500\n",
      "\n",
      "Epoch 00004: saving model to model_init_2020-05-2410_46_33.444757/model-00004-1.66595-0.23529-1.54479-0.25000.h5\n",
      "\n",
      "Epoch 00004: ReduceLROnPlateau reducing learning rate to 0.0005000000237487257.\n",
      "Epoch 5/15\n",
      "3/3 [==============================] - 6s 2s/step - loss: 1.5561 - categorical_accuracy: 0.1961 - val_loss: 1.4364 - val_categorical_accuracy: 0.5000\n",
      "\n",
      "Epoch 00005: saving model to model_init_2020-05-2410_46_33.444757/model-00005-1.55611-0.19608-1.43637-0.50000.h5\n",
      "Epoch 6/15\n",
      "3/3 [==============================] - 6s 2s/step - loss: 1.5263 - categorical_accuracy: 0.3922 - val_loss: 1.6682 - val_categorical_accuracy: 0.0000e+00\n",
      "\n",
      "Epoch 00006: saving model to model_init_2020-05-2410_46_33.444757/model-00006-1.52632-0.39216-1.66816-0.00000.h5\n",
      "Epoch 7/15\n",
      "3/3 [==============================] - 6s 2s/step - loss: 1.5199 - categorical_accuracy: 0.2941 - val_loss: 1.5329 - val_categorical_accuracy: 0.5000\n",
      "\n",
      "Epoch 00007: saving model to model_init_2020-05-2410_46_33.444757/model-00007-1.51987-0.29412-1.53287-0.50000.h5\n",
      "\n",
      "Epoch 00007: ReduceLROnPlateau reducing learning rate to 0.0002500000118743628.\n",
      "Epoch 8/15\n",
      "3/3 [==============================] - 7s 2s/step - loss: 1.4028 - categorical_accuracy: 0.4510 - val_loss: 1.3183 - val_categorical_accuracy: 0.5000\n",
      "\n",
      "Epoch 00008: saving model to model_init_2020-05-2410_46_33.444757/model-00008-1.40278-0.45098-1.31835-0.50000.h5\n",
      "Epoch 9/15\n",
      "3/3 [==============================] - 6s 2s/step - loss: 1.6256 - categorical_accuracy: 0.2157 - val_loss: 1.4278 - val_categorical_accuracy: 0.7500\n",
      "\n",
      "Epoch 00009: saving model to model_init_2020-05-2410_46_33.444757/model-00009-1.62560-0.21569-1.42782-0.75000.h5\n",
      "Epoch 10/15\n",
      "3/3 [==============================] - 6s 2s/step - loss: 1.4780 - categorical_accuracy: 0.4314 - val_loss: 1.7233 - val_categorical_accuracy: 0.0000e+00\n",
      "\n",
      "Epoch 00010: saving model to model_init_2020-05-2410_46_33.444757/model-00010-1.47797-0.43137-1.72328-0.00000.h5\n",
      "\n",
      "Epoch 00010: ReduceLROnPlateau reducing learning rate to 0.0001250000059371814.\n",
      "Epoch 11/15\n",
      "3/3 [==============================] - 5s 2s/step - loss: 1.4568 - categorical_accuracy: 0.3333 - val_loss: 1.5147 - val_categorical_accuracy: 0.2500\n",
      "\n",
      "Epoch 00011: saving model to model_init_2020-05-2410_46_33.444757/model-00011-1.45683-0.33333-1.51467-0.25000.h5\n",
      "Epoch 12/15\n",
      "3/3 [==============================] - 5s 2s/step - loss: 1.4279 - categorical_accuracy: 0.4118 - val_loss: 1.5515 - val_categorical_accuracy: 0.5000\n",
      "\n",
      "Epoch 00012: saving model to model_init_2020-05-2410_46_33.444757/model-00012-1.42786-0.41176-1.55149-0.50000.h5\n",
      "\n",
      "Epoch 00012: ReduceLROnPlateau reducing learning rate to 6.25000029685907e-05.\n",
      "Epoch 13/15\n",
      "3/3 [==============================] - 6s 2s/step - loss: 1.4796 - categorical_accuracy: 0.2353 - val_loss: 1.2202 - val_categorical_accuracy: 1.0000\n",
      "\n",
      "Epoch 00013: saving model to model_init_2020-05-2410_46_33.444757/model-00013-1.47962-0.23529-1.22018-1.00000.h5\n",
      "Epoch 14/15\n",
      "3/3 [==============================] - 7s 2s/step - loss: 1.5053 - categorical_accuracy: 0.3529 - val_loss: 1.3107 - val_categorical_accuracy: 1.0000\n",
      "\n",
      "Epoch 00014: saving model to model_init_2020-05-2410_46_33.444757/model-00014-1.50534-0.35294-1.31070-1.00000.h5\n",
      "Epoch 15/15\n",
      "3/3 [==============================] - 6s 2s/step - loss: 1.4000 - categorical_accuracy: 0.4118 - val_loss: 1.3991 - val_categorical_accuracy: 0.5000\n",
      "\n",
      "Epoch 00015: saving model to model_init_2020-05-2410_46_33.444757/model-00015-1.39999-0.41176-1.39910-0.50000.h5\n",
      "\n",
      "Epoch 00015: ReduceLROnPlateau reducing learning rate to 3.125000148429535e-05.\n"
     ]
    },
    {
     "data": {
      "text/plain": [
       "<keras.callbacks.History at 0x7f9260444e10>"
      ]
     },
     "execution_count": 16,
     "metadata": {},
     "output_type": "execute_result"
    }
   ],
   "source": [
    "batch_size = 256\n",
    "num_epochs = 15\n",
    "\n",
    "if (num_train_sequences%batch_size) == 0:\n",
    "    steps_per_epoch = int(num_train_sequences/batch_size)\n",
    "else:\n",
    "    steps_per_epoch = (num_train_sequences//batch_size) + 1\n",
    "\n",
    "if (num_val_sequences%batch_size) == 0:\n",
    "    validation_steps = int(num_val_sequences/batch_size)\n",
    "else:\n",
    "    validation_steps = (num_val_sequences//batch_size) + 1\n",
    "    \n",
    "model.fit_generator(train_generator, steps_per_epoch=steps_per_epoch, epochs=num_epochs, verbose=1, \n",
    "                    callbacks=callbacks_list, validation_data=val_generator, \n",
    "                    validation_steps=validation_steps, class_weight=None, workers=1, initial_epoch=0)"
   ]
  },
  {
   "cell_type": "code",
   "execution_count": null,
   "metadata": {},
   "outputs": [],
   "source": []
  }
 ],
 "metadata": {
  "kernelspec": {
   "display_name": "Python 3",
   "language": "python",
   "name": "python3"
  },
  "language_info": {
   "codemirror_mode": {
    "name": "ipython",
    "version": 3
   },
   "file_extension": ".py",
   "mimetype": "text/x-python",
   "name": "python",
   "nbconvert_exporter": "python",
   "pygments_lexer": "ipython3",
   "version": "3.6.8"
  }
 },
 "nbformat": 4,
 "nbformat_minor": 2
}
